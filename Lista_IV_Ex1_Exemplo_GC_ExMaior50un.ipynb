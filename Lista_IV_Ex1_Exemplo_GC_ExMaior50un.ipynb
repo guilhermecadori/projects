{
 "cells": [
  {
   "cell_type": "code",
   "execution_count": 22,
   "id": "18163dfe",
   "metadata": {},
   "outputs": [],
   "source": [
    "# Iportando biblioteca de trabalho\n",
    "import gurobipy as gp\n",
    "import pandas as pd\n"
   ]
  },
  {
   "cell_type": "code",
   "execution_count": 25,
   "id": "8704c7bc",
   "metadata": {},
   "outputs": [],
   "source": [
    "# Configurando parâmetros\n",
    "\n",
    "# Quantidade de áreas a serem formadas\n",
    "p = 3\n",
    "\n",
    "# Tamanho máximo para área a ser formada\n",
    "T = 50\n",
    "\n",
    "# Criando dados as unidades a serem avaliadas\n",
    "# Assumindo que cada área terá um tamanho de 10 acres\n",
    "indiceUnEspacial, beneficio, area = gp.multidict({\n",
    "    \"1\": [25, 10], \"2\": [24, 10], \"3\": [47, 10], \"4\": [40, 10], \"5\": [23, 10], \"6\": [20, 10], \n",
    "    \"7\": [15, 10], \"8\": [25, 10], \"9\": [18, 10], \"10\": [21, 10], \"11\": [16, 10], \"12\": [27, 10],\n",
    "    \"13\": [29, 10], \"14\": [49, 10], \"15\": [47, 10], \"16\": [36, 10], \"17\": [31, 10], \"18\": [21, 10], \n",
    "    \"19\": [49, 10], \"20\": [16, 10], \"21\": [22, 10], \"22\": [38, 10], \"23\": [23, 10], \"24\": [24, 10],\n",
    "    \"25\": [39, 10], \"26\": [35, 10], \"27\": [40, 10], \"28\": [40, 10], \"29\": [16, 10], \"30\": [35, 10], \n",
    "    \"31\": [47, 10], \"32\": [32, 10], \"33\": [46, 10], \"34\": [44, 10], \"35\": [32, 10], \"36\": [43, 10],\n",
    "    \"37\": [41, 10], \"38\": [50, 10], \"39\": [25, 10], \"40\": [15, 10], \"41\": [47, 10], \"42\": [30, 10], \n",
    "    \"43\": [42, 10], \"44\": [32, 10], \"45\": [43, 10], \"46\": [35, 10], \"47\": [46, 10], \"48\": [20, 10], \n",
    "    \"49\": [27, 10], \"50\": [15, 10] })\n",
    "\n",
    "# Criando o modelo\n",
    "m = gp.Model(\"Otimização Espacial\")\n",
    "\n",
    "#### Criando variáveis de decisão\n",
    "# **** \n",
    "#    Obs: esse problema possui múltiplas classes de variáveis de decisão\n",
    "#         e parte dessas não fazer parte da função objetivo\n",
    "# ****\n",
    "\n",
    "# Unidades espaciais - Xi\n",
    "unidadeEspacial = m.addVars(indiceUnEspacial, \n",
    "                            vtype = gp.GRB.BINARY,\n",
    "                            name = \"Unidade Espacial\")\n",
    "\n",
    "# Unidade de área selecionas como \"sink\" (direcionadoras de fluxo) - Vi\n",
    "unidadeEspacialSink = m.addVars(indiceUnEspacial, \n",
    "                            vtype = gp.GRB.BINARY,\n",
    "                            name = \"Unidade Espacial Sink\")\n",
    "\n",
    "# Importando dados de vizinhaça entre i e j\n",
    "vizinhanca = pd.read_csv(\"C:/Guilherme/neighborhood.csv\")\n",
    "\n",
    "# Conferindo dados\n",
    "vizinhanca\n",
    "\n",
    "# Criando relação entre unidade\n",
    "unOrigem = range(len(indiceUnEspacial))\n",
    "unVizinha = range(len(indiceUnEspacial))\n",
    "\n",
    "# Fluxo de i para j direcionada ao Sink - Yij\n",
    "fluxoArea = {}\n",
    "for i in unOrigem:\n",
    "    for j in unVizinha:\n",
    "        fluxoArc[i, j] = m.addVar(vtype=gp.GRB.CONTINUOUS, \n",
    "                                  name=\"Fluxo de Área entre i e j\")\n",
    "\n",
    "# Arco entre i e j utilizado para direcionar o fluxo ao Sink - Yij_Arc\n",
    "fluxoArc = {}\n",
    "for i in unOrigem:\n",
    "    for j in unVizinha:\n",
    "        fluxoArc[i, j] = m.addVar(vtype=gp.GRB.BINARY, \n",
    "                                  name=\"Arco entre i e j\")\n"
   ]
  },
  {
   "cell_type": "code",
   "execution_count": 26,
   "id": "1a6140d2",
   "metadata": {},
   "outputs": [],
   "source": [
    "# Criando a função objetivo\n",
    "m.setObjective(unidadeEspacial.prod(beneficio), gp.GRB.MAXIMIZE)\n"
   ]
  },
  {
   "cell_type": "code",
   "execution_count": null,
   "id": "82910d43",
   "metadata": {},
   "outputs": [],
   "source": [
    "# Criando as restrições\n",
    "\n"
   ]
  },
  {
   "cell_type": "code",
   "execution_count": null,
   "id": "f67f5e54",
   "metadata": {},
   "outputs": [],
   "source": []
  }
 ],
 "metadata": {
  "kernelspec": {
   "display_name": "Python 3 (ipykernel)",
   "language": "python",
   "name": "python3"
  },
  "language_info": {
   "codemirror_mode": {
    "name": "ipython",
    "version": 3
   },
   "file_extension": ".py",
   "mimetype": "text/x-python",
   "name": "python",
   "nbconvert_exporter": "python",
   "pygments_lexer": "ipython3",
   "version": "3.9.13"
  }
 },
 "nbformat": 4,
 "nbformat_minor": 5
}
