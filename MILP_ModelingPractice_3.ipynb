{
 "cells": [
  {
   "cell_type": "markdown",
   "id": "bffbb081-9527-472e-8348-b5db10bb6459",
   "metadata": {},
   "source": [
    "### Lista I - Programação Inteira Mista e Otimização em Redes\n",
    "\n",
    "**Autor:** Guilherme Cadori\n",
    "\n",
    "**Data:** 10/08/2023\n",
    "\n",
    "### Exercício 2"
   ]
  },
  {
   "cell_type": "markdown",
   "id": "e35bb87b-2f7e-43c9-9a21-b2cd2f5fbb86",
   "metadata": {},
   "source": [
    "### Problema 3"
   ]
  },
  {
   "cell_type": "markdown",
   "id": "25ff4431",
   "metadata": {},
   "source": [
    "#### Implementação do Modelo - Versão Não Generalizada"
   ]
  },
  {
   "cell_type": "markdown",
   "id": "ed802b3a",
   "metadata": {},
   "source": [
    "**Item a)** Formulção e implementação do problema"
   ]
  },
  {
   "cell_type": "code",
   "execution_count": 5,
   "id": "7e24a429-3a49-4ba1-af13-d40408dca2a2",
   "metadata": {},
   "outputs": [],
   "source": [
    "# Importando bibliotecas de trabalho\n",
    "import gurobipy as gp\n",
    "\n",
    "\n",
    "# Criando parâmetros\n",
    "# Parâmetros voos\n",
    "demandaVoos = [8000, 9000, 7000, 10000, 9000, 11000]\n",
    "\n",
    "hMesAeromocaExp = 150\n",
    "\n",
    "hSupervisAeromocaIniciante = 100\n",
    "\n",
    "qtInicialAeromocas = 60\n",
    "\n",
    "\n",
    "# Custo aeromoças\n",
    "custoAeromocaExp = 850\n",
    "\n",
    "custpAeromocaIniciante = 450\n",
    "\n",
    "\n",
    "# Criando o modelo\n",
    "m = gp.Model(\"Plano de Contratação\")\n",
    "\n",
    "\n",
    "# Criação das variáveis de decisão\n",
    "qtMeses = len(demandaVoos)\n",
    "\n",
    "qtAeromocaExp = m.addVars(qtMeses, \n",
    "                   vtype = gp.GRB.INTEGER, \n",
    "                   name = \"Quantidade de Aeromoças Experientes\")\n",
    "\n",
    "qtAeromocaIniciante = m.addVars(qtMeses,\n",
    "                   vtype = gp.GRB.INTEGER, \n",
    "                   name = \"Quantidade de Aeromoças Iniciantes\")\n",
    "\n"
   ]
  },
  {
   "cell_type": "code",
   "execution_count": 6,
   "id": "8016044f-9902-43ed-b6bd-3602ad4a61d4",
   "metadata": {},
   "outputs": [],
   "source": [
    "# Criando restrições\n",
    "# Restrições\n",
    "for t in range(qtMeses):\n",
    "    # Atendimento da demanda de voo por mês\n",
    "    m.addConstr(hMesAeromocaExp * qtAeromocaExp[t] - \n",
    "                hSupervisAeromocaIniciante * qtAeromocaIniciante[t] >= demandaVoos[t], \n",
    "                name = f\"Demanda por Vôos no Mês {t}\")\n",
    "\n",
    "    # Restrição de disponibilidade de aeromoças experientes\n",
    "    # Restrição relaxada para fins de possibilitar a viabilidade do problema\n",
    "    if t == 0:\n",
    "        m.addConstr(qtAeromocaExp[t] == qtInicialAeromocas, \n",
    "                    name = f\"Disponibilidade de Aeromoças Inicial\")\n",
    "    else:\n",
    "        m.addConstr(qtAeromocaExp[t] <= 0.97 * qtAeromocaExp[t-1] + qtAeromocaIniciante[t-1],\n",
    "                    name = f\"Disponibilidade no Mês {t}\")\n",
    "\n"
   ]
  },
  {
   "cell_type": "code",
   "execution_count": 7,
   "id": "52237437-259f-40f3-8c0e-349bb3254850",
   "metadata": {},
   "outputs": [
    {
     "name": "stdout",
     "output_type": "stream",
     "text": [
      "Gurobi Optimizer version 10.0.2 build v10.0.2rc0 (win64)\n",
      "\n",
      "CPU model: 11th Gen Intel(R) Core(TM) i7-1165G7 @ 2.80GHz, instruction set [SSE2|AVX|AVX2|AVX512]\n",
      "Thread count: 4 physical cores, 8 logical processors, using up to 8 threads\n",
      "\n",
      "Optimize a model with 12 rows, 12 columns and 28 nonzeros\n",
      "Model fingerprint: 0xbac7d844\n",
      "Variable types: 0 continuous, 12 integer (0 binary)\n",
      "Coefficient statistics:\n",
      "  Matrix range     [1e+00, 2e+02]\n",
      "  Objective range  [5e+02, 9e+02]\n",
      "  Bounds range     [0e+00, 0e+00]\n",
      "  RHS range        [6e+01, 1e+04]\n",
      "Found heuristic solution: objective 348300.00000\n",
      "Presolve removed 4 rows and 4 columns\n",
      "Presolve time: 0.00s\n",
      "Presolved: 8 rows, 8 columns, 19 nonzeros\n",
      "Variable types: 0 continuous, 8 integer (0 binary)\n",
      "Found heuristic solution: objective 346600.00000\n",
      "\n",
      "Root relaxation: objective 3.388285e+05, 0 iterations, 0.00 seconds (0.00 work units)\n",
      "\n",
      "    Nodes    |    Current Node    |     Objective Bounds      |     Work\n",
      " Expl Unexpl |  Obj  Depth IntInf | Incumbent    BestBd   Gap | It/Node Time\n",
      "\n",
      "     0     0 338828.500    0    3 346600.000 338828.500  2.24%     -    0s\n",
      "H    0     0                    342800.00000 338828.500  1.16%     -    0s\n",
      "H    0     0                    339850.00000 338828.500  0.30%     -    0s\n",
      "\n",
      "Cutting planes:\n",
      "  MIR: 3\n",
      "\n",
      "Explored 1 nodes (0 simplex iterations) in 0.01 seconds (0.00 work units)\n",
      "Thread count was 8 (of 8 available processors)\n",
      "\n",
      "Solution count 4: 339850 342800 346600 348300 \n",
      "\n",
      "Optimal solution found (tolerance 1.00e-04)\n",
      "Best objective 3.398500000000e+05, best bound 3.398500000000e+05, gap 0.0000%\n"
     ]
    }
   ],
   "source": [
    "# Função objetivo: Minimizar os custos totais da companhia aérea\n",
    "m.setObjective(gp.quicksum(custoAeromocaExp * qtAeromocaExp[t] + \n",
    "                           custpAeromocaIniciante * qtAeromocaIniciante[t] for t in range(qtMeses)),\n",
    "               gp.GRB.MINIMIZE)\n",
    "\n",
    "# Otimização\n",
    "m.optimize()\n",
    "\n"
   ]
  },
  {
   "cell_type": "code",
   "execution_count": 9,
   "id": "ab484f61-b0ba-4081-beb0-2dab51a63301",
   "metadata": {},
   "outputs": [
    {
     "name": "stdout",
     "output_type": "stream",
     "text": [
      "Plano de Contratação\n",
      "\n",
      "  Mês 1:\n",
      "    Aeromoças experientes: 60.0\n",
      "    Aeromoças em treinamento: 2.0\n",
      "  Mês 2:\n",
      "    Aeromoças experientes: 60.0\n",
      "    Aeromoças em treinamento: 0.0\n",
      "  Mês 3:\n",
      "    Aeromoças experientes: 56.0\n",
      "    Aeromoças em treinamento: 14.0\n",
      "  Mês 4:\n",
      "    Aeromoças experientes: 68.0\n",
      "    Aeromoças em treinamento: 2.0\n",
      "  Mês 5:\n",
      "    Aeromoças experientes: 67.0\n",
      "    Aeromoças em treinamento: 10.0\n",
      "  Mês 6:\n",
      "    Aeromoças experientes: 74.0\n",
      "    Aeromoças em treinamento: -0.0\n",
      "\n",
      "  Custo Total: R$ 339850.0\n"
     ]
    }
   ],
   "source": [
    "# Resultados do modelo resolvido\n",
    "print(\"Plano de Contratação\\n\")\n",
    "\n",
    "for t in range(qtMeses):\n",
    "    print(f\"  Mês {t + 1}:\")\n",
    "    print(f\"    Aeromoças experientes: {qtAeromocaExp[t].X}\")\n",
    "    print(f\"    Aeromoças em treinamento: {qtAeromocaIniciante[t].X}\")\n",
    "\n",
    "# Valor da Função Objetivo\n",
    "print(f\"\\n  Custo Total: R$ {round(m.objVal,2)}\")\n"
   ]
  },
  {
   "cell_type": "markdown",
   "id": "38769321-6d47-46fb-8f7f-a75a0a3d488a",
   "metadata": {},
   "source": [
    "**Item B)** A solução pode ser afetada caso as novas restrições relativas ao mês julho sejam mais rigorosas. Se a quantidade de horas de trabalho de comissários de bordo experientes for inferior ao necessário para atender tanto as demandas de voo quanto à demanda de horas de supervisão, a solução previamente apresentada se tornará inviável."
   ]
  },
  {
   "cell_type": "markdown",
   "id": "89a92c2f",
   "metadata": {},
   "source": [
    "### Fim do Exercício"
   ]
  }
 ],
 "metadata": {
  "kernelspec": {
   "display_name": "Python 3 (ipykernel)",
   "language": "python",
   "name": "python3"
  },
  "language_info": {
   "codemirror_mode": {
    "name": "ipython",
    "version": 3
   },
   "file_extension": ".py",
   "mimetype": "text/x-python",
   "name": "python",
   "nbconvert_exporter": "python",
   "pygments_lexer": "ipython3",
   "version": "3.9.13"
  }
 },
 "nbformat": 4,
 "nbformat_minor": 5
}
