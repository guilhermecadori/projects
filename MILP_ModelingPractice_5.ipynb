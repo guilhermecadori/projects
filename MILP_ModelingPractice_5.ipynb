{
 "cells": [
  {
   "cell_type": "markdown",
   "id": "a85ccc2c",
   "metadata": {},
   "source": [
    "### Lista I - Programação Inteira Mista e Otimização em Redes\n",
    "\n",
    "**Autor:** Guilherme Cadori\n",
    "\n",
    "**Data:** 12/08/2023\n",
    "\n",
    "### Exercício 2"
   ]
  },
  {
   "cell_type": "markdown",
   "id": "f53dcfcc-93c3-4d24-9101-4d2f25adf3f2",
   "metadata": {},
   "source": [
    "### Problema 5"
   ]
  },
  {
   "cell_type": "code",
   "execution_count": 1,
   "id": "aeb12eb4",
   "metadata": {},
   "outputs": [
    {
     "name": "stdout",
     "output_type": "stream",
     "text": [
      "Set parameter Username\n"
     ]
    }
   ],
   "source": [
    "# Importando biblioteca de trabalho\n",
    "import gurobipy as gp\n",
    "\n",
    "# Criando parâmetros\n",
    "\n",
    "centroDistr = [\"CD-A\", \"CD-B\", \"CD-C\", \"CD-D\", \"CD-E\", \"CD-F\" ]\n",
    "     \n",
    "capacidadeMax = {\n",
    "    \"CD-A\": 230,\n",
    "    \"CD-B\": 200, \n",
    "    \"CD-C\": 190, \n",
    "    \"CD-D\": 220,\n",
    "    \"CD-E\": 220,\n",
    "    \"CD-F\": 240}\n",
    "\n",
    "custoFixo = {\n",
    "    \"CD-A\": 1800,\n",
    "    \"CD-B\": 1700, \n",
    "    \"CD-C\": 1300, \n",
    "    \"CD-D\": 2000,\n",
    "    \"CD-E\": 1800,\n",
    "    \"CD-F\": 2300}\n",
    "\n",
    "custoVariavel = {\n",
    "    \"CD-A\": [12, 22, 40, 14, 36, 28],\n",
    "    \"CD-B\": [22, 14, 30, 24, 40, 8],\n",
    "    \"CD-C\": [44, 32, 18, 18, 28, 16],\n",
    "    \"CD-D\": [15, 34, 18, 30, 16, 38],\n",
    "    \"CD-E\": [38, 40, 28, 15, 12, 20],\n",
    "    \"CD-F\": [28, 22, 36, 19, 45, 16]}\n",
    "\n",
    "demandaAno = {\n",
    "    \"CD-A\": 90,\n",
    "    \"CD-B\": 120, \n",
    "    \"CD-C\": 100, \n",
    "    \"CD-D\": 100,\n",
    "    \"CD-E\": 110,\n",
    "    \"CD-F\": 130}\n",
    "\n",
    "\n",
    "# Criando o modelo\n",
    "m = gp.Model(\"Instalação de Centros de Distribuição\")\n",
    "\n",
    "# Criando variáveis de decisão\n",
    "x = {}\n",
    "\n",
    "for cd in centroDistr:\n",
    "    x[cd] = m.addVar(vtype = gp.GRB.BINARY, \n",
    "                     name = f\"x_{cd}\")\n",
    "\n",
    "y = {}\n",
    "\n",
    "for cd in centroDistr:\n",
    "    for j in range(6):\n",
    "        y[cd, j] = m.addVar(vtype = gp.GRB.CONTINUOUS,\n",
    "                            name = f\"y_{cd}_{j+1}\")\n"
   ]
  },
  {
   "cell_type": "code",
   "execution_count": 2,
   "id": "1e77120d",
   "metadata": {},
   "outputs": [
    {
     "data": {
      "text/plain": [
       "<gurobi.Constr *Awaiting Model Update*>"
      ]
     },
     "execution_count": 2,
     "metadata": {},
     "output_type": "execute_result"
    }
   ],
   "source": [
    "# Criando restrições\n",
    "# Restrições de capacidade máxima\n",
    "for cd in centroDistr:\n",
    "    m.addConstr(gp.quicksum(y[cd, j] for j in range(6)) <= capacidadeMax[cd],\n",
    "                name = f\"Capacidade Máxima {cd}\")\n",
    "\n",
    "# Restrições de demanda\n",
    "for j in range(6):\n",
    "    m.addConstr(gp.quicksum(y[cd, j] for cd in centroDistr) == demandaAno[centroDistr[j]], \n",
    "                name=f'Demanda por Distribuidor {j+1}')\n",
    "\n",
    "\n",
    "# Restrição de quantidade de centros de distribuição a serem instalados\n",
    "m.addConstr(gp.quicksum(x[cd] for cd in centroDistr) == 6,\n",
    "            name=\"Centros de Distribuição a serem instalados\")\n",
    "\n"
   ]
  },
  {
   "cell_type": "code",
   "execution_count": 3,
   "id": "6ef6a9be-430f-4527-9208-c0eb048275fc",
   "metadata": {},
   "outputs": [
    {
     "name": "stdout",
     "output_type": "stream",
     "text": [
      "Gurobi Optimizer version 10.0.2 build v10.0.2rc0 (win64)\n",
      "\n",
      "CPU model: 11th Gen Intel(R) Core(TM) i7-1165G7 @ 2.80GHz, instruction set [SSE2|AVX|AVX2|AVX512]\n",
      "Thread count: 4 physical cores, 8 logical processors, using up to 8 threads\n",
      "\n",
      "Optimize a model with 13 rows, 42 columns and 78 nonzeros\n",
      "Model fingerprint: 0xae0cffcf\n",
      "Variable types: 36 continuous, 6 integer (6 binary)\n",
      "Coefficient statistics:\n",
      "  Matrix range     [1e+00, 1e+00]\n",
      "  Objective range  [8e+00, 2e+03]\n",
      "  Bounds range     [1e+00, 1e+00]\n",
      "  RHS range        [6e+00, 2e+02]\n",
      "Presolve removed 1 rows and 6 columns\n",
      "Presolve time: 0.00s\n",
      "Presolved: 12 rows, 36 columns, 72 nonzeros\n",
      "Variable types: 36 continuous, 0 integer (0 binary)\n",
      "\n",
      "Root relaxation: objective 1.962000e+04, 2 iterations, 0.00 seconds (0.00 work units)\n",
      "\n",
      "    Nodes    |    Current Node    |     Objective Bounds      |     Work\n",
      " Expl Unexpl |  Obj  Depth IntInf | Incumbent    BestBd   Gap | It/Node Time\n",
      "\n",
      "*    0     0               0    19620.000000 19620.0000  0.00%     -    0s\n",
      "\n",
      "Explored 1 nodes (2 simplex iterations) in 0.02 seconds (0.00 work units)\n",
      "Thread count was 8 (of 8 available processors)\n",
      "\n",
      "Solution count 1: 19620 \n",
      "\n",
      "Optimal solution found (tolerance 1.00e-04)\n",
      "Best objective 1.962000000000e+04, best bound 1.962000000000e+04, gap 0.0000%\n"
     ]
    }
   ],
   "source": [
    "# Criando a Função objetivo\n",
    "m.setObjective(\n",
    "    gp.quicksum(custoFixo[cd] * x[cd] for cd in centroDistr) +\n",
    "    gp.quicksum(custoVariavel[cd][j] * y[cd, j] for cd in centroDistr for j in range(6)),\n",
    "    gp.GRB.MINIMIZE\n",
    ")\n",
    "\n",
    "# Resolvendo o modelo\n",
    "m.optimize()\n"
   ]
  },
  {
   "cell_type": "code",
   "execution_count": 5,
   "id": "1d8b8332-2d0b-4380-a06f-686be777e077",
   "metadata": {},
   "outputs": [
    {
     "name": "stdout",
     "output_type": "stream",
     "text": [
      "Centros de Distribuição a serem instalados:\n",
      "Instalar Centro de Distribuição CD-A\n",
      "Instalar Centro de Distribuição CD-B\n",
      "Instalar Centro de Distribuição CD-C\n",
      "Instalar Centro de Distribuição CD-D\n",
      "Instalar Centro de Distribuição CD-E\n",
      "Instalar Centro de Distribuição CD-F\n",
      "\n",
      "Custo total: R$ 19620.0\n"
     ]
    }
   ],
   "source": [
    "# Resultados\n",
    "print(\"Centros de Distribuição a serem instalados:\")\n",
    "\n",
    "for cd in centroDistr:\n",
    "    if x[cd].X > 0:\n",
    "        print(f\"Instalar Centro de Distribuição {cd}\")\n",
    "\n",
    "        \n",
    "# Valor da Função Objetivo\n",
    "print(f\"\\nCusto total: R$ {m.objVal}\")\n"
   ]
  },
  {
   "cell_type": "markdown",
   "id": "3b6e6295",
   "metadata": {},
   "source": [
    "### Fim do Exercício"
   ]
  }
 ],
 "metadata": {
  "kernelspec": {
   "display_name": "Python 3 (ipykernel)",
   "language": "python",
   "name": "python3"
  },
  "language_info": {
   "codemirror_mode": {
    "name": "ipython",
    "version": 3
   },
   "file_extension": ".py",
   "mimetype": "text/x-python",
   "name": "python",
   "nbconvert_exporter": "python",
   "pygments_lexer": "ipython3",
   "version": "3.9.13"
  }
 },
 "nbformat": 4,
 "nbformat_minor": 5
}
