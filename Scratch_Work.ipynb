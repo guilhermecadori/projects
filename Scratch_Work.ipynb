{
 "cells": [
  {
   "cell_type": "markdown",
   "id": "e8918482",
   "metadata": {},
   "source": [
    "## Python Practice\n",
    "\n",
    "- This is space simply for bare scratch work\n"
   ]
  },
  {
   "cell_type": "markdown",
   "id": "28148cbd",
   "metadata": {},
   "source": [
    "### Concept Refresh"
   ]
  },
  {
   "cell_type": "code",
   "execution_count": 14,
   "id": "c6f19b01",
   "metadata": {},
   "outputs": [
    {
     "name": "stdout",
     "output_type": "stream",
     "text": [
      "Hello, World!\n",
      "\n",
      "Hello, World!\n",
      "\n",
      "Hello, World!\n",
      "\n"
     ]
    }
   ],
   "source": [
    "# 'For' loop\n",
    "i = 0\n",
    "\n",
    "for i in range(4):\n",
    "    \n",
    "    if i < 3:\n",
    "        \n",
    "        print(\"Hello, World!\\n\")\n",
    "        \n",
    "        i=+1\n",
    "\n"
   ]
  },
  {
   "cell_type": "code",
   "execution_count": 13,
   "id": "9d8f8962",
   "metadata": {},
   "outputs": [
    {
     "name": "stdout",
     "output_type": "stream",
     "text": [
      "6.0\n",
      "6.7\n",
      "10.7\n"
     ]
    }
   ],
   "source": [
    "# 'For each' loop\n",
    "sequence = [18, 20, 32]\n",
    "\n",
    "for element in sequence:\n",
    "    \n",
    "    element_division_by_three = round(element / 3, 1)\n",
    "    \n",
    "    print(element_division_by_three)\n",
    "    "
   ]
  },
  {
   "cell_type": "code",
   "execution_count": 18,
   "id": "e6da4aea",
   "metadata": {
    "scrolled": false
   },
   "outputs": [
    {
     "name": "stdout",
     "output_type": "stream",
     "text": [
      "Current iteration: 0\n",
      "Current iteration: 1\n",
      "Current iteration: 2\n",
      "Current iteration: 3\n",
      "Current iteration: 4\n",
      "Current iteration: 5\n",
      "Current iteration: 6\n",
      "Current iteration: 7\n",
      "Current iteration: 8\n",
      "Current iteration: 9\n",
      "Current iteration: 10\n"
     ]
    }
   ],
   "source": [
    "# 'While' loop\n",
    "max_it = 10\n",
    "it = 0\n",
    "\n",
    "while it <= max_it:\n",
    "    \n",
    "    print(f'Current iteration: {it}')\n",
    "    \n",
    "    it += 1\n",
    "    "
   ]
  },
  {
   "cell_type": "code",
   "execution_count": 20,
   "id": "297a0db5",
   "metadata": {},
   "outputs": [
    {
     "data": {
      "text/plain": [
       "1010"
      ]
     },
     "execution_count": 20,
     "metadata": {},
     "output_type": "execute_result"
    }
   ],
   "source": [
    "# Functions\n",
    "def soma(a, b):\n",
    "    \n",
    "    soma = a + b\n",
    "    \n",
    "    return soma\n",
    "\n",
    "# Test\n",
    "soma(1000, 10)\n"
   ]
  },
  {
   "cell_type": "code",
   "execution_count": 23,
   "id": "e49afc0b",
   "metadata": {},
   "outputs": [
    {
     "data": {
      "text/plain": [
       "\"Here's your rice and beans!\""
      ]
     },
     "execution_count": 23,
     "metadata": {},
     "output_type": "execute_result"
    }
   ],
   "source": [
    "# New function\n",
    "def heresTheFood(food_type):\n",
    "    \n",
    "    action = f\"Here's your {food_type}!\"\n",
    "    \n",
    "    return action\n",
    "\n",
    "# Test\n",
    "heresTheFood('rice and beans')\n"
   ]
  },
  {
   "cell_type": "code",
   "execution_count": 32,
   "id": "96b95742",
   "metadata": {},
   "outputs": [
    {
     "name": "stdout",
     "output_type": "stream",
     "text": [
      "Player Statistics\n",
      "Health: 85\n",
      "Strenght: 100\n"
     ]
    }
   ],
   "source": [
    "# More complex data\n",
    "player_1 = {'stat1': 85,\n",
    "            'stat2': 100}\n",
    "# New function\n",
    "def player_stats():\n",
    "    \n",
    "    print(\"Player Statistics\")\n",
    "    print(f\"Health: {player_1['stat1']}\")\n",
    "    print(f\"Strenght: {player_1['stat2']}\")\n",
    "    \n",
    "    return\n",
    "\n",
    "player_stats()\n"
   ]
  },
  {
   "cell_type": "code",
   "execution_count": 56,
   "id": "0abad53d",
   "metadata": {},
   "outputs": [
    {
     "data": {
      "text/plain": [
       "6"
      ]
     },
     "execution_count": 56,
     "metadata": {},
     "output_type": "execute_result"
    }
   ],
   "source": [
    "# Recursion - An Example\n",
    "def recursiveSum(n):\n",
    "    \n",
    "    if n <=1:    \n",
    "        return n\n",
    "    else:\n",
    "        n = n + recursiveSum(n-1)\n",
    "        return n\n",
    "    return n\n",
    "\n",
    "# Test\n",
    "recursiveSum(n=3)\n"
   ]
  },
  {
   "cell_type": "markdown",
   "id": "79e4efe9",
   "metadata": {},
   "source": [
    "How it works:\n",
    "\n",
    "    Base Case: If n <= 1, the function returns n and stops the recursion.\n",
    "    Recursive Case: If n > 1, the function calculates n + recursiveSum(n - 1), and this continues until it reaches the base case.\n",
    "\n",
    "Output:\n",
    "\n",
    "When you call recursiveSum(n=3), the steps are:\n",
    "\n",
    "    recursiveSum(3) calls recursiveSum(2) and returns 3 + result of recursiveSum(2)\n",
    "    recursiveSum(2) calls recursiveSum(1) and returns 2 + result of recursiveSum(1)\n",
    "    recursiveSum(1) hits the base case and returns 1\n",
    "\n",
    "Thus, the final result is 3 + 2 + 1 = 6."
   ]
  },
  {
   "cell_type": "markdown",
   "id": "a2da66a5",
   "metadata": {},
   "source": [
    "### Code Wars"
   ]
  },
  {
   "cell_type": "markdown",
   "id": "18deba5a",
   "metadata": {},
   "source": [
    "Complete the function that takes a non-negative integer n as input, and returns a list of all the powers of 2 with the exponent ranging from 0 to n ( inclusive ).\n",
    "Examples\n",
    "\n",
    "n = 0  ==> [1]       ==> [2^0]\n",
    "\n",
    "n = 1  ==> [1, 2]    ==> [2^0, 2^1]\n",
    "\n",
    "n = 2  ==> [1, 2, 4] ==> [2^0, 2^1, 2^2]\n"
   ]
  },
  {
   "cell_type": "code",
   "execution_count": 12,
   "id": "5bd64e6c",
   "metadata": {},
   "outputs": [],
   "source": [
    "# Code Wards kata\n",
    "def powers_of_two(n):\n",
    "    \n",
    "    list_of_powers = []\n",
    "    \n",
    "    for power in range(n+1):\n",
    "        \n",
    "        result = 2**power\n",
    "        \n",
    "        list_of_powers.append(result)\n",
    "    \n",
    "    return list_of_powers\n"
   ]
  },
  {
   "cell_type": "code",
   "execution_count": 13,
   "id": "d5c8641a",
   "metadata": {},
   "outputs": [
    {
     "data": {
      "text/plain": [
       "[1, 2, 4, 8, 16]"
      ]
     },
     "execution_count": 13,
     "metadata": {},
     "output_type": "execute_result"
    }
   ],
   "source": [
    "powers_of_two(4)"
   ]
  },
  {
   "cell_type": "code",
   "execution_count": null,
   "id": "263507eb",
   "metadata": {},
   "outputs": [],
   "source": []
  },
  {
   "cell_type": "code",
   "execution_count": null,
   "id": "9fd9ce58",
   "metadata": {},
   "outputs": [],
   "source": []
  },
  {
   "cell_type": "code",
   "execution_count": null,
   "id": "6f68ecab",
   "metadata": {},
   "outputs": [],
   "source": []
  },
  {
   "cell_type": "code",
   "execution_count": null,
   "id": "0c974fc7",
   "metadata": {},
   "outputs": [],
   "source": []
  },
  {
   "cell_type": "code",
   "execution_count": null,
   "id": "4d55c687",
   "metadata": {},
   "outputs": [],
   "source": []
  },
  {
   "cell_type": "code",
   "execution_count": null,
   "id": "522ebc9c",
   "metadata": {},
   "outputs": [],
   "source": []
  },
  {
   "cell_type": "code",
   "execution_count": null,
   "id": "5a9ba9ac",
   "metadata": {},
   "outputs": [],
   "source": []
  },
  {
   "cell_type": "code",
   "execution_count": null,
   "id": "1904d770",
   "metadata": {},
   "outputs": [],
   "source": []
  },
  {
   "cell_type": "code",
   "execution_count": null,
   "id": "e8e004d9",
   "metadata": {},
   "outputs": [],
   "source": []
  }
 ],
 "metadata": {
  "kernelspec": {
   "display_name": "Python 3 (ipykernel)",
   "language": "python",
   "name": "python3"
  },
  "language_info": {
   "codemirror_mode": {
    "name": "ipython",
    "version": 3
   },
   "file_extension": ".py",
   "mimetype": "text/x-python",
   "name": "python",
   "nbconvert_exporter": "python",
   "pygments_lexer": "ipython3",
   "version": "3.9.13"
  },
  "toc": {
   "base_numbering": 1,
   "nav_menu": {},
   "number_sections": true,
   "sideBar": true,
   "skip_h1_title": false,
   "title_cell": "Table of Contents",
   "title_sidebar": "Contents",
   "toc_cell": false,
   "toc_position": {},
   "toc_section_display": true,
   "toc_window_display": false
  }
 },
 "nbformat": 4,
 "nbformat_minor": 5
}
