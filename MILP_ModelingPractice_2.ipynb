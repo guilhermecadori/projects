{
 "cells": [
  {
   "cell_type": "markdown",
   "id": "98251c8c",
   "metadata": {},
   "source": [
    "### Lista I - Programação Inteira Mista e Otimização em Redes\n",
    "\n",
    "**Autor:** Guilherme Cadori\n",
    "\n",
    "**Data:** 10/08/2023\n",
    "\n",
    "### Exercício 2"
   ]
  },
  {
   "cell_type": "markdown",
   "id": "fc56ad65-3824-44ff-8edd-24c32ee549fd",
   "metadata": {},
   "source": [
    "### Problema 2"
   ]
  },
  {
   "cell_type": "markdown",
   "id": "70811a56",
   "metadata": {},
   "source": [
    "#### Implementação do Modelo - Versão Não Generalizada"
   ]
  },
  {
   "cell_type": "code",
   "execution_count": 26,
   "id": "e024f34a-80e7-4828-a95b-443e72784de5",
   "metadata": {},
   "outputs": [],
   "source": [
    "# Importando biblioteca de trabalho\n",
    "import gurobipy as gp\n",
    "\n",
    "\n",
    "# Criando o modelo\n",
    "m = gp.Model('Combate a Incêndios')\n",
    "\n",
    "\n",
    "# Criando variáveis de decisão\n",
    "# Criando um conjunto inicialemente vazio de restriçõesd\n",
    "x = {}\n",
    "\n",
    "x['Heli. AH-1'] = m.addVar(vtype = gp.GRB.INTEGER, \n",
    "                     name = 'Helicóptero AH-1')\n",
    "\n",
    "x['Avião Tanque'] = m.addVar(vtype = gp.GRB.INTEGER, \n",
    "                       name = 'Avião Tanque')\n",
    "\n",
    "x['Avião B67'] = m.addVar(vtype=gp.GRB.INTEGER,\n",
    "                    name = 'Avião B67')\n",
    "\n"
   ]
  },
  {
   "cell_type": "code",
   "execution_count": 27,
   "id": "29feb288",
   "metadata": {},
   "outputs": [
    {
     "data": {
      "text/plain": [
       "<gurobi.Constr *Awaiting Model Update*>"
      ]
     },
     "execution_count": 27,
     "metadata": {},
     "output_type": "execute_result"
    }
   ],
   "source": [
    "# Criando restrições\n",
    "m.addConstr(15000 * x['Heli. AH-1']  + \n",
    "            40000 * x['Avião Tanque'] + \n",
    "            85000 * x['Avião B67'] >= 3000, \n",
    "            name = 'cobertura_area_floresta')\n",
    "\n",
    "m.addConstr(2 * x['Heli. AH-1'] + \n",
    "            2 * x['Avião Tanque'] + \n",
    "            2 * x['Avião B67'] <= 14, \n",
    "            name = 'disponibilidade_pilotos_aviao')\n",
    "\n",
    "m.addConstr(2 * x['Heli. AH-1'] <= 10, \n",
    "            name = 'disponibilidade_pilotos_helicoptero')\n",
    "\n",
    "m.addConstr(1 * x['Avião Tanque'] + \n",
    "            3 * x['Avião B67'] <= 22, \n",
    "            name = 'disponibilidade_operadores')\n",
    "\n"
   ]
  },
  {
   "cell_type": "code",
   "execution_count": 28,
   "id": "63e70539-4ac9-4a3f-aa74-8730fde77813",
   "metadata": {},
   "outputs": [
    {
     "name": "stdout",
     "output_type": "stream",
     "text": [
      "Gurobi Optimizer version 10.0.2 build v10.0.2rc0 (win64)\n",
      "\n",
      "CPU model: 11th Gen Intel(R) Core(TM) i7-1165G7 @ 2.80GHz, instruction set [SSE2|AVX|AVX2|AVX512]\n",
      "Thread count: 4 physical cores, 8 logical processors, using up to 8 threads\n",
      "\n",
      "Optimize a model with 4 rows, 3 columns and 9 nonzeros\n",
      "Model fingerprint: 0x73ec9b4a\n",
      "Variable types: 0 continuous, 3 integer (0 binary)\n",
      "Coefficient statistics:\n",
      "  Matrix range     [1e+00, 9e+04]\n",
      "  Objective range  [2e+03, 1e+04]\n",
      "  Bounds range     [0e+00, 0e+00]\n",
      "  RHS range        [1e+01, 3e+03]\n",
      "Presolve removed 4 rows and 3 columns\n",
      "Presolve time: 0.00s\n",
      "Presolve: All rows and columns removed\n",
      "\n",
      "Explored 0 nodes (0 simplex iterations) in 0.02 seconds (0.00 work units)\n",
      "Thread count was 1 (of 8 available processors)\n",
      "\n",
      "Solution count 1: 2000 \n",
      "\n",
      "Optimal solution found (tolerance 1.00e-04)\n",
      "Best objective 2.000000000000e+03, best bound 2.000000000000e+03, gap 0.0000%\n"
     ]
    }
   ],
   "source": [
    "# Criando a função objetivo\n",
    "m.setObjective(2000 * x['Heli. AH-1'] + \n",
    "               4000 * x['Avião Tanque'] + \n",
    "               10000 * x['Avião B67'],\n",
    "               gp.GRB.MINIMIZE)\n",
    "\n",
    "# Resolvendo o modelo\n",
    "m.optimize()\n"
   ]
  },
  {
   "cell_type": "code",
   "execution_count": 32,
   "id": "509b5f9c-4a84-4020-80e8-55f06d06aa9d",
   "metadata": {},
   "outputs": [
    {
     "name": "stdout",
     "output_type": "stream",
     "text": [
      "Operação Ataque Massivo:\n",
      "\n",
      "Quantidade Helicópteros AH-1: 1.0\n",
      "Quantidade Aviões Tanque: 0.0\n",
      "Quantidade Aviões B67: 0.0\n",
      "\n",
      "Custo Total: R$ 2000.0\n"
     ]
    }
   ],
   "source": [
    "# Resultados\n",
    "print(\"Operação Ataque Massivo:\\n\")\n",
    "print(f\"Quantidade Helicópteros AH-1: {x['Heli. AH-1'].x}\")\n",
    "print(f\"Quantidade Aviões Tanque: {-x['Avião Tanque'].x}\")\n",
    "print(f\"Quantidade Aviões B67: {-x['Avião B67'].x}\")\n",
    "print(f\"\\nCusto Total: R$ {round(m.objVal, 2)}\")\n"
   ]
  },
  {
   "cell_type": "markdown",
   "id": "bed2747c",
   "metadata": {},
   "source": [
    "### Fim do Exercício"
   ]
  }
 ],
 "metadata": {
  "kernelspec": {
   "display_name": "Python 3 (ipykernel)",
   "language": "python",
   "name": "python3"
  },
  "language_info": {
   "codemirror_mode": {
    "name": "ipython",
    "version": 3
   },
   "file_extension": ".py",
   "mimetype": "text/x-python",
   "name": "python",
   "nbconvert_exporter": "python",
   "pygments_lexer": "ipython3",
   "version": "3.9.13"
  }
 },
 "nbformat": 4,
 "nbformat_minor": 5
}
