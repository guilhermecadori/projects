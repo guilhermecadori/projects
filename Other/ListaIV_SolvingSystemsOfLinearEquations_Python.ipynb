{
 "cells": [
  {
   "cell_type": "markdown",
   "id": "eefeed32",
   "metadata": {},
   "source": [
    "\n",
    "***Lista IV - Python:*** Numpy\n",
    "\n",
    "Guilherme Cadori\n",
    "\n",
    "20/05/2023\n"
   ]
  },
  {
   "cell_type": "markdown",
   "id": "29060747",
   "metadata": {},
   "source": [
    "### Aula: *Solução de Sistemas de Equações Lineares*\n",
    "\n",
    "#### Método de Eliminação de Gauss"
   ]
  },
  {
   "cell_type": "markdown",
   "id": "ca930b3d",
   "metadata": {},
   "source": [
    "O Método de Eliminação de Gauss tem por objetivo partir de um sistema de equações lineares simultâneas na forma *Ax = b* e chegar a um sistema *Ux = c*. Considere que a matrix *A* é formada pelas porções *U* e *L*, em que *U* é a matriz triangular superior e *L* é uma matriz triangular inferior, ambas com zeros na diagonal. Partindo da forma *Ux = C*, os valores de *x* são calculados iterativamente através do processo de substituição reversa.\n",
    "\n",
    "Esse método é um dos mais comumente utilizados para resolver sistemas de equações lineares. O procedimento consiste em duas partes: a fase de eliminação e a fase de substituição reversa. \n",
    "\n",
    "\n",
    "***Fase de Eliminação***: O objetivo da fase de eliminação é transformar o sistema *Ax = b* na forma *Ux = c* utilizando técnicas de operações elementares, utilizando a multiplicação de uma equação *j* por uma constante *λ* e subtraindo a mesma da equação anterior *i*, conforme ilustrado abaixo:\n",
    "\n",
    "$$ Eq.(i) \\gets Eq.(i) - \\lambda * Eq.(j) $$\n"
   ]
  },
  {
   "cell_type": "markdown",
   "id": "beaf606d",
   "metadata": {},
   "source": [
    "***Fase de Substituição Reversa:*** A variáveis podem agora ser calculadas ao substituir a valor da primeira variável encontrada na equação imediatmente anterior a mesma no sistema, obtendo-se assim, iterativamente, o valor de cada variável que constitui o vetor *x*."
   ]
  },
  {
   "cell_type": "markdown",
   "id": "d0387ec7",
   "metadata": {},
   "source": [
    "#### Impletmentação Computacional do Método de Eliminação de Gauss"
   ]
  },
  {
   "cell_type": "code",
   "execution_count": 5,
   "id": "a1937722",
   "metadata": {},
   "outputs": [],
   "source": [
    "# Importando biblioteca de suporte\n",
    "import numpy as np\n",
    "\n",
    "\n",
    "# Criando uma função para executar o algoritmo do Método de Eliminação de Gauss\n",
    "def eliminGauss(a, b):\n",
    "    \n",
    "    n = len(b)\n",
    "   \n",
    "    # Fase de Eliminação\n",
    "    for k in range(0, n - 1):\n",
    "        for i in range(k + 1, n):\n",
    "            if a[i, k] != 0.0:\n",
    "                \n",
    "                lam = a [i, k] / a[k, k]\n",
    "            \n",
    "                a[i, k+1 : n] = a[i, k+1 : n] - lam * a[k, k+1 : n]\n",
    "                \n",
    "                b[i] = b[i] - lam * b[k]\n",
    "    \n",
    "    # Fase de Substituição Reversa\n",
    "    for k in range(n - 1, -1, -1):\n",
    "        b[k] = (b[k] - np.dot(a[k, k+1 : n], b[k+1 : n])) / a[k, k]\n",
    "   \n",
    "    return b\n"
   ]
  },
  {
   "cell_type": "code",
   "execution_count": 6,
   "id": "aed83da9",
   "metadata": {},
   "outputs": [
    {
     "name": "stdout",
     "output_type": "stream",
     "text": [
      "A valores do vetor x são: \n",
      " [   416.66666667  -3125.00000004   9250.00000012 -13500.00000017\n",
      "   9709.33333345  -2751.00000003]\n",
      "\n",
      "Resultado do Teste: Ax - b = 0\n",
      "Teste: [ 9.09494702e-13  1.81898940e-12  3.63797881e-12  1.09139364e-11\n",
      " -2.54658516e-11  3.63797881e-11]\n"
     ]
    }
   ],
   "source": [
    "# Testando a função\n",
    "\n",
    "# Criando uma matriz para o teste\n",
    "def matrizTeste(v):\n",
    "   \n",
    "    n = len(v)\n",
    "    \n",
    "    a = np.zeros((n, n))\n",
    "    \n",
    "    for j in range(n):\n",
    "        a[:,j] = v**(n - j - 1)\n",
    "        \n",
    "    return a\n",
    "\n",
    "v = np.array([1.0, 1.2, 1.4, 1.6, 1.8, 2.0])\n",
    "\n",
    "b = np.array([0.0, 1.0, 0.0, 1.0, 0.0, 1.0])\n",
    "\n",
    "a = matrizTeste(v)\n",
    "\n",
    "aOriginal = a.copy() # Criando uma cópia do vetor v original\n",
    "\n",
    "bOriginal = b.copy() # Criando uma cópia do vetor b original\n",
    "\n",
    "\n",
    "# Resolvendo o sistema de equações lineares representados pela matriz \"matrizTeste\"\n",
    "x = eliminGauss(a, b)\n",
    "\n",
    "\n",
    "# Imprimindo os resultados dos cálculos e testes de validação da função\n",
    "print('A valores do vetor x são: \\n', x)\n",
    "print('\\nResultado do Teste: Ax - b = 0')\n",
    "print('Teste:', np.dot(aOriginal, x) - bOriginal)\n"
   ]
  },
  {
   "cell_type": "markdown",
   "id": "2dab5062",
   "metadata": {},
   "source": [
    "Os valores do vetor *x* são apresentados pela impressão do array Numpy e podem ser considerados corretos dados os resultados do teste Ax - b = 0, o qual é verdadeiro para todos os elementos do vetor *x*. Note que, dados os erros de arredondamento computacional esperados de operações com matrizes, os valores do teste não são exatamente zero, contudo são muito pequenos dados seus expoentes negativos de exponenciação."
   ]
  },
  {
   "cell_type": "code",
   "execution_count": null,
   "id": "52063b2d",
   "metadata": {},
   "outputs": [],
   "source": []
  }
 ],
 "metadata": {
  "kernelspec": {
   "display_name": "Python 3 (ipykernel)",
   "language": "python",
   "name": "python3"
  },
  "language_info": {
   "codemirror_mode": {
    "name": "ipython",
    "version": 3
   },
   "file_extension": ".py",
   "mimetype": "text/x-python",
   "name": "python",
   "nbconvert_exporter": "python",
   "pygments_lexer": "ipython3",
   "version": "3.9.13"
  }
 },
 "nbformat": 4,
 "nbformat_minor": 5
}
