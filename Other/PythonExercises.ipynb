{
 "cells": [
  {
   "cell_type": "markdown",
   "id": "e4fb4794",
   "metadata": {},
   "source": [
    "## Python Exercises\n",
    "\n",
    "**Author:** Guilherme Cadori\n",
    "\n",
    "**Date:** 26/03/2024\n"
   ]
  },
  {
   "cell_type": "code",
   "execution_count": 12,
   "id": "ea66b6a7",
   "metadata": {},
   "outputs": [
    {
     "name": "stdout",
     "output_type": "stream",
     "text": [
      "Olá, Python!\n"
     ]
    }
   ],
   "source": [
    "# 1. Escreva um programa simples que exiba \"Olá, Python!\" na tela.\n",
    "def Ola():\n",
    "    print('Olá, Python!')\n",
    "    \n",
    "    return\n",
    "\n",
    "# Testando a função\n",
    "Ola()\n"
   ]
  },
  {
   "cell_type": "code",
   "execution_count": 13,
   "id": "f06de839",
   "metadata": {},
   "outputs": [
    {
     "data": {
      "text/plain": [
       "'3.9.13 (main, Aug 25 2022, 23:51:50) [MSC v.1916 64 bit (AMD64)]'"
      ]
     },
     "execution_count": 13,
     "metadata": {},
     "output_type": "execute_result"
    }
   ],
   "source": [
    "# 2.Como você pode verificar a versão do Python instalada em seu computador?\n",
    "import sys\n",
    "\n",
    "sys.version\n",
    "\n",
    "# Via cmd utilizar apenas \"python --version\"\n"
   ]
  },
  {
   "cell_type": "code",
   "execution_count": 14,
   "id": "9662447c",
   "metadata": {},
   "outputs": [
    {
     "data": {
      "text/plain": [
       "31"
      ]
     },
     "execution_count": 14,
     "metadata": {},
     "output_type": "execute_result"
    }
   ],
   "source": [
    "# 3.Crie uma variável chamada idade e atribua o valor da sua idade a ela.\n",
    "idade = 31\n",
    "\n",
    "idade\n"
   ]
  },
  {
   "cell_type": "code",
   "execution_count": 15,
   "id": "56eb7db7",
   "metadata": {},
   "outputs": [
    {
     "data": {
      "text/plain": [
       "12"
      ]
     },
     "execution_count": 15,
     "metadata": {},
     "output_type": "execute_result"
    }
   ],
   "source": [
    "# 4. Escreva um programa que calcule a soma de dois números. Sem usar função.\n",
    "a = 10\n",
    "b = 2\n",
    "soma = a + b\n",
    "\n",
    "soma\n"
   ]
  },
  {
   "cell_type": "code",
   "execution_count": 16,
   "id": "118cbbbc",
   "metadata": {},
   "outputs": [
    {
     "name": "stdout",
     "output_type": "stream",
     "text": [
      "Par\n",
      "Ímpar\n"
     ]
    }
   ],
   "source": [
    "# 5. Escreva um programa que verifica se um número é par ou ímpar.\n",
    "def imparPar(a):\n",
    "    if a % 2 == 0:\n",
    "        print('Par')\n",
    "    else:\n",
    "        print('Ímpar')\n",
    "    \n",
    "    return\n",
    "\n",
    "# Testando\n",
    "imparPar(10)\n",
    "imparPar(5)\n"
   ]
  },
  {
   "cell_type": "code",
   "execution_count": 17,
   "id": "99767b80",
   "metadata": {},
   "outputs": [
    {
     "name": "stdout",
     "output_type": "stream",
     "text": [
      "[1, 2, 3, 4, 5] \n",
      "\n",
      "3\n"
     ]
    }
   ],
   "source": [
    "# 6. Crie uma lista com os números de 1 a 5 e exiba o terceiro elemento.\n",
    "lista = [i for i in range(1, 6)]\n",
    "\n",
    "print(lista,'\\n')\n",
    "\n",
    "# Acessando o terceiro elemento\n",
    "print(lista[2])\n"
   ]
  },
  {
   "cell_type": "code",
   "execution_count": 18,
   "id": "7ba4a7e5",
   "metadata": {},
   "outputs": [
    {
     "data": {
      "text/plain": [
       "12"
      ]
     },
     "execution_count": 18,
     "metadata": {},
     "output_type": "execute_result"
    }
   ],
   "source": [
    "# 7. Escreva uma função que recebe dois números como parâmetros e retorna a soma deles. Use esta função\n",
    "def soma(a, b):\n",
    "    soma = a + b\n",
    "    \n",
    "    return soma\n",
    "\n",
    "soma(10, 2)\n"
   ]
  },
  {
   "cell_type": "code",
   "execution_count": 19,
   "id": "80ba2660",
   "metadata": {},
   "outputs": [
    {
     "data": {
      "text/plain": [
       "'OLÁ, PYTHON'"
      ]
     },
     "execution_count": 19,
     "metadata": {},
     "output_type": "execute_result"
    }
   ],
   "source": [
    "# 8. Crie uma string e converta todas as letras para maiúsculas.\n",
    "frase = 'Olá, Python'\n",
    "\n",
    "frase.upper()\n"
   ]
  },
  {
   "cell_type": "code",
   "execution_count": 20,
   "id": "823f6b35",
   "metadata": {},
   "outputs": [
    {
     "data": {
      "text/plain": [
       "1"
      ]
     },
     "execution_count": 20,
     "metadata": {},
     "output_type": "execute_result"
    }
   ],
   "source": [
    "# 9. Importe o módulo random e gere um número aleatório entre 1 e 10.\n",
    "import random\n",
    "\n",
    "random.randint(0, 10)\n"
   ]
  },
  {
   "cell_type": "code",
   "execution_count": 21,
   "id": "2894714b",
   "metadata": {},
   "outputs": [],
   "source": [
    "# 10. Desenvolva um programa que calcula a média de três notas digitadas pelo usuário.\n",
    "def media():\n",
    "    \n",
    "    nota1 = float(input('Forneça a nota da prova 1 do aluno: '))\n",
    "    nota2 = float(input('Forneça a nota da prova 2 do aluno: '))\n",
    "    nota3 = float(input('Forneça a nota da prova 3 do aluno: '))\n",
    "    \n",
    "    notas = [nota1, nota2, nota3]\n",
    "    \n",
    "    # Tratmento de exceção\n",
    "    for nota in notas:\n",
    "        if nota < 0 or nota > 10:\n",
    "            print(f'O valor de \"{nota}\" entrado está errado. A nota precisa ser um valor entre 0 e 10.')\n",
    "            \n",
    "            return\n",
    "    else:\n",
    "        media = (nota1 + nota2 + nota3) / 3\n",
    "\n",
    "        print(f'\\nMédia final de {round(media, 1)}')\n",
    "\n",
    "    return\n"
   ]
  },
  {
   "cell_type": "code",
   "execution_count": 22,
   "id": "f41ea797",
   "metadata": {},
   "outputs": [
    {
     "name": "stdout",
     "output_type": "stream",
     "text": [
      "Forneça a nota da prova 1 do aluno: 8\n",
      "Forneça a nota da prova 2 do aluno: 9\n",
      "Forneça a nota da prova 3 do aluno: 10\n",
      "\n",
      "Média final de 9.0\n"
     ]
    }
   ],
   "source": [
    "# Testando função\n",
    "media()\n"
   ]
  },
  {
   "cell_type": "code",
   "execution_count": 23,
   "id": "b452ca4e",
   "metadata": {},
   "outputs": [
    {
     "name": "stdout",
     "output_type": "stream",
     "text": [
      "Forneça a nota da prova 1 do aluno: -9\n",
      "Forneça a nota da prova 2 do aluno: 9\n",
      "Forneça a nota da prova 3 do aluno: 9\n",
      "O valor de \"-9.0\" entrado está errado. A nota precisa ser um valor entre 0 e 10.\n"
     ]
    }
   ],
   "source": [
    "# Testando o tratamento de exceção\n",
    "media()\n"
   ]
  },
  {
   "cell_type": "code",
   "execution_count": 24,
   "id": "c05ec9ea",
   "metadata": {},
   "outputs": [
    {
     "name": "stdout",
     "output_type": "stream",
     "text": [
      "1\n",
      "2\n",
      "3\n",
      "4\n",
      "5\n",
      "6\n",
      "7\n",
      "8\n",
      "9\n",
      "10\n"
     ]
    }
   ],
   "source": [
    "# 11. Escreva um programa que use um loop for para imprimir todos os números pares de 1 a 10.\n",
    "for i in range(1, 11):\n",
    "    print(i)\n",
    "\n"
   ]
  },
  {
   "cell_type": "code",
   "execution_count": 25,
   "id": "7aa2746d",
   "metadata": {},
   "outputs": [],
   "source": [
    "# 12. Peça ao usuário para inserir um número. \n",
    "# Em seguida, utilize um loop for para imprimir a tabuada desse número de 1 a 10.\n",
    "def tabuada():\n",
    "    \n",
    "    num = float(input('Forneça o número para o qual você deseja verificar a tabuada de 1 a 10: '))\n",
    "    \n",
    "    print(f'\\nTabuada do {num}:\\n')\n",
    "    \n",
    "    for i in range(1, 11):\n",
    "        val = num * i\n",
    "        \n",
    "        print(f'{num} x {i} = {val}')\n",
    "        \n",
    "    return\n"
   ]
  },
  {
   "cell_type": "code",
   "execution_count": 26,
   "id": "72ebcf9e",
   "metadata": {},
   "outputs": [
    {
     "name": "stdout",
     "output_type": "stream",
     "text": [
      "Forneça o número para o qual você deseja verificar a tabuada de 1 a 10: 8\n",
      "\n",
      "Tabuada do 8.0:\n",
      "\n",
      "8.0 x 1 = 8.0\n",
      "8.0 x 2 = 16.0\n",
      "8.0 x 3 = 24.0\n",
      "8.0 x 4 = 32.0\n",
      "8.0 x 5 = 40.0\n",
      "8.0 x 6 = 48.0\n",
      "8.0 x 7 = 56.0\n",
      "8.0 x 8 = 64.0\n",
      "8.0 x 9 = 72.0\n",
      "8.0 x 10 = 80.0\n"
     ]
    }
   ],
   "source": [
    "# Testando a função\n",
    "tabuada()\n"
   ]
  },
  {
   "cell_type": "code",
   "execution_count": 27,
   "id": "aa59f3f3",
   "metadata": {},
   "outputs": [
    {
     "data": {
      "text/plain": [
       "120"
      ]
     },
     "execution_count": 27,
     "metadata": {},
     "output_type": "execute_result"
    }
   ],
   "source": [
    "# 13. Dada uma lista de números, calcule e imprima a soma de todos os elementos.\n",
    "lista = [i for i in range(1, 16)]\n",
    "\n",
    "soma = sum(lista)\n",
    "\n",
    "soma\n"
   ]
  },
  {
   "cell_type": "code",
   "execution_count": 28,
   "id": "da531786",
   "metadata": {},
   "outputs": [],
   "source": [
    "# 14. Peça ao usuário para digitar uma palavra. \n",
    "# Utilize um loop for para imprimir cada caractere da palavra em uma linha separada.\n",
    "def soletrar():\n",
    "    palavra = input('Forneça uma palavra para ser soletrada: ')\n",
    "    \n",
    "    print('\\n')\n",
    "    \n",
    "    for letra in palavra:\n",
    "        print(letra)\n",
    "            \n",
    "    return    \n",
    "    "
   ]
  },
  {
   "cell_type": "code",
   "execution_count": 29,
   "id": "09d47754",
   "metadata": {},
   "outputs": [
    {
     "name": "stdout",
     "output_type": "stream",
     "text": [
      "Forneça uma palavra para ser soletrada: alfabeto\n",
      "\n",
      "\n",
      "a\n",
      "l\n",
      "f\n",
      "a\n",
      "b\n",
      "e\n",
      "t\n",
      "o\n"
     ]
    }
   ],
   "source": [
    "# Testando a função\n",
    "soletrar()\n"
   ]
  },
  {
   "cell_type": "code",
   "execution_count": 30,
   "id": "b5b13f0c",
   "metadata": {},
   "outputs": [
    {
     "name": "stdout",
     "output_type": "stream",
     "text": [
      "10\n",
      "9\n",
      "8\n",
      "7\n",
      "6\n",
      "5\n",
      "4\n",
      "3\n",
      "2\n",
      "1\n"
     ]
    }
   ],
   "source": [
    "# 15. Escreva um programa que faça uma contagem regressiva de 10 até 1, imprimindo os números na tela.\n",
    "# Contagem regressiva de 10 até 1\n",
    "for i in range(10, 0, -1):\n",
    "    print(i)\n"
   ]
  },
  {
   "cell_type": "code",
   "execution_count": 31,
   "id": "8af85f59",
   "metadata": {},
   "outputs": [
    {
     "name": "stdout",
     "output_type": "stream",
     "text": [
      "Digite a sua idade: 31\n",
      "Maior de idade\n"
     ]
    }
   ],
   "source": [
    "# 16. Peça ao usuário para digitar a idade. \n",
    "# Se a idade for maior ou igual a 18, imprima \"Maior de idade\", caso contrário, imprima \"Menor de idade\".\n",
    "# Solicitação da idade do usuário\n",
    "idade = int(input(\"Digite a sua idade: \"))\n",
    "\n",
    "# Verificação da maioridade\n",
    "if idade >= 18:\n",
    "    print(\"Maior de idade\")\n",
    "else:\n",
    "    print(\"Menor de idade\")\n"
   ]
  },
  {
   "cell_type": "code",
   "execution_count": 32,
   "id": "8bd1726a",
   "metadata": {},
   "outputs": [
    {
     "name": "stdout",
     "output_type": "stream",
     "text": [
      "Digite um número: 55\n",
      "Positivo\n"
     ]
    }
   ],
   "source": [
    "# 17. Solicite ao usuário para inserir um número e informe se é positivo, negativo ou zero.\n",
    "# Solicitação de um número ao usuário\n",
    "numero = float(input(\"Digite um número: \"))\n",
    "\n",
    "# Verificação se o número é positivo, negativo ou zero\n",
    "if numero > 0:\n",
    "    print(\"Positivo\")\n",
    "elif numero < 0:\n",
    "    print(\"Negativo\")\n",
    "else:\n",
    "    print(\"Zero\")\n"
   ]
  },
  {
   "cell_type": "code",
   "execution_count": 33,
   "id": "4c7491b5",
   "metadata": {},
   "outputs": [
    {
     "name": "stdout",
     "output_type": "stream",
     "text": [
      "Digite uma letra: o\n",
      "Minúscula\n"
     ]
    }
   ],
   "source": [
    "# 18. Peça ao usuário para inserir uma letra. Verifique se é maiúscula ou minúscula e imprima o resultado.\n",
    "# Solicitação de uma letra ao usuário\n",
    "letra = input(\"Digite uma letra: \")\n",
    "\n",
    "# Verificação se a letra é maiúscula ou minúscula\n",
    "if letra.islower():\n",
    "    print(\"Minúscula\")\n",
    "elif letra.isupper():\n",
    "    print(\"Maiúscula\")\n",
    "else:\n",
    "    print(\"Não é uma letra\")\n",
    "\n"
   ]
  },
  {
   "cell_type": "code",
   "execution_count": 34,
   "id": "f3389c5d",
   "metadata": {},
   "outputs": [
    {
     "name": "stdout",
     "output_type": "stream",
     "text": [
      "Digite um número: 14\n",
      "O número não é par ou não é divisível por 3\n"
     ]
    }
   ],
   "source": [
    "# 19. Solicite ao usuário para inserir um número. \n",
    "# Verifique se o número é par e divisível por 3, imprima os resultados.\n",
    "# Solicitação de um número ao usuário\n",
    "numero = int(input(\"Digite um número: \"))\n",
    "\n",
    "# Verificação se o número é par e divisível por 3\n",
    "if numero % 2 == 0 and numero % 3 == 0:\n",
    "    print(\"O número é par e divisível por 3\")\n",
    "else:\n",
    "    print(\"O número não é par ou não é divisível por 3\")\n"
   ]
  },
  {
   "cell_type": "code",
   "execution_count": 35,
   "id": "23f5f6b9",
   "metadata": {},
   "outputs": [
    {
     "name": "stdout",
     "output_type": "stream",
     "text": [
      "Digite o primeiro número: 41\n",
      "Digite o segundo número: 41\n",
      "Ambos os números são maiores que 10\n"
     ]
    }
   ],
   "source": [
    "# 20. Escreva um programa que peça ao usuário para digitar dois números.\n",
    "# Verifique se ambos os números são maiores que 10.\n",
    "# Solicitação de dois números ao usuário\n",
    "numero1 = float(input(\"Digite o primeiro número: \"))\n",
    "numero2 = float(input(\"Digite o segundo número: \"))\n",
    "\n",
    "# Verificação se ambos os números são maiores que 10\n",
    "if numero1 > 10 and numero2 > 10:\n",
    "    print(\"Ambos os números são maiores que 10\")\n",
    "else:\n",
    "    print(\"Pelo menos um número não é maior que 10\")\n"
   ]
  },
  {
   "cell_type": "code",
   "execution_count": 36,
   "id": "c21eb79c",
   "metadata": {},
   "outputs": [
    {
     "name": "stdout",
     "output_type": "stream",
     "text": [
      "Digite um número: 14\n",
      "O número não está entre 20 e 50\n"
     ]
    }
   ],
   "source": [
    "# 21. Solicite ao usuário para inserir um número. Verifique se o número está entre 20 e 50, inclusive.\n",
    "# Solicitação de um número ao usuário\n",
    "numero = float(input(\"Digite um número: \"))\n",
    "\n",
    "# Verificação se o número está entre 20 e 50, inclusive\n",
    "if 20 <= numero <= 50:\n",
    "    print(\"O número está entre 20 e 50\")\n",
    "else:\n",
    "    print(\"O número não está entre 20 e 50\")\n"
   ]
  },
  {
   "cell_type": "code",
   "execution_count": 37,
   "id": "d2be6e4e",
   "metadata": {},
   "outputs": [
    {
     "name": "stdout",
     "output_type": "stream",
     "text": [
      "Digite um número: 4\n",
      "O número não é divisível por 3 nem por 5\n"
     ]
    }
   ],
   "source": [
    "# 22. Peça ao usuário para inserir um número. Verifique se o número é divisível por 3 ou por 5.\n",
    "\n",
    "# Solicitação de um número ao usuário\n",
    "numero = int(input(\"Digite um número: \"))\n",
    "\n",
    "# Verificação se o número é divisível por 3 ou por 5\n",
    "if numero % 3 == 0 or numero % 5 == 0:\n",
    "    print(\"O número é divisível por 3 ou por 5\")\n",
    "else:\n",
    "    print(\"O número não é divisível por 3 nem por 5\")\n",
    "\n"
   ]
  },
  {
   "cell_type": "code",
   "execution_count": 40,
   "id": "41824f75",
   "metadata": {},
   "outputs": [
    {
     "name": "stdout",
     "output_type": "stream",
     "text": [
      "Digite a sua idade: 31\n",
      "Possui habilitação? (S/N): s\n",
      "Você pode dirigir.\n"
     ]
    }
   ],
   "source": [
    "# 23. Solicite ao usuário para inserir a idade e se possui habilitação (S ou N). \n",
    "# Verifique se a pessoa pode dirigir: maior de 18 anos e com habilitação.\n",
    "# Solicitação da idade e da habilitação ao usuário\n",
    "idade = int(input(\"Digite a sua idade: \"))\n",
    "possui_habilitacao = input(\"Possui habilitação? (S/N): \")\n",
    "\n",
    "# Verificação se a pessoa pode dirigir\n",
    "if idade >= 18 and possui_habilitacao.upper() == 'S':\n",
    "    print(\"Você pode dirigir.\")\n",
    "else:\n",
    "    print(\"Você não pode dirigir.\")\n"
   ]
  },
  {
   "cell_type": "code",
   "execution_count": 41,
   "id": "d8002d46",
   "metadata": {},
   "outputs": [
    {
     "name": "stdout",
     "output_type": "stream",
     "text": [
      "Digite um número: 41\n",
      "O número não é negativo.\n"
     ]
    }
   ],
   "source": [
    "# 24. Peça ao usuário para inserir um número. Verifique se o número não é negativo.\n",
    "# Solicitação de um número ao usuário\n",
    "numero = float(input(\"Digite um número: \"))\n",
    "\n",
    "# Verificação se o número não é negativo\n",
    "if numero >= 0:\n",
    "    print(\"O número não é negativo.\")\n",
    "else:\n",
    "    print(\"O número é negativo.\")\n"
   ]
  },
  {
   "cell_type": "code",
   "execution_count": 42,
   "id": "f07b1074",
   "metadata": {},
   "outputs": [
    {
     "name": "stdout",
     "output_type": "stream",
     "text": [
      "1\n",
      "3\n",
      "5\n",
      "7\n",
      "9\n",
      "11\n",
      "13\n",
      "15\n",
      "17\n",
      "19\n"
     ]
    }
   ],
   "source": [
    "# 25. Utilize um loop while para imprimir todos os números ímpares de 1 até 20.\n",
    "# Inicializando o contador\n",
    "numero = 1\n",
    "\n",
    "# Impressão dos números ímpares de 1 a 20\n",
    "while numero <= 20:\n",
    "    print(numero)\n",
    "    numero += 2\n"
   ]
  },
  {
   "cell_type": "code",
   "execution_count": 43,
   "id": "b0d62f74",
   "metadata": {},
   "outputs": [
    {
     "name": "stdout",
     "output_type": "stream",
     "text": [
      "Digite um número inteiro: 4\n",
      "Digite um número inteiro: 4\n",
      "Digite um número inteiro: 4\n",
      "Digite um número inteiro: 100\n",
      "A soma dos números pares até que o total seja maior que 100 é: 112\n"
     ]
    }
   ],
   "source": [
    "# 26. Escreva um programa que solicite ao usuário para inserir números inteiros. \n",
    "# Some apenas os números pares até que o total seja maior que 100.\n",
    "# Inicializando a variável de soma\n",
    "soma = 0\n",
    "\n",
    "# Loop para solicitar números inteiros e somar apenas os números pares até que a soma seja maior que 100\n",
    "while soma <= 100:\n",
    "    numero = int(input(\"Digite um número inteiro: \"))\n",
    "    if numero % 2 == 0:\n",
    "        soma += numero\n",
    "\n",
    "# Exibindo a soma final\n",
    "print(\"A soma dos números pares até que o total seja maior que 100 é:\", soma)\n"
   ]
  },
  {
   "cell_type": "code",
   "execution_count": 44,
   "id": "b621ef05",
   "metadata": {},
   "outputs": [
    {
     "name": "stdout",
     "output_type": "stream",
     "text": [
      "Tente adivinhar o número entre 1 e 10: 4\n",
      "Parabéns! Você acertou o número.\n"
     ]
    }
   ],
   "source": [
    "# 27. Crie um jogo em que o programa escolhe um número aleatório entre 1 e 10.\n",
    "# O usuário deve tentar adivinhar o número. O loop while continua até que o usuário acerte.\n",
    "# Gerando um número aleatório entre 1 e 10\n",
    "numero_aleatorio = random.randint(1, 10)\n",
    "\n",
    "# Inicializando a variável de palpite do usuário\n",
    "palpite = None\n",
    "\n",
    "# Loop enquanto o palpite não for correto\n",
    "while palpite != numero_aleatorio:\n",
    "    # Solicitação do palpite do usuário\n",
    "    palpite = int(input(\"Tente adivinhar o número entre 1 e 10: \"))\n",
    "\n",
    "    # Verificação se o palpite está correto\n",
    "    if palpite == numero_aleatorio:\n",
    "        print(\"Parabéns! Você acertou o número.\")\n",
    "    else:\n",
    "        print(\"Tente novamente.\")\n"
   ]
  },
  {
   "cell_type": "code",
   "execution_count": 47,
   "id": "cdacf367",
   "metadata": {},
   "outputs": [
    {
     "name": "stdout",
     "output_type": "stream",
     "text": [
      "Tente adivinhar o número entre 1 e 100: 88\n",
      "Parabéns! Você acertou o número.\n"
     ]
    }
   ],
   "source": [
    "# 28. Escreva um programa que solicite ao usuário para adivinhar um número entre 1 e 100. \n",
    "# O programa dá dicas se o palpite é maior ou menor. \n",
    "# O loop while continua até que o usuário acerte ou atinja 10 tentativas.\n",
    "# Gerando um número aleatório entre 1 e 100\n",
    "numero_aleatorio = random.randint(1, 100)\n",
    "\n",
    "# Inicializando o contador de tentativas\n",
    "tentativas = 0\n",
    "\n",
    "# Loop enquanto o usuário não acertar ou atingir 10 tentativas\n",
    "while tentativas < 10:\n",
    "    # Solicitação do palpite do usuário\n",
    "    palpite = int(input(\"Tente adivinhar o número entre 1 e 100: \"))\n",
    "\n",
    "    # Verificação se o palpite está correto\n",
    "    if palpite == numero_aleatorio:\n",
    "        print(\"Parabéns! Você acertou o número.\")\n",
    "        break\n",
    "    elif palpite < numero_aleatorio:\n",
    "        print(\"O número é maior.\")\n",
    "    else:\n",
    "        print(\"O número é menor.\")\n",
    "    \n",
    "    # Incremento do contador de tentativas\n",
    "    tentativas += 1\n",
    "\n",
    "# Verificação se o usuário atingiu o limite de tentativas\n",
    "if tentativas == 10:\n",
    "    print(\"Você atingiu o limite de 10 tentativas. O número correto era:\", numero_aleatorio)\n",
    "\n"
   ]
  },
  {
   "cell_type": "code",
   "execution_count": 48,
   "id": "6e59feb6",
   "metadata": {},
   "outputs": [
    {
     "name": "stdout",
     "output_type": "stream",
     "text": [
      "Digite seu nome: Jorginho\n",
      "Bem-vindo, Jorginho!\n"
     ]
    }
   ],
   "source": [
    "# 29. Escreva um programa que imprima uma mensagem de boas-vindas formatada com o nome do usuário.\n",
    "# Solicitação do nome do usuário\n",
    "nome = input(\"Digite seu nome: \")\n",
    "\n",
    "# Mensagem de boas-vindas formatada com o nome do usuário\n",
    "mensagem_boas_vindas = \"Bem-vindo, {}!\".format(nome)\n",
    "\n",
    "# Impressão da mensagem de boas-vindas formatada\n",
    "print(mensagem_boas_vindas)\n"
   ]
  },
  {
   "cell_type": "code",
   "execution_count": 49,
   "id": "1573d091",
   "metadata": {},
   "outputs": [
    {
     "name": "stdout",
     "output_type": "stream",
     "text": [
      "Número inteiro: 10\n",
      "Número flutuante com duas casas decimais: 3.14\n",
      "Número em notação científica: 1.23e-10\n"
     ]
    }
   ],
   "source": [
    "# 30. Utilize o comando print para imprimir três números com formatação específica \n",
    "# Um inteiro, um float com duas casas decimais, e um número em notação científica.\n",
    "# Verificação se uma variável é do tipo inteiro\n",
    "# Números para impressão\n",
    "inteiro = 10\n",
    "flutuante = 3.14159\n",
    "cientifico = 1.23456789e-10\n",
    "\n",
    "# Impressão dos números com formatação específica\n",
    "print(\"Número inteiro:\", inteiro)\n",
    "print(\"Número flutuante com duas casas decimais: {:.2f}\".format(flutuante))\n",
    "print(\"Número em notação científica: {:.2e}\".format(cientifico))\n"
   ]
  },
  {
   "cell_type": "code",
   "execution_count": 50,
   "id": "7976925b",
   "metadata": {},
   "outputs": [],
   "source": [
    "# 31. Crie uma variável chamada idade e atribua o valor da sua idade a ela\n",
    "# Criação da variável idade e atribuição do valor da sua idade\n",
    "idade = 31  \n"
   ]
  },
  {
   "cell_type": "code",
   "execution_count": 51,
   "id": "4ac1cfa3",
   "metadata": {},
   "outputs": [
    {
     "name": "stdout",
     "output_type": "stream",
     "text": [
      "A variável é do tipo inteiro.\n"
     ]
    }
   ],
   "source": [
    "# 32. Como você pode verificar se uma variável é do tipo inteiro em Python?\n",
    "variavel = 10\n",
    "if isinstance(variavel, int):\n",
    "    print(\"A variável é do tipo inteiro.\")\n",
    "else:\n",
    "    print(\"A variável não é do tipo inteiro.\")\n"
   ]
  },
  {
   "cell_type": "code",
   "execution_count": 52,
   "id": "0d6828ab",
   "metadata": {},
   "outputs": [
    {
     "name": "stdout",
     "output_type": "stream",
     "text": [
      "Soma: 15\n",
      "Produto: 50\n",
      "Quociente: 2.0\n",
      "Diferença: 5\n",
      "Resto da divisão: 0\n"
     ]
    }
   ],
   "source": [
    "# 33. Crie uma variável chamada \"numero1\" e atribua um valor inteiro a ela. \n",
    "# Em seguida, crie outra variável chamada \"numero2\" e atribua outro valor inteiro a ela. \n",
    "# Depois, exiba a soma, produto, quociente, diferença e resto da divisão  desses dois números.\n",
    "# Criação das variáveis e atribuição dos valores\n",
    "numero1 = 10\n",
    "numero2 = 5\n",
    "\n",
    "# Exibição dos resultados\n",
    "print(\"Soma:\", numero1 + numero2)\n",
    "print(\"Produto:\", numero1 * numero2)\n",
    "print(\"Quociente:\", numero1 / numero2)\n",
    "print(\"Diferença:\", numero1 - numero2)\n",
    "print(\"Resto da divisão:\", numero1 % numero2)\n"
   ]
  },
  {
   "cell_type": "code",
   "execution_count": 54,
   "id": "c389eb58",
   "metadata": {},
   "outputs": [
    {
     "name": "stdout",
     "output_type": "stream",
     "text": [
      "Digite um número: 88\n",
      "O número é positivo.\n"
     ]
    }
   ],
   "source": [
    "# 34. Escreva um programa que peça ao usuário para inserir um número e então verifique se é positivo, negativo ou zero.\n",
    "# Solicitação de um número ao usuário\n",
    "numero = float(input(\"Digite um número: \"))\n",
    "\n",
    "# Verificação se o número é positivo, negativo ou zero\n",
    "if numero > 0:\n",
    "    print(\"O número é positivo.\")\n",
    "elif numero < 0:\n",
    "    print(\"O número é negativo.\")\n",
    "else:\n",
    "    print(\"O número é zero.\")\n"
   ]
  },
  {
   "cell_type": "code",
   "execution_count": 55,
   "id": "ceb986a5",
   "metadata": {},
   "outputs": [
    {
     "name": "stdout",
     "output_type": "stream",
     "text": [
      "Digite o primeiro número inteiro: 88\n",
      "Digite o segundo número inteiro: 88\n",
      "A soma dos números é par.\n"
     ]
    }
   ],
   "source": [
    "# 35. Desenvolva um programa que solicite ao usuário para inserir dois números inteiros.\n",
    "# Verifique se a soma desses números é par ou ímpar.\n",
    "# Solicitação dos dois números inteiros ao usuário\n",
    "numero1 = int(input(\"Digite o primeiro número inteiro: \"))\n",
    "numero2 = int(input(\"Digite o segundo número inteiro: \"))\n",
    "\n",
    "# Calcula a soma dos números\n",
    "soma = numero1 + numero2\n",
    "\n",
    "# Verificação se a soma é par ou ímpar\n",
    "if soma % 2 == 0:\n",
    "    print(\"A soma dos números é par.\")\n",
    "else:\n",
    "    print(\"A soma dos números é ímpar.\")\n"
   ]
  },
  {
   "cell_type": "code",
   "execution_count": 56,
   "id": "9335b3c4",
   "metadata": {},
   "outputs": [
    {
     "name": "stdout",
     "output_type": "stream",
     "text": [
      "Digite uma cor: laranja\n",
      "A cor laranja não está na lista.\n"
     ]
    }
   ],
   "source": [
    "# 36. Crie uma lista com cinco cores diferentes. \n",
    "# Em seguida, solicite ao usuário para digitar uma cor e verifique se ela está na lista.\n",
    "# Criação da lista de cores\n",
    "cores = [\"vermelho\", \"azul\", \"verde\", \"amarelo\", \"roxo\"]\n",
    "\n",
    "# Solicitação da cor ao usuário\n",
    "cor = input(\"Digite uma cor: \")\n",
    "\n",
    "# Verificação se a cor está na lista\n",
    "if cor in cores:\n",
    "    print(\"A cor\", cor, \"está na lista.\")\n",
    "else:\n",
    "    print(\"A cor\", cor, \"não está na lista.\")\n"
   ]
  },
  {
   "cell_type": "code",
   "execution_count": 57,
   "id": "94dbffcf",
   "metadata": {},
   "outputs": [
    {
     "name": "stdout",
     "output_type": "stream",
     "text": [
      "Digite a idade da primeira pessoa: 89\n",
      "Digite a idade da segunda pessoa: 88\n",
      "Digite a idade da terceira pessoa: 89\n",
      "Pessoa 1: Maior de idade\n",
      "Pessoa 2: Maior de idade\n",
      "Pessoa 3: Maior de idade\n"
     ]
    }
   ],
   "source": [
    "# 37. Escreva uma função chamada \"verifica_maioridade\" que recebe a idade de uma pessoa como argumento \n",
    "# e retorna \"Maior de idade\" se a idade for igual ou maior que 18, e \"Menor de idade\" caso contrário. \n",
    "# Em seguida, use essa função para verificar a maioridade de três pessoas, pedindo suas idades ao usuário.\n",
    "# Definição da função verifica_maioridade\n",
    "def verifica_maioridade(idade):\n",
    "    if idade >= 18:\n",
    "        return \"Maior de idade\"\n",
    "    else:\n",
    "        return \"Menor de idade\"\n",
    "\n",
    "# Solicitação das idades ao usuário\n",
    "idade1 = int(input(\"Digite a idade da primeira pessoa: \"))\n",
    "idade2 = int(input(\"Digite a idade da segunda pessoa: \"))\n",
    "idade3 = int(input(\"Digite a idade da terceira pessoa: \"))\n",
    "\n",
    "# Verificação da maioridade das três pessoas\n",
    "print(\"Pessoa 1:\", verifica_maioridade(idade1))\n",
    "print(\"Pessoa 2:\", verifica_maioridade(idade2))\n",
    "print(\"Pessoa 3:\", verifica_maioridade(idade3))\n"
   ]
  },
  {
   "cell_type": "code",
   "execution_count": 58,
   "id": "629135b4",
   "metadata": {},
   "outputs": [
    {
     "name": "stdout",
     "output_type": "stream",
     "text": [
      "Digite um número: 55\n",
      "Números pares até 55 : [2, 4, 6, 8, 10, 12, 14, 16, 18, 20, 22, 24, 26, 28, 30, 32, 34, 36, 38, 40, 42, 44, 46, 48, 50, 52, 54]\n"
     ]
    }
   ],
   "source": [
    "# 38. Peça ao usuário para digitar um número. \n",
    "# Em seguida, crie uma lista com todos os números pares de 1 até o número digitado pelo usuário e exiba essa lista.\n",
    "# Solicitação de um número ao usuário\n",
    "numero = int(input(\"Digite um número: \"))\n",
    "\n",
    "# Criação da lista de números pares até o número digitado\n",
    "numeros_pares = [num for num in range(1, numero + 1) if num % 2 == 0]\n",
    "\n",
    "# Exibição da lista de números pares\n",
    "print(\"Números pares até\", numero, \":\", numeros_pares)\n"
   ]
  },
  {
   "cell_type": "code",
   "execution_count": 59,
   "id": "7911ea19",
   "metadata": {},
   "outputs": [
    {
     "name": "stdout",
     "output_type": "stream",
     "text": [
      "10\n",
      "9\n",
      "8\n",
      "7\n",
      "6\n",
      "5\n",
      "4\n",
      "3\n",
      "2\n",
      "1\n"
     ]
    }
   ],
   "source": [
    "# 39. utilize um loop for para imprimir os números de 10 a 1, em ordem decrescente.\n",
    "# Impressão dos números de 10 a 1 em ordem decrescente\n",
    "for num in range(10, 0, -1):\n",
    "    print(num)\n"
   ]
  },
  {
   "cell_type": "code",
   "execution_count": 60,
   "id": "b24a2d75",
   "metadata": {},
   "outputs": [
    {
     "name": "stdout",
     "output_type": "stream",
     "text": [
      "Digite o primeiro número: 55\n",
      "Digite o segundo número: 44\n",
      "Digite o terceiro número: 44\n",
      "Os números não são todos iguais.\n"
     ]
    }
   ],
   "source": [
    "# 40. Escreva um programa que solicite ao usuário para inserir três números. \n",
    "# Verifique se todos os números são iguais entre si.\n",
    "# Solicitação dos três números ao usuário\n",
    "numero1 = float(input(\"Digite o primeiro número: \"))\n",
    "numero2 = float(input(\"Digite o segundo número: \"))\n",
    "numero3 = float(input(\"Digite o terceiro número: \"))\n",
    "\n",
    "# Verificação se todos os números são iguais entre si\n",
    "if numero1 == numero2 == numero3:\n",
    "    print(\"Todos os números são iguais.\")\n",
    "else:\n",
    "    print(\"Os números não são todos iguais.\")\n"
   ]
  },
  {
   "cell_type": "code",
   "execution_count": 61,
   "id": "89d598ca",
   "metadata": {},
   "outputs": [
    {
     "name": "stdout",
     "output_type": "stream",
     "text": [
      "Digite um número: 55\n",
      "Não é divisível por 3 e 5.\n"
     ]
    }
   ],
   "source": [
    "# 41. Solicite ao usuário para digitar um número. \n",
    "# Se o número for divisível por 3 e por 5 ao mesmo tempo, exiba \"Divisível por 3 e 5\", \n",
    "# caso contrário, exiba \"Não é divisível por 3 e 5\".\n",
    "# Solicitação de um número ao usuário\n",
    "numero = int(input(\"Digite um número: \"))\n",
    "\n",
    "# Verificação se o número é divisível por 3 e por 5 ao mesmo tempo\n",
    "if numero % 3 == 0 and numero % 5 == 0:\n",
    "    print(\"Divisível por 3 e 5.\")\n",
    "else:\n",
    "    print(\"Não é divisível por 3 e 5.\")\n"
   ]
  },
  {
   "cell_type": "code",
   "execution_count": 63,
   "id": "b41e51e1",
   "metadata": {},
   "outputs": [
    {
     "name": "stdout",
     "output_type": "stream",
     "text": [
      "Digite uma palavra: ola\n",
      "Nova palavra: oollaa\n"
     ]
    }
   ],
   "source": [
    "# 42. Peça ao usuário para digitar uma palavra. \n",
    "# Em seguida, crie uma nova palavra duplicando cada letra da palavra digitada pelo usuário. \n",
    "# Por exemplo, se o usuário digitar \"python\", o programa deve exibir \"ppyytthhoonn\".\n",
    "# Solicitação de uma palavra ao usuário\n",
    "palavra = input(\"Digite uma palavra: \")\n",
    "\n",
    "# Criação da nova palavra duplicando cada letra\n",
    "nova_palavra = ''.join([letra * 2 for letra in palavra])\n",
    "\n",
    "# Exibição da nova palavra\n",
    "print(\"Nova palavra:\", nova_palavra)\n"
   ]
  },
  {
   "cell_type": "code",
   "execution_count": 64,
   "id": "16531e19",
   "metadata": {},
   "outputs": [
    {
     "name": "stdout",
     "output_type": "stream",
     "text": [
      "Sequência de Fibonacci até o décimo termo:\n",
      "0 1 1 2 3 5 8 13 21 34 "
     ]
    }
   ],
   "source": [
    "# 43. Escreva um programa que gera uma sequência de Fibonacci até o décimo termo e a exibe.\n",
    "# Inicialização dos dois primeiros termos da sequência\n",
    "a, b = 0, 1\n",
    "\n",
    "# Impressão dos dez primeiros termos da sequência de Fibonacci\n",
    "print(\"Sequência de Fibonacci até o décimo termo:\")\n",
    "for _ in range(10):\n",
    "    print(a, end=\" \")\n",
    "    a, b = b, a + b\n"
   ]
  },
  {
   "cell_type": "code",
   "execution_count": 65,
   "id": "80f68f74",
   "metadata": {},
   "outputs": [
    {
     "name": "stdout",
     "output_type": "stream",
     "text": [
      "Digite uma frase: olaa\n",
      "Lista de palavras: ['olaa']\n"
     ]
    }
   ],
   "source": [
    "# 44. Peça ao usuário para digitar uma frase. Em seguida, crie uma lista com todas as palavras da frase e exiba essa lista.\n",
    "# Solicitação de uma frase ao usuário\n",
    "frase = input(\"Digite uma frase: \")\n",
    "\n",
    "# Criação da lista com todas as palavras da frase\n",
    "lista_palavras = frase.split()\n",
    "\n",
    "# Exibição da lista de palavras\n",
    "print(\"Lista de palavras:\", lista_palavras)\n"
   ]
  },
  {
   "cell_type": "code",
   "execution_count": 66,
   "id": "4ceec7ac",
   "metadata": {},
   "outputs": [
    {
     "name": "stdout",
     "output_type": "stream",
     "text": [
      "Digite um número: 88\n",
      "Números ímpares até 88 : [1, 3, 5, 7, 9, 11, 13, 15, 17, 19, 21, 23, 25, 27, 29, 31, 33, 35, 37, 39, 41, 43, 45, 47, 49, 51, 53, 55, 57, 59, 61, 63, 65, 67, 69, 71, 73, 75, 77, 79, 81, 83, 85, 87]\n"
     ]
    }
   ],
   "source": [
    "# 45. Desenvolva um programa que solicite ao usuário para digitar um número. Em seguida, crie uma lista com todos os números ímpares entre 1 e o número digitado pelo usuário, e exiba essa lista.\n",
    "# Solicitação de um número ao usuário\n",
    "numero = int(input(\"Digite um número: \"))\n",
    "\n",
    "# Criação da lista de números ímpares até o número digitado\n",
    "numeros_impares = [num for num in range(1, numero + 1) if num % 2 != 0]\n",
    "\n",
    "# Exibição da lista de números ímpares\n",
    "print(\"Números ímpares até\", numero, \":\", numeros_impares)\n"
   ]
  },
  {
   "cell_type": "code",
   "execution_count": 67,
   "id": "ecf8b162",
   "metadata": {},
   "outputs": [
    {
     "name": "stdout",
     "output_type": "stream",
     "text": [
      "Digite os primeiros 9 dígitos do CPF: 0876436499\n",
      "CPF base inválido. Certifique-se de inserir 9 dígitos numéricos.\n"
     ]
    }
   ],
   "source": [
    "# 46. Faça um programa que calcule o digito verificador do CPF\n",
    "def calcular_dv_cpf(cpf_base):\n",
    "    pesos = [10, 9, 8, 7, 6, 5, 4, 3, 2]\n",
    "    soma = sum(int(cpf_base[i]) * pesos[i] for i in range(9))\n",
    "    resto = soma % 11\n",
    "    dv = 0 if resto < 2 else 11 - resto\n",
    "    return str(dv)  # Retorna o DV como string\n",
    "\n",
    "# Solicitação dos nove primeiros dígitos do CPF ao usuário\n",
    "cpf_base = input(\"Digite os primeiros 9 dígitos do CPF: \")\n",
    "if len(cpf_base) != 9 or not cpf_base.isdigit():\n",
    "    print(\"CPF base inválido. Certifique-se de inserir 9 dígitos numéricos.\")\n",
    "else:\n",
    "    dv = calcular_dv_cpf(cpf_base)\n",
    "    cpf_completo = cpf_base + dv\n",
    "    print(\"CPF completo com dígito verificador:\", cpf_completo)\n"
   ]
  },
  {
   "cell_type": "markdown",
   "id": "5295c1c2",
   "metadata": {},
   "source": [
    "***\n",
    "**Fim**\n",
    "***"
   ]
  }
 ],
 "metadata": {
  "kernelspec": {
   "display_name": "Python 3 (ipykernel)",
   "language": "python",
   "name": "python3"
  },
  "language_info": {
   "codemirror_mode": {
    "name": "ipython",
    "version": 3
   },
   "file_extension": ".py",
   "mimetype": "text/x-python",
   "name": "python",
   "nbconvert_exporter": "python",
   "pygments_lexer": "ipython3",
   "version": "3.9.13"
  }
 },
 "nbformat": 4,
 "nbformat_minor": 5
}
