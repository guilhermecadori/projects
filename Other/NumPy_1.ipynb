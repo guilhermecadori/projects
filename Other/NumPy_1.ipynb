{
 "cells": [
  {
   "cell_type": "markdown",
   "id": "fab64705",
   "metadata": {},
   "source": [
    "\n",
    "<left>\n",
    "    <img src=\"http://people.ufpr.br/~emilio/figuras/img5.jpg\" width=\"300\" alt=\"PPGOLD Data Science: INTRO\"  />\n",
    "</left>\n",
    "\n",
    "# *Python - Aula 04*\n",
    "\n",
    "# NUMPY"
   ]
  },
  {
   "cell_type": "code",
   "execution_count": 2,
   "id": "3cebdc92",
   "metadata": {},
   "outputs": [
    {
     "data": {
      "text/plain": [
       "'1.24.3'"
      ]
     },
     "execution_count": 2,
     "metadata": {},
     "output_type": "execute_result"
    }
   ],
   "source": [
    "import numpy as np\n",
    "np.__version__"
   ]
  },
  {
   "cell_type": "markdown",
   "id": "abe6957c",
   "metadata": {},
   "source": [
    "## Primeiro Vetor"
   ]
  },
  {
   "cell_type": "code",
   "execution_count": 4,
   "id": "a5b59640",
   "metadata": {},
   "outputs": [
    {
     "data": {
      "text/plain": [
       "dtype('int64')"
      ]
     },
     "execution_count": 4,
     "metadata": {},
     "output_type": "execute_result"
    }
   ],
   "source": [
    "nparray = np.array([1,2,3])\n",
    "nparray.dtype"
   ]
  },
  {
   "cell_type": "code",
   "execution_count": 5,
   "id": "7b89e32e",
   "metadata": {},
   "outputs": [
    {
     "data": {
      "text/plain": [
       "3"
      ]
     },
     "execution_count": 5,
     "metadata": {},
     "output_type": "execute_result"
    }
   ],
   "source": [
    "nparray.size"
   ]
  },
  {
   "cell_type": "code",
   "execution_count": 6,
   "id": "61b69113",
   "metadata": {},
   "outputs": [
    {
     "data": {
      "text/plain": [
       "(3,)"
      ]
     },
     "execution_count": 6,
     "metadata": {},
     "output_type": "execute_result"
    }
   ],
   "source": [
    "nparray.shape"
   ]
  },
  {
   "cell_type": "markdown",
   "id": "cd0600d3",
   "metadata": {},
   "source": [
    "## Alocação de Memória "
   ]
  },
  {
   "cell_type": "code",
   "execution_count": 55,
   "id": "79046208",
   "metadata": {},
   "outputs": [
    {
     "data": {
      "text/plain": [
       "8"
      ]
     },
     "execution_count": 55,
     "metadata": {},
     "output_type": "execute_result"
    }
   ],
   "source": [
    "nparray.itemsize"
   ]
  },
  {
   "cell_type": "code",
   "execution_count": 56,
   "id": "ed774c62",
   "metadata": {},
   "outputs": [
    {
     "data": {
      "text/plain": [
       "24"
      ]
     },
     "execution_count": 56,
     "metadata": {},
     "output_type": "execute_result"
    }
   ],
   "source": [
    "nparray.nbytes"
   ]
  },
  {
   "cell_type": "markdown",
   "id": "f44881f0",
   "metadata": {},
   "source": [
    "### Tempo para alocacão"
   ]
  },
  {
   "cell_type": "code",
   "execution_count": 9,
   "id": "d44b99a5",
   "metadata": {},
   "outputs": [
    {
     "name": "stdout",
     "output_type": "stream",
     "text": [
      "139 µs ± 1.27 µs per loop (mean ± std. dev. of 7 runs, 10,000 loops each)\n"
     ]
    }
   ],
   "source": [
    "%timeit pythonList = [i for i in range(10000)]"
   ]
  },
  {
   "cell_type": "code",
   "execution_count": 10,
   "id": "5976d723",
   "metadata": {},
   "outputs": [
    {
     "name": "stdout",
     "output_type": "stream",
     "text": [
      "2.52 µs ± 20.9 ns per loop (mean ± std. dev. of 7 runs, 100,000 loops each)\n"
     ]
    }
   ],
   "source": [
    "%timeit npList = np.arange(10000)"
   ]
  },
  {
   "cell_type": "markdown",
   "id": "0d564762",
   "metadata": {},
   "source": [
    "## Diferentes formas de inicializar o vetor"
   ]
  },
  {
   "cell_type": "code",
   "execution_count": 11,
   "id": "11e72c12",
   "metadata": {},
   "outputs": [
    {
     "data": {
      "text/plain": [
       "array([0, 1, 2, 3, 4, 5, 6, 7, 8, 9])"
      ]
     },
     "execution_count": 11,
     "metadata": {},
     "output_type": "execute_result"
    }
   ],
   "source": [
    "np.arange(10) # vetor enumerado"
   ]
  },
  {
   "cell_type": "code",
   "execution_count": 16,
   "id": "383b2870",
   "metadata": {},
   "outputs": [
    {
     "data": {
      "text/plain": [
       "array([3, 4, 5, 6, 7, 8, 9])"
      ]
     },
     "execution_count": 16,
     "metadata": {},
     "output_type": "execute_result"
    }
   ],
   "source": [
    "np.arange(3,10) # vetor enumerado"
   ]
  },
  {
   "cell_type": "code",
   "execution_count": 17,
   "id": "d2693c50",
   "metadata": {},
   "outputs": [
    {
     "data": {
      "text/plain": [
       "array([2, 4, 6, 8])"
      ]
     },
     "execution_count": 17,
     "metadata": {},
     "output_type": "execute_result"
    }
   ],
   "source": [
    "np.arange(2,10,2) # vetor enumerado com passo de 2"
   ]
  },
  {
   "cell_type": "code",
   "execution_count": 19,
   "id": "22405824",
   "metadata": {},
   "outputs": [
    {
     "data": {
      "text/plain": [
       "array([1., 1., 1., 1., 1.])"
      ]
     },
     "execution_count": 19,
     "metadata": {},
     "output_type": "execute_result"
    }
   ],
   "source": [
    "np.ones(5) # vetor de UNS"
   ]
  },
  {
   "cell_type": "code",
   "execution_count": 20,
   "id": "76390325",
   "metadata": {},
   "outputs": [
    {
     "data": {
      "text/plain": [
       "array([0., 0., 0., 0., 0.])"
      ]
     },
     "execution_count": 20,
     "metadata": {},
     "output_type": "execute_result"
    }
   ],
   "source": [
    "np.zeros(5)# vetor de ZEROS"
   ]
  },
  {
   "cell_type": "code",
   "execution_count": 57,
   "id": "638f3f5f",
   "metadata": {},
   "outputs": [
    {
     "data": {
      "text/plain": [
       "array([1., 1., 1., 1., 1.])"
      ]
     },
     "execution_count": 57,
     "metadata": {},
     "output_type": "execute_result"
    }
   ],
   "source": [
    "np.empty(5)  # vetor vazio (o valor de cada item é lixo)"
   ]
  },
  {
   "cell_type": "code",
   "execution_count": 60,
   "id": "6c4501f7",
   "metadata": {},
   "outputs": [
    {
     "data": {
      "text/plain": [
       "array([[1., 0., 0., 0.],\n",
       "       [0., 1., 0., 0.],\n",
       "       [0., 0., 1., 0.],\n",
       "       [0., 0., 0., 1.]])"
      ]
     },
     "execution_count": 60,
     "metadata": {},
     "output_type": "execute_result"
    }
   ],
   "source": [
    "np.eye(4) # Matriz identidade"
   ]
  },
  {
   "cell_type": "markdown",
   "id": "d8d211b4",
   "metadata": {},
   "source": [
    "## Espaço linear entre dois pontos"
   ]
  },
  {
   "cell_type": "code",
   "execution_count": 61,
   "id": "bcfb6c75",
   "metadata": {},
   "outputs": [
    {
     "data": {
      "text/plain": [
       "array([ 0. ,  2.5,  5. ,  7.5, 10. ])"
      ]
     },
     "execution_count": 61,
     "metadata": {},
     "output_type": "execute_result"
    }
   ],
   "source": [
    "np.linspace(0, 10, 5)"
   ]
  },
  {
   "cell_type": "markdown",
   "id": "1f1563a2",
   "metadata": {},
   "source": [
    "## Sistemas Lineares"
   ]
  },
  {
   "cell_type": "code",
   "execution_count": 40,
   "id": "4c4fcc1a",
   "metadata": {},
   "outputs": [],
   "source": [
    "A = np.array([[1, 2], [3, 5]])\n",
    "b = np.array([-1, -2])\n",
    "x = np.linalg.solve(a, b)"
   ]
  },
  {
   "cell_type": "code",
   "execution_count": 41,
   "id": "d926f49a",
   "metadata": {},
   "outputs": [
    {
     "data": {
      "text/plain": [
       "array([ 1., -1.])"
      ]
     },
     "execution_count": 41,
     "metadata": {},
     "output_type": "execute_result"
    }
   ],
   "source": [
    "x"
   ]
  },
  {
   "cell_type": "markdown",
   "id": "eb8916c5",
   "metadata": {},
   "source": [
    "## Produto de Vetores"
   ]
  },
  {
   "cell_type": "code",
   "execution_count": 45,
   "id": "6c8f0815",
   "metadata": {},
   "outputs": [
    {
     "data": {
      "text/plain": [
       "array([-1., -2.])"
      ]
     },
     "execution_count": 45,
     "metadata": {},
     "output_type": "execute_result"
    }
   ],
   "source": [
    "np.dot(A, x)"
   ]
  },
  {
   "cell_type": "code",
   "execution_count": 46,
   "id": "5a81096a",
   "metadata": {},
   "outputs": [
    {
     "data": {
      "text/plain": [
       "array([-1, -2])"
      ]
     },
     "execution_count": 46,
     "metadata": {},
     "output_type": "execute_result"
    }
   ],
   "source": [
    "b"
   ]
  },
  {
   "cell_type": "markdown",
   "id": "6e8141d4",
   "metadata": {},
   "source": [
    "### Função allclose (todos próximos)"
   ]
  },
  {
   "cell_type": "code",
   "execution_count": 42,
   "id": "1893c7da",
   "metadata": {},
   "outputs": [
    {
     "data": {
      "text/plain": [
       "True"
      ]
     },
     "execution_count": 42,
     "metadata": {},
     "output_type": "execute_result"
    }
   ],
   "source": [
    "np.allclose(np.dot(A, x), b)"
   ]
  },
  {
   "cell_type": "markdown",
   "id": "5d97fc18",
   "metadata": {},
   "source": [
    "# Biblioteca de álgebra linear"
   ]
  },
  {
   "cell_type": "code",
   "execution_count": 47,
   "id": "37053746",
   "metadata": {},
   "outputs": [],
   "source": [
    "from numpy import linalg as LA"
   ]
  },
  {
   "cell_type": "markdown",
   "id": "36a90b70",
   "metadata": {},
   "source": [
    "## Matriz inversa"
   ]
  },
  {
   "cell_type": "code",
   "execution_count": 50,
   "id": "797ce77a",
   "metadata": {},
   "outputs": [
    {
     "data": {
      "text/plain": [
       "array([[-5.,  2.],\n",
       "       [ 3., -1.]])"
      ]
     },
     "execution_count": 50,
     "metadata": {},
     "output_type": "execute_result"
    }
   ],
   "source": [
    "LA.inv(A"
   ]
  },
  {
   "cell_type": "markdown",
   "id": "a1805565",
   "metadata": {},
   "source": [
    "## Determinante"
   ]
  },
  {
   "cell_type": "code",
   "execution_count": 65,
   "id": "78901f4b",
   "metadata": {},
   "outputs": [
    {
     "data": {
      "text/plain": [
       "-1.0000000000000004"
      ]
     },
     "execution_count": 65,
     "metadata": {},
     "output_type": "execute_result"
    }
   ],
   "source": [
    "LA.det(A)"
   ]
  },
  {
   "cell_type": "markdown",
   "id": "f514e6fd",
   "metadata": {},
   "source": [
    "## Auto-valores e Auto-vetores"
   ]
  },
  {
   "cell_type": "code",
   "execution_count": 48,
   "id": "b0bd0500",
   "metadata": {},
   "outputs": [
    {
     "data": {
      "text/plain": [
       "array([-0.16227766,  6.16227766])"
      ]
     },
     "execution_count": 48,
     "metadata": {},
     "output_type": "execute_result"
    }
   ],
   "source": [
    "LA.eigvals(A)"
   ]
  },
  {
   "cell_type": "code",
   "execution_count": 63,
   "id": "8bbb3027",
   "metadata": {},
   "outputs": [
    {
     "name": "stdout",
     "output_type": "stream",
     "text": [
      "[-0.16227766  6.16227766]\n",
      "[[-0.86460354 -0.36126098]\n",
      " [ 0.50245469 -0.93246475]]\n"
     ]
    }
   ],
   "source": [
    "w, v = LA.eig(A)\n",
    "print(w)\n",
    "print(v)"
   ]
  },
  {
   "cell_type": "markdown",
   "id": "eeaaaf58",
   "metadata": {},
   "source": [
    "# Decomposições\n",
    "## Cholesky\n",
    "\n",
    "Tem uma similar no SciPy\n",
    "\n",
    "scipy.linalg.cholesky"
   ]
  },
  {
   "cell_type": "code",
   "execution_count": 70,
   "id": "bfbe70a2",
   "metadata": {},
   "outputs": [
    {
     "name": "stdout",
     "output_type": "stream",
     "text": [
      "2.9999999999999996\n"
     ]
    }
   ],
   "source": [
    "A = np.array([[2, 1], [1, 2]])\n",
    "print(LA.det(A))\n",
    "L = np.linalg.cholesky(A)"
   ]
  },
  {
   "cell_type": "code",
   "execution_count": 71,
   "id": "0238d7a5",
   "metadata": {},
   "outputs": [
    {
     "data": {
      "text/plain": [
       "array([[1.41421356, 0.        ],\n",
       "       [0.70710678, 1.22474487]])"
      ]
     },
     "execution_count": 71,
     "metadata": {},
     "output_type": "execute_result"
    }
   ],
   "source": [
    "L"
   ]
  },
  {
   "cell_type": "markdown",
   "id": "287e8a88",
   "metadata": {},
   "source": [
    "## QR\n",
    "\n",
    "Similar function in SciPy\n",
    "\n",
    "scipy.linalg.qr\n"
   ]
  },
  {
   "cell_type": "code",
   "execution_count": 72,
   "id": "a794bbe9",
   "metadata": {},
   "outputs": [],
   "source": [
    "q, r = np.linalg.qr(a)"
   ]
  },
  {
   "cell_type": "code",
   "execution_count": 73,
   "id": "d95d2fa6",
   "metadata": {},
   "outputs": [
    {
     "data": {
      "text/plain": [
       "array([[-0.31622777, -0.9486833 ],\n",
       "       [-0.9486833 ,  0.31622777]])"
      ]
     },
     "execution_count": 73,
     "metadata": {},
     "output_type": "execute_result"
    }
   ],
   "source": [
    "q"
   ]
  },
  {
   "cell_type": "code",
   "execution_count": 74,
   "id": "98025459",
   "metadata": {},
   "outputs": [
    {
     "data": {
      "text/plain": [
       "array([[-3.16227766, -5.37587202],\n",
       "       [ 0.        , -0.31622777]])"
      ]
     },
     "execution_count": 74,
     "metadata": {},
     "output_type": "execute_result"
    }
   ],
   "source": [
    "r"
   ]
  },
  {
   "cell_type": "markdown",
   "id": "0af00216",
   "metadata": {},
   "source": [
    "## References\n",
    "\n",
    "* https://towardsdatascience.com/numpy-crash-course-zero-to-hero-c1788a8a48ac\n",
    "* https://jakevdp.github.io/PythonDataScienceHandbook/\n",
    "* https://numpy.org/doc/1.24/reference/\n",
    "* https://numpy.org/doc/1.24/reference/routines.linalg.html\n",
    "\n",
    "\n",
    "## Change Log\n",
    "\n",
    "|  Date (YYYY-MM-DD) |  Version | Changed By  |  Change Description |\n",
    "|---|---|---|---|\n",
    "| 2023-05-10  | 0.9  | <a href=\"https://www.linkedin.com/in/eduardopecora/\" target=\"_blank\">Eduardo Pécora</a> |  Initial development |\n",
    "\n",
    "<hr>"
   ]
  },
  {
   "cell_type": "code",
   "execution_count": null,
   "id": "c23814a2",
   "metadata": {},
   "outputs": [],
   "source": []
  }
 ],
 "metadata": {
  "kernelspec": {
   "display_name": "Python 3 (ipykernel)",
   "language": "python",
   "name": "python3"
  },
  "language_info": {
   "codemirror_mode": {
    "name": "ipython",
    "version": 3
   },
   "file_extension": ".py",
   "mimetype": "text/x-python",
   "name": "python",
   "nbconvert_exporter": "python",
   "pygments_lexer": "ipython3",
   "version": "3.10.11"
  }
 },
 "nbformat": 4,
 "nbformat_minor": 5
}
