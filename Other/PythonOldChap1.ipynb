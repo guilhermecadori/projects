{
 "cells": [
  {
   "cell_type": "markdown",
   "id": "a27c57cb",
   "metadata": {},
   "source": [
    "### Part I"
   ]
  },
  {
   "cell_type": "code",
   "execution_count": 26,
   "id": "0fdbd1d8",
   "metadata": {},
   "outputs": [
    {
     "name": "stdout",
     "output_type": "stream",
     "text": [
      "2.5\n",
      "2\n",
      "1000\n",
      "1\n",
      "8.0\n",
      "3.0\n"
     ]
    }
   ],
   "source": [
    "# Division\n",
    "print(10 / 4)\n",
    "\n",
    "# Iteger division\n",
    "print(10 // 4)\n",
    "\n",
    "# Exponentiation\n",
    "print(10**3)\n",
    "\n",
    "# Remainder\n",
    "print(10 % 3)\n",
    "\n",
    "# In order to calculat the root, remeber the following: a**(x/y) --> x root of a**y\n",
    "# e.g. Squarte root of 64:\n",
    "print(64**(1/2))\n",
    "\n",
    "# e.g. Triple root of 27:\n",
    "print(27**(1/3))\n"
   ]
  },
  {
   "cell_type": "code",
   "execution_count": 30,
   "id": "6d77e613",
   "metadata": {},
   "outputs": [
    {
     "name": "stdout",
     "output_type": "stream",
     "text": [
      "Ex. 2.1\n",
      "610\n",
      "0.5333333333333333\n",
      "39377\n",
      "\n",
      "Ex. 2.2\n",
      "81.0\n"
     ]
    }
   ],
   "source": [
    "# Ex. 2.1\n",
    "print('Ex. 2.1')\n",
    "print(10 + 20 * 30)\n",
    "\n",
    "print(4**2 / 30)\n",
    "\n",
    "print((9**4 + 2) * 6 - 1)\n",
    "\n",
    "# Ex. 2.2\n",
    "print('\\nEx. 2.2')\n",
    "print(10 % 3 * 10**2 + 1 - 10 * 4 / 2)\n"
   ]
  },
  {
   "cell_type": "code",
   "execution_count": null,
   "id": "7850b392",
   "metadata": {},
   "outputs": [],
   "source": []
  }
 ],
 "metadata": {
  "kernelspec": {
   "display_name": "Python 3 (ipykernel)",
   "language": "python",
   "name": "python3"
  },
  "language_info": {
   "codemirror_mode": {
    "name": "ipython",
    "version": 3
   },
   "file_extension": ".py",
   "mimetype": "text/x-python",
   "name": "python",
   "nbconvert_exporter": "python",
   "pygments_lexer": "ipython3",
   "version": "3.9.13"
  }
 },
 "nbformat": 4,
 "nbformat_minor": 5
}
