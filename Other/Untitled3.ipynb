{
 "cells": [
  {
   "cell_type": "code",
   "execution_count": 1,
   "id": "1280b646",
   "metadata": {},
   "outputs": [],
   "source": [
    "import gurobipy as gp"
   ]
  },
  {
   "cell_type": "code",
   "execution_count": 4,
   "id": "523c1fc3",
   "metadata": {},
   "outputs": [
    {
     "name": "stdout",
     "output_type": "stream",
     "text": [
      "Set parameter Username\n",
      "Academic license - for non-commercial use only - expires 2024-03-07\n"
     ]
    }
   ],
   "source": [
    "m = gp.Model()"
   ]
  },
  {
   "cell_type": "code",
   "execution_count": 6,
   "id": "86d48a7e",
   "metadata": {},
   "outputs": [],
   "source": [
    "x1 = m.addVar()\n",
    "x2 = m.addVar()"
   ]
  },
  {
   "cell_type": "code",
   "execution_count": 7,
   "id": "ea4094d3",
   "metadata": {},
   "outputs": [
    {
     "data": {
      "text/plain": [
       "<gurobi.Constr *Awaiting Model Update*>"
      ]
     },
     "execution_count": 7,
     "metadata": {},
     "output_type": "execute_result"
    }
   ],
   "source": [
    "m.addConstr(x1 + x2 <= 16)\n",
    "m.addConstr(x1 + 4 * x2 >= 20)\n",
    "m.addConstr(x2 <= 8)"
   ]
  },
  {
   "cell_type": "code",
   "execution_count": 9,
   "id": "e486a2a8",
   "metadata": {},
   "outputs": [],
   "source": [
    "m.setObjective(x1 + 2 * x2, sense=gp.GRB.MAXIMIZE)"
   ]
  },
  {
   "cell_type": "code",
   "execution_count": 12,
   "id": "ea17a45c",
   "metadata": {},
   "outputs": [
    {
     "name": "stdout",
     "output_type": "stream",
     "text": [
      "Gurobi Optimizer version 10.0.1 build v10.0.1rc0 (win64)\n",
      "\n",
      "CPU model: 11th Gen Intel(R) Core(TM) i5-1135G7 @ 2.40GHz, instruction set [SSE2|AVX|AVX2|AVX512]\n",
      "Thread count: 4 physical cores, 8 logical processors, using up to 8 threads\n",
      "\n",
      "Optimize a model with 3 rows, 2 columns and 5 nonzeros\n",
      "Model fingerprint: 0xb5b32bc7\n",
      "Coefficient statistics:\n",
      "  Matrix range     [1e+00, 4e+00]\n",
      "  Objective range  [1e+00, 2e+00]\n",
      "  Bounds range     [0e+00, 0e+00]\n",
      "  RHS range        [8e+00, 2e+01]\n",
      "Presolve removed 3 rows and 2 columns\n",
      "Presolve time: 0.00s\n",
      "Presolve: All rows and columns removed\n",
      "Iteration    Objective       Primal Inf.    Dual Inf.      Time\n",
      "       0    2.4000000e+01   0.000000e+00   0.000000e+00      0s\n",
      "\n",
      "Solved in 0 iterations and 0.02 seconds (0.00 work units)\n",
      "Optimal objective  2.400000000e+01\n"
     ]
    }
   ],
   "source": [
    "m.optimize()"
   ]
  },
  {
   "cell_type": "code",
   "execution_count": 17,
   "id": "d87fdc1c",
   "metadata": {},
   "outputs": [
    {
     "name": "stdout",
     "output_type": "stream",
     "text": [
      "8.0\n",
      "8.0\n"
     ]
    }
   ],
   "source": [
    "for var in m.getVars():\n",
    "    if var.x > 0:\n",
    "        print(var.x)"
   ]
  },
  {
   "cell_type": "code",
   "execution_count": null,
   "id": "41639b13",
   "metadata": {},
   "outputs": [],
   "source": [
    "# Conferindo o valor da função objetivo\n",
    "print(\"Valor Objetivo:\", m.objVal)\n",
    "\n",
    "# Conferindo as variáveis de decisão\n",
    "for var in m.getVars():\n",
    "    if var.x > 0 and (var.varName.startswith(\"Unidade Espacial\") \n",
    "                      or var.varName.startswith(\"Unidade Espacial Sink\")):\n",
    "        print(var.varName,\": \", var.x, sep=\"\")\n"
   ]
  }
 ],
 "metadata": {
  "kernelspec": {
   "display_name": "Python 3 (ipykernel)",
   "language": "python",
   "name": "python3"
  },
  "language_info": {
   "codemirror_mode": {
    "name": "ipython",
    "version": 3
   },
   "file_extension": ".py",
   "mimetype": "text/x-python",
   "name": "python",
   "nbconvert_exporter": "python",
   "pygments_lexer": "ipython3",
   "version": "3.9.13"
  }
 },
 "nbformat": 4,
 "nbformat_minor": 5
}
