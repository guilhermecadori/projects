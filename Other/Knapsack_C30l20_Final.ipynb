{
 "cells": [
  {
   "cell_type": "markdown",
   "id": "dd21153c",
   "metadata": {},
   "source": [
    "## Combinatorial Optimization\n",
    "\n",
    "#### Assignment IV\n",
    "\n",
    "***Heuristics for the Knapsack Problem - Solving Multiple Instances***\n",
    "\n",
    "**Instance:** C30I20\n",
    "\n",
    "Guilherme Cadori\n",
    "\n",
    "09/07/2023\n"
   ]
  },
  {
   "cell_type": "code",
   "execution_count": 2,
   "id": "de8829cf",
   "metadata": {},
   "outputs": [],
   "source": [
    "# Importing required libraries\n",
    "import numpy as np\n"
   ]
  },
  {
   "cell_type": "markdown",
   "id": "d85dd5a0",
   "metadata": {},
   "source": [
    "#### 1. Read the instance"
   ]
  },
  {
   "cell_type": "code",
   "execution_count": 3,
   "id": "8d7a50e8",
   "metadata": {},
   "outputs": [
    {
     "name": "stdout",
     "output_type": "stream",
     "text": [
      "\n",
      " linhas: 30\n",
      "\n",
      " colunas: 20\n",
      "\n",
      " cost: [0.30876 0.27366 0.40452 0.78949 0.99419 0.26734 0.13833 0.91129 0.10879\n",
      " 0.45288 0.6373  0.08602 0.81526 0.05092 0.77633 0.85511 0.87917 0.1723\n",
      " 0.89771 0.84468]\n",
      "\n",
      " rhs: [162.68004 178.80225 199.18652 218.22931 193.79358 179.28003 215.02693\n",
      " 218.88757 164.77    192.88625 208.58598 173.80133 182.70836 240.55583\n",
      " 188.87265 186.98349 138.40446 186.41516 237.99693 172.38055 199.76094\n",
      " 165.92651 208.38326 196.09937 191.49927 211.63223 180.99176 171.4373\n",
      " 216.65773 169.84282]\n",
      "\n",
      " Matrix:\n",
      "[12.73264 22.44011 0.93729 2.96613 1.81641 3.38822 20.89636 5.17353\n",
      " 1.57997 4.60206 21.84674 3.16493 17.98423 10.98489 22.96316 16.83319\n",
      " 15.33118 21.17208 14.22625 0.62673]\n",
      "[0.69962 8.46768 16.29891 10.78457 6.19274 6.38173 7.68375 15.86962\n",
      " 20.69212 22.39649 17.86554 16.11791 18.6629 17.34636 15.3464 1.96366\n",
      " 3.21747 1.05363 8.33088 17.15013]\n",
      "[14.60403 24.98539 4.41362 4.70763 21.13298 6.98283 10.38871 3.0565\n",
      " 20.52219 16.44674 20.32751 19.47576 4.08472 1.86515 22.56647 24.64352\n",
      " 8.64237 2.23827 18.57476 10.92052]\n",
      "[9.03412 11.4874 18.68839 20.78197 7.57916 7.98432 17.46305 1.50521\n",
      " 23.01039 10.5816 19.92022 24.04777 20.9434 20.65326 19.41179 3.91494\n",
      " 23.33628 12.95476 5.61766 16.01624]\n",
      "[5.34513 10.67629 11.35292 8.5795 20.61131 14.2389 13.10855 15.36494\n",
      " 13.50442 18.75808 17.09185 12.7398 17.82454 2.04073 23.47161 12.28064\n",
      " 0.75738 4.20454 15.75568 5.76837]\n",
      "[24.50281 18.77067 3.67774 11.84225 7.71008 8.35728 10.73504 23.88302\n",
      " 1.95673 11.82508 19.08747 3.21013 2.65194 21.12167 16.90282 10.68585\n",
      " 22.14568 2.4369 6.9558 6.19926]\n",
      "[6.84805 20.14454 19.36614 11.74976 3.2869 18.00657 11.40486 6.50748\n",
      " 21.29143 20.04936 19.67661 4.85155 15.00408 23.53176 23.27263 18.11591\n",
      " 24.05319 11.96974 0.49427 7.12277]\n",
      "[17.56364 17.03716 18.61158 4.85034 19.67254 11.37728 17.8765 0.33694\n",
      " 13.00466 19.32152 11.81415 10.38968 19.28506 23.99124 20.75271 15.77481\n",
      " 2.30008 7.37951 2.40522 24.47175]\n",
      "[14.46407 22.5586 17.37847 4.88808 3.96357 15.74401 9.56579 22.27248\n",
      " 8.54844 23.68718 10.37698 5.94254 1.23224 10.2526 15.43615 10.4302\n",
      " 0.38776 17.04175 20.66551 0.27817]\n",
      "[16.85237 12.7549 21.584 12.24525 5.97659 23.63058 9.19469 10.22633\n",
      " 23.92621 2.74546 17.8961 4.81828 5.90548 3.32995 16.38673 11.72159\n",
      " 4.70039 24.40868 11.61006 5.25208]\n",
      "[13.40199 22.32586 5.70707 18.64783 14.1551 4.78529 1.40506 14.86711\n",
      " 21.51774 23.74602 24.41875 5.84355 12.61399 3.37416 9.52964 14.68404\n",
      " 19.67263 12.90655 20.3603 20.6169]\n",
      "[22.03971 21.43916 2.90768 19.45074 8.50894 9.74458 2.08076 21.25918\n",
      " 3.00814 7.79561 20.87524 0.10603 7.05371 1.78418 11.79662 15.86129\n",
      " 5.72298 11.132 20.60181 4.56355]\n",
      "[10.57032 5.31664 6.70777 12.50657 22.89475 17.12643 18.92715 8.70272\n",
      " 16.60773 1.06576 12.24596 17.77798 19.46132 11.46003 8.76026 8.6435\n",
      " 21.30252 6.47289 14.92485 16.95584]\n",
      "[24.16937 14.66903 17.34579 5.69414 1.40954 15.17361 22.84593 21.49698\n",
      " 24.78563 22.11702 20.74872 23.72807 22.66506 6.59546 24.92131 2.42147\n",
      " 22.6048 18.82199 16.27375 12.91136]\n",
      "[2.95368 17.55319 16.41285 0.78031 14.74988 1.31342 24.61221 7.31336\n",
      " 15.62074 12.84328 7.02732 8.12727 20.00815 1.93963 24.30208 19.99956\n",
      " 7.67479 15.23412 14.86461 4.52927]\n",
      "[1.86517 22.88578 16.38528 12.33951 15.16365 5.47804 19.45532 10.51983\n",
      " 6.71457 1.78076 4.15855 17.66673 24.76714 11.37044 3.00516 7.73992\n",
      " 9.77828 18.47647 9.00621 17.40632]\n",
      "[4.08102 14.73845 9.16196 10.14527 11.56389 4.31179 18.18379 14.87643\n",
      " 3.11889 19.25254 2.44281 6.25952 3.69345 0.79105 20.24944 7.32136 0.15799\n",
      " 5.30591 1.41718 18.55757]\n",
      "[15.0924 8.01596 24.19871 7.71523 19.78857 11.45218 1.81922 0.55364\n",
      " 5.08816 16.75761 20.13376 13.03914 23.90917 16.36843 4.22882 23.79225\n",
      " 1.33323 7.51562 15.11204 13.0563]\n",
      "[10.83379 8.44682 15.68402 1.39443 11.13279 8.85792 24.98066 24.96345\n",
      " 10.69752 18.14418 24.30359 20.5014 16.98057 17.39623 3.38698 24.93402\n",
      " 16.07333 19.39487 19.62247 19.75887]\n",
      "[12.50805 22.75561 3.48736 12.01337 8.77928 3.37573 10.86909 1.82159\n",
      " 15.49434 13.45928 10.17863 22.28451 10.72019 24.27271 1.51059 13.48165\n",
      " 11.10498 16.32372 2.84278 3.65443]\n",
      "[20.7663 19.26899 3.92848 0.89325 12.93303 15.39407 3.19076 2.02841\n",
      " 16.48507 14.64784 11.22955 10.10427 22.47849 21.00582 19.73248 18.70476\n",
      " 20.95418 1.88361 7.7607 9.10768]\n",
      "[20.89199 6.64597 23.79104 5.94084 22.65484 9.88453 4.27256 8.87224\n",
      " 15.77789 3.99481 15.77775 1.67938 0.32313 5.84481 8.6816 11.65762 4.60633\n",
      " 18.50791 12.47984 23.66624]\n",
      "[14.57662 14.2529 23.47897 11.094 6.85425 24.2918 22.30897 21.78341\n",
      " 13.78869 21.50744 0.56315 14.80049 1.82336 20.16352 13.3488 3.28468\n",
      " 5.53587 16.35968 7.12614 19.12231]\n",
      "[22.83227 16.99027 5.45589 22.16471 22.36009 6.04441 13.31782 7.63389\n",
      " 2.87209 21.17959 15.36991 22.10002 10.04613 20.32968 5.92766 1.19833\n",
      " 15.32367 19.95466 3.00931 2.47463]\n",
      "[6.90842 9.87793 18.3643 23.72269 7.19653 2.11031 17.97966 9.15401 1.36229\n",
      " 21.0556 6.38485 10.15995 8.31601 17.1577 19.46355 23.83075 23.4102\n",
      " 5.16685 14.2162 6.71236]\n",
      "[3.82215 13.79916 22.52483 24.87982 5.17825 5.88535 15.1631 21.13708\n",
      " 0.81672 1.67765 21.31587 5.76372 20.89568 18.74117 7.75594 4.12767\n",
      " 23.66653 13.42288 23.3528 15.56175]\n",
      "[9.60836 12.68344 20.51239 1.76075 17.9974 7.26374 6.61623 23.91027\n",
      " 9.83612 15.65906 6.7809 16.58327 15.04657 12.63004 23.06106 12.28682\n",
      " 4.58023 4.90605 5.94872 5.22219]\n",
      "[12.80282 2.06433 20.26716 5.12039 8.36173 10.62929 21.45821 23.19735\n",
      " 2.79627 21.84671 2.66972 19.93069 0.05812 1.87606 5.98624 10.68867\n",
      " 19.42399 9.06129 18.14665 15.7812]\n",
      "[17.39674 11.96664 23.23427 23.40778 14.60199 15.70648 3.76689 10.06681\n",
      " 17.95391 1.44051 10.57453 1.16582 18.97716 24.1364 10.54526 9.13901\n",
      " 24.33129 10.97158 24.31527 16.69165]\n",
      "[18.27221 1.09651 4.12638 2.11232 1.77744 23.51521 20.16593 3.7178\n",
      " 10.06125 24.45815 18.1389 10.49426 2.02733 23.36722 7.95673 3.7988\n",
      " 21.51512 4.64306 10.96344 12.62205]\n"
     ]
    }
   ],
   "source": [
    "# Reading the target file\n",
    "# GC: the code template below was provided in class and was adapted by GC (2023-07-09)\n",
    "\n",
    "filename = \"C:\\gccadori\\Lab4_CO\\Knap_C30I20.dat\"  # Substitua pelo nome do arquivo real\n",
    "\n",
    "# Variáveis para armazenar os dados lidos\n",
    "linha = None\n",
    "coluna = None\n",
    "cost = None\n",
    "rhs = None\n",
    "matrix = None\n",
    "\n",
    "# Função auxiliar para converter uma linha de valores em uma lista de floats\n",
    "def parse_values(line):\n",
    "    return [float(value) for value in line.strip().split()]\n",
    "\n",
    "# Ler o arquivo e extrair os dados\n",
    "with open(filename, \"r\") as file:\n",
    "    lines = file.readlines()\n",
    "\n",
    "# Ler o escalar\n",
    "linha = int(lines[0].strip())\n",
    "coluna = int(lines[2].strip())\n",
    "\n",
    "# Ler o vetor\n",
    "cost = np.array(parse_values(lines[5]))\n",
    "\n",
    "# Ler a matriz\n",
    "end = 7 + linha\n",
    "matrix_lines = [line.strip() for line in lines[7:end]]\n",
    "matrix = np.array([parse_values(line) for line in matrix_lines],dtype=object)\n",
    "\n",
    "# Ler vetor de RHS\n",
    "rhs = np.array(parse_values(lines[end+1]))\n",
    "\n",
    "# Imprimir os dados lidos\n",
    "print(\"\\n linhas:\", linha)\n",
    "print(\"\\n colunas:\", coluna)\n",
    "print(\"\\n cost:\", cost)\n",
    "print(\"\\n rhs:\", rhs)\n",
    "print(\"\\n Matrix:\")\n",
    "for row in matrix:\n",
    "    print(row)\n"
   ]
  },
  {
   "cell_type": "markdown",
   "id": "16d31fe9",
   "metadata": {},
   "source": [
    "#### 2.\tConstruct an initial feasible solution"
   ]
  },
  {
   "cell_type": "code",
   "execution_count": 4,
   "id": "e4719fdc",
   "metadata": {},
   "outputs": [],
   "source": [
    "# Renaming variables for testing purposes\n",
    "c = cost\n",
    "\n",
    "A = matrix\n",
    "\n",
    "b = rhs\n"
   ]
  },
  {
   "cell_type": "code",
   "execution_count": 5,
   "id": "568eb626",
   "metadata": {},
   "outputs": [],
   "source": [
    "# Providing an initial feasible solution\n",
    "\n",
    "def randomStart(nVars, A, b, c):\n",
    "    # Creating variable names x1, ..., x_nVars\n",
    "    variable_names = ['x{}'.format(i) for i in range(1, nVars+1)]\n",
    "\n",
    "    while True:\n",
    "        np.random.seed(12345)\n",
    "        x = np.random.randint(2, size=nVars)\n",
    "        \n",
    "        if np.all(A @ x <= b):\n",
    "            FO = x @ c\n",
    "            print('The initial feasible solution is:')   \n",
    "            print('Objective function value:', round(FO, 2))\n",
    "            return\n"
   ]
  },
  {
   "cell_type": "code",
   "execution_count": 6,
   "id": "aa70ddb0",
   "metadata": {},
   "outputs": [
    {
     "name": "stdout",
     "output_type": "stream",
     "text": [
      "The initial feasible solution is:\n",
      "Objective function value: 5.34\n"
     ]
    }
   ],
   "source": [
    "# Testing the function\n",
    "randomStart(nVars = coluna, A = A, b = b, c = c)\n"
   ]
  },
  {
   "cell_type": "markdown",
   "id": "486d6ba0",
   "metadata": {},
   "source": [
    "#### 3.\tProgram the heuristic you proposed in the previous assingment"
   ]
  },
  {
   "cell_type": "code",
   "execution_count": 7,
   "id": "54751af0",
   "metadata": {},
   "outputs": [],
   "source": [
    "# Implementing the heuristic algorithm proposed in Lab III\n",
    "\n",
    "def naiveKnapsack(nVars, items_c, capacity_b, A):\n",
    "    # Sort the items in descending order of value\n",
    "    sorted_items = sorted(range(nVars), key=lambda i: items_c[i], reverse=True)\n",
    "\n",
    "    # Initialize variables\n",
    "    selected_items = np.zeros(nVars, dtype=int)\n",
    "    total_weight = np.zeros_like(capacity_b, dtype=items_c.dtype)\n",
    "    total_value = 0\n",
    "\n",
    "    # Greedy selection process\n",
    "    for idx in sorted_items:\n",
    "        weight = A[:, idx]\n",
    "        if np.all(total_weight + weight <= capacity_b):\n",
    "            # Add the item to the knapsack\n",
    "            selected_items[idx] = 1\n",
    "            total_weight += weight.astype(total_weight.dtype)  # Ensure matching data type\n",
    "            total_value += items_c[idx]\n",
    "\n",
    "    # Print the selected items and total value\n",
    "    print('The initial feasible solution is:')\n",
    "    print('Objective function value:', round(total_value, 2))\n",
    "\n",
    "    # Return the complete list of items\n",
    "    return\n"
   ]
  },
  {
   "cell_type": "code",
   "execution_count": 8,
   "id": "b947dfa6",
   "metadata": {},
   "outputs": [
    {
     "name": "stdout",
     "output_type": "stream",
     "text": [
      "The initial feasible solution is:\n",
      "Objective function value: 9.53\n"
     ]
    }
   ],
   "source": [
    "# Testing the function\n",
    "naiveKnapsack(nVars = coluna, items_c = c, capacity_b = b , A = A)\n"
   ]
  },
  {
   "cell_type": "markdown",
   "id": "8cf770f6",
   "metadata": {},
   "source": [
    "#### 4.\tProgram a Local Search "
   ]
  },
  {
   "cell_type": "code",
   "execution_count": 9,
   "id": "17433f89",
   "metadata": {},
   "outputs": [],
   "source": [
    "# Local Search metaheuristic implementation\n",
    "def LocalSearch(nVars, A, b, c, nStarts=1, max_iterations=1000):\n",
    "    import numpy as np\n",
    "\n",
    "    # Creating variable names\n",
    "    variable_names = ['x{}'.format(i) for i in range(1, nVars + 1)]\n",
    "\n",
    "    best_solution = None\n",
    "    best_value = -np.inf\n",
    "\n",
    "    # Escaping Local Optima - Multiple Starting Solutions\n",
    "    for n in range(1, nStarts + 1):\n",
    "        # Producing an initial feasible solution\n",
    "        while True:\n",
    "            x = np.random.randint(2, size=nVars)\n",
    "            if np.all(A @ x <= b):\n",
    "                FO = x @ c\n",
    "                break  # Exit the loop once an initial feasible solution is found\n",
    "\n",
    "        # Setting initial search parameters\n",
    "        s = FO\n",
    "        s_new = 0\n",
    "        n_iterations = 0\n",
    "        best_iteration = 0\n",
    "\n",
    "        # Termination criteria\n",
    "        while n_iterations - best_iteration < max_iterations:\n",
    "            n_iterations += 1\n",
    "\n",
    "            # Neighbor Selection: Swap Two - First Improvement Strategy\n",
    "            def generate_neighbor_solution(x):\n",
    "                x_new = x.copy()\n",
    "                idx1, idx2 = np.random.choice(len(x), size=2, replace=False)\n",
    "                x_new[idx1], x_new[idx2] = x_new[idx2], x_new[idx1]\n",
    "                return x_new\n",
    "\n",
    "            # Generating neighbor solution\n",
    "            x_new = generate_neighbor_solution(x)\n",
    "\n",
    "            # Evaluate solution\n",
    "            if np.all(A @ x_new <= b):\n",
    "                FO_new = x_new @ c\n",
    "            else:\n",
    "                FO_new = -np.inf\n",
    "\n",
    "            # Update the current solution\n",
    "            if FO_new > s_new:\n",
    "                x = x_new\n",
    "                s_new = FO_new\n",
    "                best_iteration = n_iterations\n",
    "\n",
    "                # Check if the current solution is the best found so far\n",
    "                if s_new > best_value:\n",
    "                    best_solution = x.copy()\n",
    "                    best_value = s_new\n",
    "\n",
    "    # Print the best solution found\n",
    "    print('The best solution found:')\n",
    "    print('Objective function value:', round(best_value, 2))\n",
    "\n",
    "    return\n"
   ]
  },
  {
   "cell_type": "markdown",
   "id": "cfa5b5fd",
   "metadata": {},
   "source": [
    "#### 5.\tRunning the heuristic for the given instance"
   ]
  },
  {
   "cell_type": "code",
   "execution_count": 10,
   "id": "693e4cce",
   "metadata": {},
   "outputs": [
    {
     "name": "stdout",
     "output_type": "stream",
     "text": [
      "The best solution found:\n",
      "Objective function value: 9.53\n",
      "Elapsed time: 4.62 seconds\n"
     ]
    }
   ],
   "source": [
    "import time\n",
    "\n",
    "# Record starting time\n",
    "start_time = time.time()\n",
    "\n",
    "# Running the proposed heuristic for this instance\n",
    "LocalSearch(nVars = coluna, A = A, b = b, c = c, \n",
    "            nStarts = 100,\n",
    "            max_iterations = 500)\n",
    "\n",
    "# Record ending time\n",
    "end_time = time.time()\n",
    "\n",
    "# Calculate the elapsed time\n",
    "elapsed_time = round(end_time - start_time, 2)\n",
    "\n",
    "# Print the elapsed time\n",
    "print(\"Elapsed time:\", elapsed_time, \"seconds\")\n"
   ]
  },
  {
   "cell_type": "markdown",
   "id": "84e266e3",
   "metadata": {},
   "source": [
    "**Test Run Results**\n",
    "\n",
    "The best solution found:\n",
    "\n",
    "- Objective function value: 9.53\n",
    "- Elapsed time: 4.62 seconds\n"
   ]
  },
  {
   "cell_type": "markdown",
   "id": "1be94c39",
   "metadata": {},
   "source": [
    "### End"
   ]
  }
 ],
 "metadata": {
  "kernelspec": {
   "display_name": "Python 3 (ipykernel)",
   "language": "python",
   "name": "python3"
  },
  "language_info": {
   "codemirror_mode": {
    "name": "ipython",
    "version": 3
   },
   "file_extension": ".py",
   "mimetype": "text/x-python",
   "name": "python",
   "nbconvert_exporter": "python",
   "pygments_lexer": "ipython3",
   "version": "3.9.13"
  }
 },
 "nbformat": 4,
 "nbformat_minor": 5
}
