{
 "cells": [
  {
   "cell_type": "code",
   "execution_count": 1,
   "id": "3444d37e",
   "metadata": {},
   "outputs": [],
   "source": [
    "import gurobipy as gp"
   ]
  },
  {
   "cell_type": "code",
   "execution_count": null,
   "id": "2e977b01",
   "metadata": {},
   "outputs": [],
   "source": [
    "m = gp.Model(\"ExModel\")\n",
    "\n",
    "x1 = m.addVar()\n",
    "x2 = m.addVar()\n",
    "x3 = m.addVar()\n",
    "x4 = m.addVar()\n",
    "x5 = m.addVar()\n",
    "\n",
    "m.setObjective(12*x1 + 18*x2 + 22*x3 + 0.00001*x3 + 0.00001*x4 + 0.00001*x5, sense=gp.GRB.MAXIMIZE)\n",
    "\n",
    "c1 = m.addConstr(1.5*x1 + 1.2*x3 <= 120)\n",
    "c2 = m.addConstr(2.2*x2 + 1.4*x3 <=200)\n",
    "c3 = m.addConstr(1.2*x1 + 2*x2 +2.4*x3 <= 250)\n",
    "\n",
    "m.optimize()"
   ]
  },
  {
   "cell_type": "code",
   "execution_count": null,
   "id": "8335743d",
   "metadata": {},
   "outputs": [],
   "source": [
    "# Unidade de cada produto\n",
    "print(\"x1\", x1.X)\n",
    "print(\"x2\", x2.X)\n",
    "print(\"x3\", x3.X)\n",
    "print(\"x4\", x4.X)\n",
    "print(\"x5\", x5.X)"
   ]
  },
  {
   "cell_type": "code",
   "execution_count": null,
   "id": "7f355b9c",
   "metadata": {},
   "outputs": [],
   "source": [
    "# Continuar exemplo: https://www.youtube.com/watch?v=LVmTcrOBgYI\n"
   ]
  }
 ],
 "metadata": {
  "kernelspec": {
   "display_name": "Python 3 (ipykernel)",
   "language": "python",
   "name": "python3"
  },
  "language_info": {
   "codemirror_mode": {
    "name": "ipython",
    "version": 3
   },
   "file_extension": ".py",
   "mimetype": "text/x-python",
   "name": "python",
   "nbconvert_exporter": "python",
   "pygments_lexer": "ipython3",
   "version": "3.9.13"
  }
 },
 "nbformat": 4,
 "nbformat_minor": 5
}
