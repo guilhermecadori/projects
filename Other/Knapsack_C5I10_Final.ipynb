{
 "cells": [
  {
   "cell_type": "markdown",
   "id": "dd21153c",
   "metadata": {},
   "source": [
    "## Combinatorial Optimization\n",
    "\n",
    "#### Assignment IV\n",
    "\n",
    "***Heuristics for the Knapsack Problem - Solving Multiple Instances***\n",
    "\n",
    "**Instance:** C5I10\n",
    "\n",
    "Guilherme Cadori\n",
    "\n",
    "09/07/2023\n"
   ]
  },
  {
   "cell_type": "code",
   "execution_count": 1,
   "id": "de8829cf",
   "metadata": {},
   "outputs": [],
   "source": [
    "# Importing required libraries\n",
    "import numpy as np\n"
   ]
  },
  {
   "cell_type": "markdown",
   "id": "d85dd5a0",
   "metadata": {},
   "source": [
    "#### 1. Read the instance"
   ]
  },
  {
   "cell_type": "code",
   "execution_count": 2,
   "id": "8d7a50e8",
   "metadata": {},
   "outputs": [
    {
     "name": "stdout",
     "output_type": "stream",
     "text": [
      "\n",
      " linhas: 5\n",
      "\n",
      " colunas: 10\n",
      "\n",
      " cost: [0.30843 0.74907 0.6691  0.52619 0.61796 0.07105 0.16246 0.39898 0.57834\n",
      " 0.19578]\n",
      "\n",
      " rhs: [116.12312  82.05387 109.88891  69.12963 128.29675]\n",
      "\n",
      " Matrix:\n",
      "[13.2553 6.76342 22.86785 14.97223 13.27365 15.19261 17.27234 21.22448\n",
      " 19.85637 0.93261]\n",
      "[1.32876 7.51181 1.00781 13.34117 0.11301 24.33323 18.55862 14.78065\n",
      " 18.35194 16.00987]\n",
      "[17.40859 11.14715 0.07718 22.18725 1.06069 1.94107 23.637 17.02113\n",
      " 24.08336 19.02182]\n",
      "[0.27528 1.69006 4.87256 18.16527 3.74127 4.52415 12.46014 17.57698\n",
      " 16.24719 16.45475]\n",
      "[15.11814 15.51384 16.12041 10.67837 21.38512 19.73834 17.26438 12.49316\n",
      " 22.49747 15.0008]\n"
     ]
    }
   ],
   "source": [
    "# Reading the target file\n",
    "# GC: the code template below was provided in class and was adapted by GC (2023-07-09)\n",
    "\n",
    "filename = \"C:\\gccadori\\Lab4_CO\\Knap_C5I10.dat\"  # Substitua pelo nome do arquivo real\n",
    "\n",
    "# Variáveis para armazenar os dados lidos\n",
    "linha = None\n",
    "coluna = None\n",
    "cost = None\n",
    "rhs = None\n",
    "matrix = None\n",
    "\n",
    "# Função auxiliar para converter uma linha de valores em uma lista de floats\n",
    "def parse_values(line):\n",
    "    return [float(value) for value in line.strip().split()]\n",
    "\n",
    "# Ler o arquivo e extrair os dados\n",
    "with open(filename, \"r\") as file:\n",
    "    lines = file.readlines()\n",
    "\n",
    "# Ler o escalar\n",
    "linha = int(lines[0].strip())\n",
    "coluna = int(lines[2].strip())\n",
    "\n",
    "# Ler o vetor\n",
    "cost = np.array(parse_values(lines[5]))\n",
    "\n",
    "# Ler a matriz\n",
    "end = 7 + linha\n",
    "matrix_lines = [line.strip() for line in lines[7:end]]\n",
    "matrix = np.array([parse_values(line) for line in matrix_lines],dtype=object)\n",
    "\n",
    "# Ler vetor de RHS\n",
    "rhs = np.array(parse_values(lines[end+1]))\n",
    "\n",
    "# Imprimir os dados lidos\n",
    "print(\"\\n linhas:\", linha)\n",
    "print(\"\\n colunas:\", coluna)\n",
    "print(\"\\n cost:\", cost)\n",
    "print(\"\\n rhs:\", rhs)\n",
    "print(\"\\n Matrix:\")\n",
    "for row in matrix:\n",
    "    print(row)\n"
   ]
  },
  {
   "cell_type": "markdown",
   "id": "16d31fe9",
   "metadata": {},
   "source": [
    "#### 2.\tConstruct an initial feasible solution"
   ]
  },
  {
   "cell_type": "code",
   "execution_count": 3,
   "id": "e4719fdc",
   "metadata": {},
   "outputs": [],
   "source": [
    "# Renaming variables for testing purposes\n",
    "c = cost\n",
    "\n",
    "A = matrix\n",
    "\n",
    "b = rhs\n"
   ]
  },
  {
   "cell_type": "code",
   "execution_count": 4,
   "id": "568eb626",
   "metadata": {},
   "outputs": [],
   "source": [
    "# Providing an initial feasible solution\n",
    "\n",
    "def randomStart(nVars, A, b, c):\n",
    "    # Creating variable names x1, ..., x_nVars\n",
    "    variable_names = ['x{}'.format(i) for i in range(1, nVars+1)]\n",
    "\n",
    "    while True:\n",
    "        np.random.seed(12345)\n",
    "        x = np.random.randint(2, size=nVars)\n",
    "        \n",
    "        if np.all(A @ x <= b):\n",
    "            FO = x @ c\n",
    "            print('The initial feasible solution is:')\n",
    "            for i, var in enumerate(variable_names):\n",
    "                print('Item {}: {}'.format(i+1, x[i]))   \n",
    "            print('Objective function value:', round(FO, 2))\n",
    "            return\n"
   ]
  },
  {
   "cell_type": "code",
   "execution_count": 5,
   "id": "aa70ddb0",
   "metadata": {},
   "outputs": [
    {
     "name": "stdout",
     "output_type": "stream",
     "text": [
      "The initial feasible solution is:\n",
      "Item 1: 0\n",
      "Item 2: 1\n",
      "Item 3: 1\n",
      "Item 4: 1\n",
      "Item 5: 0\n",
      "Item 6: 1\n",
      "Item 7: 0\n",
      "Item 8: 0\n",
      "Item 9: 1\n",
      "Item 10: 0\n",
      "Objective function value: 2.59\n"
     ]
    }
   ],
   "source": [
    "# Testing the function\n",
    "randomStart(nVars = coluna, A = A, b = b, c = c)\n"
   ]
  },
  {
   "cell_type": "markdown",
   "id": "486d6ba0",
   "metadata": {},
   "source": [
    "#### 3.\tProgram the heuristic you proposed in the previous assingment"
   ]
  },
  {
   "cell_type": "code",
   "execution_count": 6,
   "id": "54751af0",
   "metadata": {},
   "outputs": [],
   "source": [
    "# Implementing the heuristic algorithm proposed in Lab III\n",
    "\n",
    "def naiveKnapsack(nVars, items_c, capacity_b, A):\n",
    "    # Sort the items in descending order of value\n",
    "    sorted_items = sorted(range(nVars), key=lambda i: items_c[i], reverse=True)\n",
    "\n",
    "    # Initialize variables\n",
    "    selected_items = np.zeros(nVars, dtype=int)\n",
    "    total_weight = np.zeros_like(capacity_b, dtype=items_c.dtype)\n",
    "    total_value = 0\n",
    "\n",
    "    # Greedy selection process\n",
    "    for idx in sorted_items:\n",
    "        weight = A[:, idx]\n",
    "        if np.all(total_weight + weight <= capacity_b):\n",
    "            # Add the item to the knapsack\n",
    "            selected_items[idx] = 1\n",
    "            total_weight += weight.astype(total_weight.dtype)  # Ensure matching data type\n",
    "            total_value += items_c[idx]\n",
    "\n",
    "    # Print the selected items and total value\n",
    "    print('The initial feasible solution is:')\n",
    "    for idx in range(nVars):\n",
    "        print('Item {}: {}'.format(idx + 1, selected_items[idx]))\n",
    "    print('Objective function value:', round(total_value, 2))\n",
    "\n",
    "    # Return the complete list of items\n",
    "    return\n"
   ]
  },
  {
   "cell_type": "code",
   "execution_count": 7,
   "id": "b947dfa6",
   "metadata": {},
   "outputs": [
    {
     "name": "stdout",
     "output_type": "stream",
     "text": [
      "The initial feasible solution is:\n",
      "Item 1: 1\n",
      "Item 2: 1\n",
      "Item 3: 1\n",
      "Item 4: 1\n",
      "Item 5: 1\n",
      "Item 6: 0\n",
      "Item 7: 0\n",
      "Item 8: 1\n",
      "Item 9: 1\n",
      "Item 10: 0\n",
      "Objective function value: 3.85\n"
     ]
    }
   ],
   "source": [
    "# Testing the function\n",
    "naiveKnapsack(nVars = coluna, items_c = c, capacity_b = b , A = A)\n"
   ]
  },
  {
   "cell_type": "markdown",
   "id": "8cf770f6",
   "metadata": {},
   "source": [
    "#### 4.\tProgram a Local Search "
   ]
  },
  {
   "cell_type": "code",
   "execution_count": 8,
   "id": "17433f89",
   "metadata": {},
   "outputs": [],
   "source": [
    "# Local Search metaheuristic implementation\n",
    "def LocalSearch(nVars, A, b, c, nStarts=1, max_iterations=1000):\n",
    "    import numpy as np\n",
    "\n",
    "    # Creating variable names\n",
    "    variable_names = ['x{}'.format(i) for i in range(1, nVars + 1)]\n",
    "\n",
    "    best_solution = None\n",
    "    best_value = -np.inf\n",
    "\n",
    "    # Escaping Local Optima - Multiple Starting Solutions\n",
    "    for n in range(1, nStarts + 1):\n",
    "        # Producing an initial feasible solution\n",
    "        while True:\n",
    "            x = np.random.randint(2, size=nVars)\n",
    "            if np.all(A @ x <= b):\n",
    "                FO = x @ c\n",
    "                break  # Exit the loop once an initial feasible solution is found\n",
    "\n",
    "        # Setting initial search parameters\n",
    "        s = FO\n",
    "        s_new = 0\n",
    "        n_iterations = 0\n",
    "        best_iteration = 0\n",
    "\n",
    "        # Termination criteria\n",
    "        while n_iterations - best_iteration < max_iterations:\n",
    "            n_iterations += 1\n",
    "\n",
    "            # Neighbor Selection: Swap Two - First Improvement Strategy\n",
    "            def generate_neighbor_solution(x):\n",
    "                x_new = x.copy()\n",
    "                idx1, idx2 = np.random.choice(len(x), size=2, replace=False)\n",
    "                x_new[idx1], x_new[idx2] = x_new[idx2], x_new[idx1]\n",
    "                return x_new\n",
    "\n",
    "            # Generating neighbor solution\n",
    "            x_new = generate_neighbor_solution(x)\n",
    "\n",
    "            # Evaluate solution\n",
    "            if np.all(A @ x_new <= b):\n",
    "                FO_new = x_new @ c\n",
    "            else:\n",
    "                FO_new = -np.inf\n",
    "\n",
    "            # Update the current solution\n",
    "            if FO_new > s_new:\n",
    "                x = x_new\n",
    "                s_new = FO_new\n",
    "                best_iteration = n_iterations\n",
    "\n",
    "                # Check if the current solution is the best found so far\n",
    "                if s_new > best_value:\n",
    "                    best_solution = x.copy()\n",
    "                    best_value = s_new\n",
    "\n",
    "    # Print the best solution found\n",
    "    print('The best solution found:')\n",
    "    print('Objective function value:', round(best_value, 2))\n",
    "\n",
    "    return\n"
   ]
  },
  {
   "cell_type": "markdown",
   "id": "cfa5b5fd",
   "metadata": {},
   "source": [
    "#### 5.\tRunning the heuristic for the given instance"
   ]
  },
  {
   "cell_type": "code",
   "execution_count": 9,
   "id": "693e4cce",
   "metadata": {},
   "outputs": [
    {
     "name": "stdout",
     "output_type": "stream",
     "text": [
      "The best solution found:\n",
      "Objective function value: 3.85\n",
      "Elapsed time: 0.33 seconds\n"
     ]
    }
   ],
   "source": [
    "import time\n",
    "\n",
    "# Record starting time\n",
    "start_time = time.time()\n",
    "\n",
    "# Running the proposed heuristic for this instance\n",
    "LocalSearch(nVars = coluna, A = A, b = b, c = c, \n",
    "            nStarts = 50,\n",
    "            max_iterations = 100)\n",
    "\n",
    "# Record ending time\n",
    "end_time = time.time()\n",
    "\n",
    "# Calculate the elapsed time\n",
    "elapsed_time = round(end_time - start_time, 2)\n",
    "\n",
    "# Print the elapsed time\n",
    "print(\"Elapsed time:\", elapsed_time, \"seconds\")\n"
   ]
  },
  {
   "cell_type": "markdown",
   "id": "636c580d",
   "metadata": {},
   "source": [
    "**Test Run Results**\n",
    "\n",
    "The best solution found:\n",
    "\n",
    "- Objective function value: 3.85\n",
    "- Elapsed time: 0.33 seconds\n"
   ]
  },
  {
   "cell_type": "markdown",
   "id": "1be94c39",
   "metadata": {},
   "source": [
    "### End"
   ]
  }
 ],
 "metadata": {
  "kernelspec": {
   "display_name": "Python 3 (ipykernel)",
   "language": "python",
   "name": "python3"
  },
  "language_info": {
   "codemirror_mode": {
    "name": "ipython",
    "version": 3
   },
   "file_extension": ".py",
   "mimetype": "text/x-python",
   "name": "python",
   "nbconvert_exporter": "python",
   "pygments_lexer": "ipython3",
   "version": "3.9.13"
  }
 },
 "nbformat": 4,
 "nbformat_minor": 5
}
