{
 "cells": [
  {
   "cell_type": "code",
   "execution_count": 2,
   "id": "f5eb91de",
   "metadata": {},
   "outputs": [],
   "source": [
    "# Importing Gurobipy package\n",
    "import gurobipy as gp\n",
    "from gurobipy import GRB\n"
   ]
  },
  {
   "cell_type": "code",
   "execution_count": 9,
   "id": "b07d9242",
   "metadata": {},
   "outputs": [
    {
     "name": "stdout",
     "output_type": "stream",
     "text": [
      "Set parameter Username\n",
      "Academic license - for non-commercial use only - expires 2024-09-27\n",
      "Gurobi Optimizer version 10.0.3 build v10.0.3rc0 (win64)\n",
      "\n",
      "CPU model: 11th Gen Intel(R) Core(TM) i7-1165G7 @ 2.80GHz, instruction set [SSE2|AVX|AVX2|AVX512]\n",
      "Thread count: 4 physical cores, 8 logical processors, using up to 8 threads\n",
      "\n",
      "Optimize a model with 2 rows, 3 columns and 5 nonzeros\n",
      "Model fingerprint: 0x98886187\n",
      "Variable types: 0 continuous, 3 integer (3 binary)\n",
      "Coefficient statistics:\n",
      "  Matrix range     [1e+00, 3e+00]\n",
      "  Objective range  [1e+00, 2e+00]\n",
      "  Bounds range     [1e+00, 1e+00]\n",
      "  RHS range        [1e+00, 4e+00]\n",
      "Found heuristic solution: objective 2.0000000\n",
      "Presolve removed 2 rows and 3 columns\n",
      "Presolve time: 0.00s\n",
      "Presolve: All rows and columns removed\n",
      "\n",
      "Explored 0 nodes (0 simplex iterations) in 0.00 seconds (0.00 work units)\n",
      "Thread count was 1 (of 8 available processors)\n",
      "\n",
      "Solution count 2: 3 2 \n",
      "\n",
      "Optimal solution found (tolerance 1.00e-04)\n",
      "Best objective 3.000000000000e+00, best bound 3.000000000000e+00, gap 0.0000%\n",
      "\n",
      "Model Solution\n",
      "\n",
      "Objective Function Value: 3.0\n",
      "\n",
      "x: 1.0\n",
      "y: 0.0\n",
      "z: 1.0\n"
     ]
    }
   ],
   "source": [
    "# Creating a Gurobi environmnet and a model object\n",
    "with gp.Env() as env, gp.Model('Example-001', env=env) as model:\n",
    "    \n",
    "    # Defining variables\n",
    "    x = model.addVar(vtype=GRB.BINARY, name='x')\n",
    "    y = model.addVar(vtype=GRB.BINARY, name='y')\n",
    "    z = model.addVar(vtype=GRB.BINARY, name='z')\n",
    "    \n",
    "    # Defining constraints\n",
    "    model.addConstr(x + 2 * y + 3 * z <= 4, name='c0')\n",
    "    model.addConstr(x + y >= 1, name='c1')\n",
    "    \n",
    "    # Defining Objective Function\n",
    "    model.setObjective( x + y + 2 * z, sense=GRB.MAXIMIZE) # Gurobi uses minimization as standar config\n",
    "    \n",
    "    # Solving the model\n",
    "    model.optimize()\n",
    "    \n",
    "    # Retrieving solution\n",
    "    print('\\nModel Solution')\n",
    "    print(f'\\nObjective Function Value: {model.objVal}\\n')\n",
    "    for var in model.getVars():\n",
    "        print(f'{var.VarName}: {var.X}')\n",
    "              \n",
    "    \n",
    "    \n",
    "    "
   ]
  },
  {
   "cell_type": "code",
   "execution_count": null,
   "id": "78e7da15",
   "metadata": {},
   "outputs": [],
   "source": []
  }
 ],
 "metadata": {
  "kernelspec": {
   "display_name": "Python 3 (ipykernel)",
   "language": "python",
   "name": "python3"
  },
  "language_info": {
   "codemirror_mode": {
    "name": "ipython",
    "version": 3
   },
   "file_extension": ".py",
   "mimetype": "text/x-python",
   "name": "python",
   "nbconvert_exporter": "python",
   "pygments_lexer": "ipython3",
   "version": "3.9.13"
  }
 },
 "nbformat": 4,
 "nbformat_minor": 5
}
