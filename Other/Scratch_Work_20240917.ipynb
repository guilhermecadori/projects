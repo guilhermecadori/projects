{
 "cells": [
  {
   "cell_type": "markdown",
   "id": "2a26692b",
   "metadata": {},
   "source": [
    "## Python Practice\n"
   ]
  },
  {
   "cell_type": "markdown",
   "id": "aec8d802",
   "metadata": {},
   "source": [
    "### Code Wars"
   ]
  },
  {
   "cell_type": "markdown",
   "id": "03bf94e6",
   "metadata": {},
   "source": [
    "Given the triangle of consecutive odd numbers:\n",
    "\n",
    "                 1\n",
    "              3     5\n",
    "           7     9    11\n",
    "\n",
    "        13    15    17    19\n",
    "\n",
    "    21    23    25    27    29\n",
    "\n",
    "...\n",
    "\n",
    "\n",
    "Calculate the sum of the numbers in the nth row of this triangle (starting at index 1) e.g.: (Input --> Output)\n",
    "\n",
    "\n",
    "\n",
    "1 -->  1\n",
    "\n",
    "2 --> 3 + 5 = 8\n",
    "\n"
   ]
  },
  {
   "cell_type": "code",
   "execution_count": 3,
   "id": "3f46b2b8",
   "metadata": {},
   "outputs": [],
   "source": [
    "# # Official tests\n",
    "#\n",
    "# import codewars_test as test\n",
    "# from solution import row_sum_odd_numbers\n",
    "\n",
    "# @test.describe(\"Fixed Tests\")\n",
    "# def fixed_tests():\n",
    "#     @test.it('Basic Test Cases')\n",
    "#     def basic_test_cases():\n",
    "#         test.assert_equals(row_sum_odd_numbers(1), 1)\n",
    "#         test.assert_equals(row_sum_odd_numbers(2), 8)\n",
    "#         test.assert_equals(row_sum_odd_numbers(13), 2197)\n",
    "#         test.assert_equals(row_sum_odd_numbers(19), 6859)\n",
    "#         test.assert_equals(row_sum_odd_numbers(41), 68921)\n",
    "#\n"
   ]
  },
  {
   "cell_type": "markdown",
   "id": "604866d2",
   "metadata": {},
   "source": [
    "**Scratch work**\n",
    "\n",
    "    1-1: 1; 2-2: 3 5 ; 3-3: 7 9 11, 4-4: 13 15 17 19...\n",
    "\n",
    "    n=1 --> (num=n-1): 2 * num + 1 = 1\n",
    "\n",
    "    n=2 --> (num=n-1): 2 * num + 1 = 3\n",
    "\n",
    "    n=3 --> (num=n-1): 2 * num + 1 = 5\n",
    "\n",
    "    n=4 --> (num=n-1): 2 * num + 1 = 7\n",
    "\n",
    "    ...\n",
    "\n",
    "***\n",
    "**Key insight:** \n",
    "    \n",
    "    num_1 = n^2 - (n - 1)\n",
    "\n",
    "***\n",
    "\n"
   ]
  },
  {
   "cell_type": "code",
   "execution_count": 92,
   "id": "6e5bf635",
   "metadata": {},
   "outputs": [
    {
     "name": "stdout",
     "output_type": "stream",
     "text": [
      "[7, 9, 11]\n",
      "27\n"
     ]
    }
   ],
   "source": [
    "# Testing logic\n",
    "n = 3\n",
    "\n",
    "list_odd_numbers = []\n",
    "\n",
    "num_1 = n**2 - (n - 1)\n",
    "list_odd_numbers.append(num_1)\n",
    "\n",
    "for num_seq in range(1, n):\n",
    "    num_1 = num_1 + 2\n",
    "    list_odd_numbers.append(num_1)\n",
    "    sum_odd = sum(list_odd_numbers)\n",
    "    \n",
    "print(list_odd_numbers)\n",
    "print(sum_odd)\n",
    "    "
   ]
  },
  {
   "cell_type": "code",
   "execution_count": 98,
   "id": "8738c557",
   "metadata": {},
   "outputs": [],
   "source": [
    "def row_sum_odd_numbers(n):\n",
    "    \n",
    "    list_odd_numbers = []\n",
    "    sum_odd = 0\n",
    "    \n",
    "    if n == 1:\n",
    "        sum_odd = 1\n",
    "        return sum_odd\n",
    "    else:\n",
    "        num_1 = n**2 - (n - 1)\n",
    "        list_odd_numbers.append(num_1)\n",
    "\n",
    "        for num_seq in range(1, n):\n",
    "            num_1 = num_1 + 2\n",
    "            list_odd_numbers.append(num_1)\n",
    "            sum_odd = sum(list_odd_numbers)\n",
    "\n",
    "        return sum_odd\n"
   ]
  },
  {
   "cell_type": "code",
   "execution_count": 99,
   "id": "c0418522",
   "metadata": {},
   "outputs": [
    {
     "name": "stdout",
     "output_type": "stream",
     "text": [
      "1\n",
      "8\n",
      "2197\n",
      "6859\n",
      "68921\n"
     ]
    }
   ],
   "source": [
    "list_n = [1, 2, 13, 19, 41]\n",
    "\n",
    "for n in list_n:\n",
    "    print(row_sum_odd_numbers(n))\n"
   ]
  },
  {
   "cell_type": "markdown",
   "id": "0f582213",
   "metadata": {},
   "source": [
    "***\n",
    "**End**\n",
    "***"
   ]
  }
 ],
 "metadata": {
  "kernelspec": {
   "display_name": "Python 3 (ipykernel)",
   "language": "python",
   "name": "python3"
  },
  "language_info": {
   "codemirror_mode": {
    "name": "ipython",
    "version": 3
   },
   "file_extension": ".py",
   "mimetype": "text/x-python",
   "name": "python",
   "nbconvert_exporter": "python",
   "pygments_lexer": "ipython3",
   "version": "3.9.13"
  },
  "toc": {
   "base_numbering": 1,
   "nav_menu": {},
   "number_sections": true,
   "sideBar": true,
   "skip_h1_title": false,
   "title_cell": "Table of Contents",
   "title_sidebar": "Contents",
   "toc_cell": false,
   "toc_position": {
    "height": "calc(100% - 180px)",
    "left": "10px",
    "top": "150px",
    "width": "165.6px"
   },
   "toc_section_display": true,
   "toc_window_display": false
  }
 },
 "nbformat": 4,
 "nbformat_minor": 5
}
