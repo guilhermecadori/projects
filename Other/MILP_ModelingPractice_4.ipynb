{
 "cells": [
  {
   "cell_type": "markdown",
   "id": "b41adaf3",
   "metadata": {},
   "source": [
    "### Lista I - Programação Inteira Mista e Otimização em Redes\n",
    "\n",
    "**Autor:** Guilherme Cadori\n",
    "\n",
    "**Data:** 05/08/2023\n",
    "\n",
    "### Exercício 2"
   ]
  },
  {
   "cell_type": "markdown",
   "id": "9d9dff65",
   "metadata": {},
   "source": [
    "### Problema 4"
   ]
  },
  {
   "cell_type": "markdown",
   "id": "9988f218",
   "metadata": {},
   "source": [
    "#### Implementação do Modelo - Versão Não Generalizada"
   ]
  },
  {
   "cell_type": "code",
   "execution_count": 28,
   "id": "9fc58123-3e4a-444e-bab6-c97edae13c72",
   "metadata": {},
   "outputs": [],
   "source": [
    "# Importando biblioteca de trabalho\n",
    "import gurobipy as gp\n",
    "\n",
    "\n",
    "# Criando Parâmetros\n",
    "objReducaoPeso = 180\n",
    "\n",
    "reducaoPesoPorMudanca = [30, 20, 25, 40, 15, 10, \n",
    "                         60, 80, 40, 30, 50, 35]\n",
    "\n",
    "custoPorMudanca = [130000, 110000, 120000, 150000, 80000, 80000, \n",
    "                   360000, 400000, 160000, 120000, 200000, 160000]\n",
    "\n",
    "\n",
    "# Criando o modelo\n",
    "m = gp.Model(\"Redução de Peso do Veículo\")\n",
    "\n",
    "\n",
    "# Criando as variáveis de decisão\n",
    "x = {}\n",
    "\n",
    "for i in range(len(reducaoPesoPorMudanca)):\n",
    "    x[i] = m.addVar(vtype = gp.GRB.BINARY,\n",
    "                    name = f'x_{i+1}')\n"
   ]
  },
  {
   "cell_type": "code",
   "execution_count": 29,
   "id": "427b36c7-5a77-4c4a-99bb-25e6bcf625b3",
   "metadata": {},
   "outputs": [
    {
     "data": {
      "text/plain": [
       "<gurobi.Constr *Awaiting Model Update*>"
      ]
     },
     "execution_count": 29,
     "metadata": {},
     "output_type": "execute_result"
    }
   ],
   "source": [
    "# Criando restrições de ajuste de peso\n",
    "m.addConstr(gp.quicksum(reducaoPesoPorMudanca[i] * x[i] for i in range(len(reducaoPesoPorMudanca))) >= objReducaoPeso, \n",
    "                 name = 'Restrição de Ajuste de Peso')\n"
   ]
  },
  {
   "cell_type": "code",
   "execution_count": 30,
   "id": "017e5534-6c29-4dee-aeac-e5e73282587f",
   "metadata": {},
   "outputs": [
    {
     "name": "stdout",
     "output_type": "stream",
     "text": [
      "Gurobi Optimizer version 10.0.2 build v10.0.2rc0 (win64)\n",
      "\n",
      "CPU model: 11th Gen Intel(R) Core(TM) i7-1165G7 @ 2.80GHz, instruction set [SSE2|AVX|AVX2|AVX512]\n",
      "Thread count: 4 physical cores, 8 logical processors, using up to 8 threads\n",
      "\n",
      "Optimize a model with 1 rows, 12 columns and 12 nonzeros\n",
      "Model fingerprint: 0x264076b1\n",
      "Variable types: 0 continuous, 12 integer (12 binary)\n",
      "Coefficient statistics:\n",
      "  Matrix range     [1e+01, 8e+01]\n",
      "  Objective range  [8e+04, 4e+05]\n",
      "  Bounds range     [1e+00, 1e+00]\n",
      "  RHS range        [2e+02, 2e+02]\n",
      "Found heuristic solution: objective 880000.00000\n",
      "Presolve removed 1 rows and 12 columns\n",
      "Presolve time: 0.01s\n",
      "Presolve: All rows and columns removed\n",
      "\n",
      "Explored 0 nodes (0 simplex iterations) in 0.01 seconds (0.00 work units)\n",
      "Thread count was 1 (of 8 available processors)\n",
      "\n",
      "Solution count 2: 740000 880000 \n",
      "\n",
      "Optimal solution found (tolerance 1.00e-04)\n",
      "Best objective 7.400000000000e+05, best bound 7.400000000000e+05, gap 0.0000%\n"
     ]
    }
   ],
   "source": [
    "# Criando a Função Objetivo\n",
    "m.setObjective(gp.quicksum(custoPorMudanca[i] * x[i] for i in range(len(reducaoPesoPorMudanca))), \n",
    "                    gp.GRB.MINIMIZE)\n",
    "\n",
    "# Resolvendo o modelo\n",
    "m.optimize()\n"
   ]
  },
  {
   "cell_type": "code",
   "execution_count": 31,
   "id": "e630b641-e55c-4caf-a8a0-a3fb3a8f4277",
   "metadata": {},
   "outputs": [
    {
     "name": "stdout",
     "output_type": "stream",
     "text": [
      "Listagem de mudanças a serem realizadas:\n",
      "\n",
      "Implementar Mudança 2\n",
      "Implementar Mudança 4\n",
      "Implementar Mudança 9\n",
      "Implementar Mudança 10\n",
      "Implementar Mudança 11\n",
      "\n",
      "Custo Total de Implementação de Mudanças: R$740000.0\n"
     ]
    }
   ],
   "source": [
    "# Resultados do modelo resolvido\n",
    "# Mudanças a serem implementadas na versão atualizada do veículo\n",
    "print(\"Listagem de mudanças a serem realizadas:\\n\")\n",
    "\n",
    "for i in range(len(reducaoPesoPorMudanca)):\n",
    "    if x[i].X > 0:\n",
    "        print(f\"Implementar Mudança {i+1}\")\n",
    "            \n",
    "# Valor da Função Objetivo\n",
    "print(f\"\\nCusto Total de Implementação de Mudanças: R${m.objVal}\")\n"
   ]
  },
  {
   "cell_type": "markdown",
   "id": "7e17c714",
   "metadata": {},
   "source": [
    "### Fim do Exercício"
   ]
  }
 ],
 "metadata": {
  "kernelspec": {
   "display_name": "Python 3 (ipykernel)",
   "language": "python",
   "name": "python3"
  },
  "language_info": {
   "codemirror_mode": {
    "name": "ipython",
    "version": 3
   },
   "file_extension": ".py",
   "mimetype": "text/x-python",
   "name": "python",
   "nbconvert_exporter": "python",
   "pygments_lexer": "ipython3",
   "version": "3.9.13"
  }
 },
 "nbformat": 4,
 "nbformat_minor": 5
}
