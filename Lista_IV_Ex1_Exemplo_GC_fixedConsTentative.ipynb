{
 "cells": [
  {
   "cell_type": "code",
   "execution_count": 15,
   "id": "08f9df28",
   "metadata": {},
   "outputs": [],
   "source": [
    "# Iportando biblioteca de trabalho\n",
    "import gurobipy as gp\n",
    "import pandas as pd\n"
   ]
  },
  {
   "cell_type": "code",
   "execution_count": 16,
   "id": "197d7565",
   "metadata": {},
   "outputs": [],
   "source": [
    "# Configurando parâmetros\n",
    "\n",
    "# Quantidade de áreas a serem formadas\n",
    "p = 3\n",
    "\n",
    "# Tamanho máximo para área a ser formada\n",
    "T = 50\n",
    "\n",
    "# Criando dados as unidades a serem avaliadas\n",
    "# Assumindo que cada área terá um tamanho de 10 acres\n",
    "indiceUnEspacial, beneficio, area = gp.multidict({\n",
    "    \"1\": [24, 10], \"2\": [29, 10], \"3\": [19, 10], \"4\": [35, 10], \n",
    "    \"5\": [24, 10], \"6\": [19, 10], \"7\": [33, 10], \"8\": [29, 10], \n",
    "    \"9\": [26, 10], \"10\": [21, 10], \"11\": [18, 10], \"12\": [21, 10],\n",
    "    \"13\": [31, 10], \"14\": [33, 10], \"15\": [31, 10], \"16\": [32, 10]\n",
    "})\n",
    "\n",
    "\n",
    "# Criando o modelo\n",
    "m = gp.Model(\"Otimização Espacial\")\n",
    "\n",
    "\n",
    "## Criando variáveis de decisão\n",
    "# **** \n",
    "#    Obs: esse problema possui múltiplas classes de variáveis de decisão\n",
    "#         e parte dessas não fazer parte da função objetivo\n",
    "# ****\n",
    "\n",
    "# Unidades espaciais - Xi\n",
    "unidadeEspacial = m.addVars(indiceUnEspacial, \n",
    "                            vtype = gp.GRB.BINARY,\n",
    "                            name = \"Unidade Espacial\")\n",
    "\n",
    "# Unidade de área selecionada como \"sink\" (direcionadoras de fluxo) - Vi\n",
    "unidadeEspacialSink = m.addVars(indiceUnEspacial, \n",
    "                                vtype=gp.GRB.BINARY,\n",
    "                                name=\"Unidade Espacial Sink\")\n",
    "\n",
    "# Fluxo de i para j direcionada ao sink - Yij\n",
    "fluxoEspacialSink = m.addVars(unidadeEspacial, unidadeEspacial, \n",
    "                              vtype=gp.GRB.CONTINUOUS, \n",
    "                              name=\"Fluxo Espacial Sink\")\n",
    "\n",
    "# Arco entre i e j utilizado para direcionar o fluxo ao sink - Yij_Arc\n",
    "fluxoEspacialArc = m.addVars(unidadeEspacial, unidadeEspacial, \n",
    "                             vtype=gp.GRB.BINARY, \n",
    "                             name=\"Arco do Fluxo Espacial Sink\")\n"
   ]
  },
  {
   "cell_type": "code",
   "execution_count": 17,
   "id": "639913c9",
   "metadata": {},
   "outputs": [],
   "source": [
    "# Conferindo variáveis criadas\n",
    "# Remover \"#\" um-a-um e rodar\n",
    "\n",
    "# unidadeEspacial\n",
    "\n",
    "# unidadeEspacialSink\n",
    "\n",
    "# fluxoEspacialSink\n",
    "\n",
    "# fluxoEspacialArc\n"
   ]
  },
  {
   "cell_type": "code",
   "execution_count": 18,
   "id": "c20c8133",
   "metadata": {},
   "outputs": [],
   "source": [
    "# Criando relações de vizinhaça entre as unidades avaliadas\n",
    "vizinhanca = {\n",
    "    (\"1\", \"2\"): 1, (\"1\", \"5\"): 1, \n",
    "    (\"2\", \"1\"): 1, (\"2\", \"3\"): 1, (\"2\", \"6\"): 1, \n",
    "    (\"3\", \"2\"): 1, (\"3\", \"4\"): 1, (\"3\", \"7\"): 1,\n",
    "    (\"4\", \"3\"): 1, (\"4\", \"8\"): 1,\n",
    "    (\"5\", \"1\"): 1, (\"5\", \"6\"): 1, (\"5\", \"9\"): 1,\n",
    "    (\"6\", \"2\"): 1, (\"6\", \"5\"): 1, (\"6\", \"7\"): 1,   (\"6\", \"10\"): 1,\n",
    "    (\"7\", \"3\"): 1, (\"7\", \"6\"): 1, (\"7\", \"8\"): 1,   (\"7\", \"11\"): 1,\n",
    "    (\"8\", \"4\"): 1, (\"8\", \"7\"): 1, (\"8\", \"12\"): 1, \n",
    "    (\"9\", \"5\"): 1, (\"9\", \"10\"): 1, (\"9\", \"13\"): 1, \n",
    "    (\"10\", \"6\"): 1, (\"10\", \"9\"): 1, (\"10\", \"11\"): 1, (\"10\", \"14\"): 1,\n",
    "    (\"11\", \"7\"): 1, (\"11\", \"10\"): 1, (\"11\", \"12\"): 1, (\"11\", \"15\"): 1,\n",
    "    (\"12\", \"8\"): 1, (\"12\", \"11\"): 1, (\"12\", \"16\"): 1,\n",
    "    (\"13\", \"9\"): 1, (\"13\", \"14\"): 1,\n",
    "    (\"14\", \"10\"): 1, (\"14\", \"13\"): 1, (\"14\", \"15\"): 1,\n",
    "    (\"15\", \"11\"): 1, (\"15\", \"14\"): 1, (\"15\", \"16\"): 1,\n",
    "    (\"16\", \"12\"): 1, (\"16\", \"15\"): 1\n",
    "}\n",
    "\n",
    "vizinhanca_complete = {}\n",
    "\n",
    "for i in range(1, 17):\n",
    "    for j in range(1, 17):\n",
    "        if (str(i), str(j)) in vizinhanca or (str(j), str(i)) in vizinhanca:\n",
    "            vizinhanca_complete[(str(i), str(j))] = 1\n",
    "        else:\n",
    "            vizinhanca_complete[(str(i), str(j))] = 0\n",
    "\n"
   ]
  },
  {
   "cell_type": "code",
   "execution_count": 19,
   "id": "3623398a",
   "metadata": {},
   "outputs": [],
   "source": [
    "# Criando a função objetivo (1)\n",
    "m.setObjective(unidadeEspacial.prod(beneficio), gp.GRB.MAXIMIZE)\n"
   ]
  },
  {
   "cell_type": "code",
   "execution_count": 21,
   "id": "e77c871e",
   "metadata": {},
   "outputs": [
    {
     "ename": "TypeError",
     "evalue": "'>' not supported between instances of 'tupledict' and 'int'",
     "output_type": "error",
     "traceback": [
      "\u001b[1;31m---------------------------------------------------------------------------\u001b[0m",
      "\u001b[1;31mTypeError\u001b[0m                                 Traceback (most recent call last)",
      "\u001b[1;32m~\\AppData\\Local\\Temp\\ipykernel_14412\\2708158016.py\u001b[0m in \u001b[0;36m<module>\u001b[1;34m\u001b[0m\n\u001b[0;32m      3\u001b[0m                           \u001b[1;33m-\u001b[0m \u001b[0mgp\u001b[0m\u001b[1;33m.\u001b[0m\u001b[0mquicksum\u001b[0m\u001b[1;33m(\u001b[0m\u001b[0mfluxoEspacialSink\u001b[0m\u001b[1;33m[\u001b[0m\u001b[0mj\u001b[0m\u001b[1;33m,\u001b[0m \u001b[0mi\u001b[0m\u001b[1;33m]\u001b[0m \u001b[1;32mfor\u001b[0m \u001b[0mj\u001b[0m \u001b[1;32min\u001b[0m \u001b[0munidadeEspacial\u001b[0m \u001b[1;33m>\u001b[0m \u001b[1;36m0\u001b[0m \u001b[1;33m)\u001b[0m\u001b[1;33m\u001b[0m\u001b[1;33m\u001b[0m\u001b[0m\n\u001b[0;32m      4\u001b[0m                           \u001b[1;33m>=\u001b[0m \u001b[0mbeneficio\u001b[0m\u001b[1;33m[\u001b[0m\u001b[0mi\u001b[0m\u001b[1;33m]\u001b[0m \u001b[1;33m*\u001b[0m \u001b[0munidadeEspacial\u001b[0m\u001b[1;33m[\u001b[0m\u001b[0mi\u001b[0m\u001b[1;33m]\u001b[0m \u001b[1;33m-\u001b[0m \u001b[0mT\u001b[0m \u001b[1;33m*\u001b[0m \u001b[0munidadeEspacialSink\u001b[0m\u001b[1;33m[\u001b[0m\u001b[0mi\u001b[0m\u001b[1;33m]\u001b[0m\u001b[1;33m\u001b[0m\u001b[1;33m\u001b[0m\u001b[0m\n\u001b[1;32m----> 5\u001b[1;33m                           for i in unidadeEspacial > 0 ), \n\u001b[0m\u001b[0;32m      6\u001b[0m                           name = \"Restrição (2)\")\n",
      "\u001b[1;31mTypeError\u001b[0m: '>' not supported between instances of 'tupledict' and 'int'"
     ]
    }
   ],
   "source": [
    "# Criando a restrição (2)\n",
    "rest2 = m.addConstrs((gp.quicksum(fluxoEspacialSink[i, j] for j in unidadeEspacial > 0 ) \n",
    "                          - gp.quicksum(fluxoEspacialSink[j, i] for j in unidadeEspacial > 0 ) \n",
    "                          >= beneficio[i] * unidadeEspacial[i] - T * unidadeEspacialSink[i]\n",
    "                          for i in unidadeEspacial > 0 ), \n",
    "                          name = \"Restrição (2)\")\n"
   ]
  },
  {
   "cell_type": "code",
   "execution_count": 7,
   "id": "dea53dff",
   "metadata": {},
   "outputs": [],
   "source": [
    "# Criando a restrição (3)\n",
    "constraint = m.addConstrs((fluxoEspacialSink[i, j] <= T * fluxoEspacialArc[i, j]\n",
    "                          for i in unidadeEspacial for j in unidadeEspacial),\n",
    "                          name = \"Restrição (3)\")\n"
   ]
  },
  {
   "cell_type": "code",
   "execution_count": 8,
   "id": "10735e3e",
   "metadata": {},
   "outputs": [],
   "source": [
    "# Criando a restrição (4)\n",
    "constraint = m.addConstrs((sum(fluxoEspacialArc[i, j] for j in unidadeEspacial) <= 1\n",
    "                          for i in unidadeEspacial),\n",
    "                          name = \"Restrição (4)\")\n"
   ]
  },
  {
   "cell_type": "code",
   "execution_count": 9,
   "id": "60e9eebb",
   "metadata": {},
   "outputs": [],
   "source": [
    "# Criando a restrição (5)\n",
    "constraint = m.addConstrs((T * unidadeEspacialSink[i] + \n",
    "                           sum(fluxoEspacialSink[i, j] for j in unidadeEspacial) \n",
    "                           <= T for i in unidadeEspacial),\n",
    "                           name=\"Restrição (5)\")\n"
   ]
  },
  {
   "cell_type": "code",
   "execution_count": 10,
   "id": "8e8cc130",
   "metadata": {},
   "outputs": [],
   "source": [
    "# Criando a restrição (6)\n",
    "rest6 = m.addConstrs((sum(unidadeEspacialSink[i] for i in indiceUnEspacial)\n",
    "                      == p for j in indiceUnEspacial), \n",
    "                      name = \"Restrição (6)\")\n"
   ]
  },
  {
   "cell_type": "code",
   "execution_count": 11,
   "id": "cf456eb5",
   "metadata": {},
   "outputs": [],
   "source": [
    "# Criando a restrição (7)\n",
    "constraint = m.addConstrs((sum(fluxoEspacialSink[i, j] for j in unidadeEspacial) \n",
    "                           <= T * unidadeEspacial[i] for i in unidadeEspacial),\n",
    "                           name=\"Restrição (7)\")\n"
   ]
  },
  {
   "cell_type": "code",
   "execution_count": 12,
   "id": "9959eb65",
   "metadata": {},
   "outputs": [],
   "source": [
    "# Criando a restrição (8)\n",
    "rest8 = m.addConstrs((unidadeEspacialSink[i] <= unidadeEspacial[i] \n",
    "                      for i in indiceUnEspacial), \n",
    "                      name=\"Restrição (8)\")\n"
   ]
  },
  {
   "cell_type": "code",
   "execution_count": 13,
   "id": "a6e52a58",
   "metadata": {},
   "outputs": [
    {
     "name": "stdout",
     "output_type": "stream",
     "text": [
      "Gurobi Optimizer version 10.0.1 build v10.0.1rc0 (win64)\n",
      "\n",
      "CPU model: 11th Gen Intel(R) Core(TM) i5-1135G7 @ 2.40GHz, instruction set [SSE2|AVX|AVX2|AVX512]\n",
      "Thread count: 4 physical cores, 8 logical processors, using up to 8 threads\n",
      "\n",
      "Optimize a model with 352 rows, 544 columns and 2112 nonzeros\n",
      "Model fingerprint: 0x7a028404\n",
      "Variable types: 256 continuous, 288 integer (288 binary)\n",
      "Coefficient statistics:\n",
      "  Matrix range     [1e+00, 5e+01]\n",
      "  Objective range  [2e+01, 4e+01]\n",
      "  Bounds range     [1e+00, 1e+00]\n",
      "  RHS range        [1e+00, 5e+01]\n",
      "Found heuristic solution: objective 81.0000000\n",
      "Presolve removed 79 rows and 48 columns\n",
      "Presolve time: 0.01s\n",
      "Presolved: 273 rows, 496 columns, 1488 nonzeros\n",
      "Variable types: 240 continuous, 256 integer (256 binary)\n",
      "\n",
      "Root relaxation: objective 1.500000e+02, 132 iterations, 0.00 seconds (0.00 work units)\n",
      "\n",
      "    Nodes    |    Current Node    |     Objective Bounds      |     Work\n",
      " Expl Unexpl |  Obj  Depth IntInf | Incumbent    BestBd   Gap | It/Node Time\n",
      "\n",
      "     0     0  150.00000    0    5   81.00000  150.00000  85.2%     -    0s\n",
      "H    0     0                     129.0000000  150.00000  16.3%     -    0s\n",
      "H    0     0                     130.0000000  150.00000  15.4%     -    0s\n",
      "     0     0  150.00000    0    8  130.00000  150.00000  15.4%     -    0s\n",
      "H    0     0                     141.0000000  150.00000  6.38%     -    0s\n",
      "     0     0  150.00000    0    9  141.00000  150.00000  6.38%     -    0s\n",
      "H    0     0                     150.0000000  150.00000  0.00%     -    0s\n",
      "\n",
      "Cutting planes:\n",
      "  Gomory: 2\n",
      "  Cover: 2\n",
      "  Implied bound: 2\n",
      "  MIR: 2\n",
      "  Flow cover: 4\n",
      "  RLT: 6\n",
      "\n",
      "Explored 1 nodes (198 simplex iterations) in 0.09 seconds (0.01 work units)\n",
      "Thread count was 8 (of 8 available processors)\n",
      "\n",
      "Solution count 5: 150 141 130 ... 81\n",
      "\n",
      "Optimal solution found (tolerance 1.00e-04)\n",
      "Best objective 1.500000000000e+02, best bound 1.500000000000e+02, gap 0.0000%\n"
     ]
    }
   ],
   "source": [
    "# Otimizando o modelo\n",
    "m.optimize()\n"
   ]
  },
  {
   "cell_type": "code",
   "execution_count": 14,
   "id": "70f1b410",
   "metadata": {},
   "outputs": [
    {
     "name": "stdout",
     "output_type": "stream",
     "text": [
      "Valor Objetivo: 150.0\n",
      "Unidade Espacial[1]: 1.0\n",
      "Unidade Espacial[8]: 1.0\n",
      "Unidade Espacial[9]: 1.0\n",
      "Unidade Espacial[11]: 1.0\n",
      "Unidade Espacial[12]: 1.0\n",
      "Unidade Espacial[16]: 1.0\n",
      "Unidade Espacial Sink[1]: 1.0\n",
      "Unidade Espacial Sink[8]: 1.0\n",
      "Unidade Espacial Sink[16]: 1.0\n"
     ]
    }
   ],
   "source": [
    "# Conferindo o valor da função objetivo\n",
    "print(\"Valor Objetivo:\", m.objVal)\n",
    "\n",
    "# # Conferindo as variáveis de decisão\n",
    "# for var in m.getVars():\n",
    "#     if var.X > 0:\n",
    "#         print(f\"{var.VarName}: {var.X}\")\n",
    "        \n",
    "# Iterate over the variables and print non-zero values\n",
    "for var in m.getVars():\n",
    "    if var.x > 0 and (var.varName.startswith(\"Unidade Espacial\") or var.varName.startswith(\"Unidade Espacial Sink\")):\n",
    "        print(var.varName,\": \", var.x, sep=\"\")\n"
   ]
  },
  {
   "cell_type": "code",
   "execution_count": null,
   "id": "1dac866b",
   "metadata": {},
   "outputs": [],
   "source": []
  }
 ],
 "metadata": {
  "kernelspec": {
   "display_name": "Python 3 (ipykernel)",
   "language": "python",
   "name": "python3"
  },
  "language_info": {
   "codemirror_mode": {
    "name": "ipython",
    "version": 3
   },
   "file_extension": ".py",
   "mimetype": "text/x-python",
   "name": "python",
   "nbconvert_exporter": "python",
   "pygments_lexer": "ipython3",
   "version": "3.9.13"
  }
 },
 "nbformat": 4,
 "nbformat_minor": 5
}
