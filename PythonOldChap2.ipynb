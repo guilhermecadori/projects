{
 "cells": [
  {
   "cell_type": "code",
   "execution_count": 5,
   "id": "6f0fc632",
   "metadata": {},
   "outputs": [
    {
     "name": "stdout",
     "output_type": "stream",
     "text": [
      "Meu nome é Guilherme.\n"
     ]
    }
   ],
   "source": [
    "# Ex. 2.3\n",
    "name = 'Guilherme'\n",
    "\n",
    "def printName(name):\n",
    "    \n",
    "    print('Meu nome é ', name,'.', sep='')\n",
    "\n",
    "    return\n",
    "    \n",
    "printName(name)\n"
   ]
  },
  {
   "cell_type": "code",
   "execution_count": 11,
   "id": "e35aa664",
   "metadata": {},
   "outputs": [
    {
     "data": {
      "text/plain": [
       "90"
      ]
     },
     "execution_count": 11,
     "metadata": {},
     "output_type": "execute_result"
    }
   ],
   "source": [
    "# Ex. 2.4\n",
    "a = 3\n",
    "b = 5\n",
    "\n",
    "def prod2a3b(a, b):\n",
    "    \n",
    "    prod = 2 * a * 3 *b\n",
    "    \n",
    "    return prod\n",
    "\n",
    "prod2a3b(a, b)\n"
   ]
  },
  {
   "cell_type": "code",
   "execution_count": 12,
   "id": "2e1705c5",
   "metadata": {},
   "outputs": [
    {
     "data": {
      "text/plain": [
       "15"
      ]
     },
     "execution_count": 12,
     "metadata": {},
     "output_type": "execute_result"
    }
   ],
   "source": [
    "# Ex. 2.5\n",
    "a1 = 2\n",
    "b1 = 3\n",
    "c1 = 10\n",
    "\n",
    "def somaTres(a, b, c):\n",
    "    \n",
    "    soma = a + b + c\n",
    "    \n",
    "    return soma\n",
    "\n",
    "somaTres(a1, b1, c1)    \n",
    "    "
   ]
  },
  {
   "cell_type": "code",
   "execution_count": 18,
   "id": "daa75f2c",
   "metadata": {},
   "outputs": [
    {
     "name": "stdout",
     "output_type": "stream",
     "text": [
      "Novo Saláraio: R$ 862.5\n"
     ]
    }
   ],
   "source": [
    "# Ex. 2.6\n",
    "salario1 = 750\n",
    "aumentoPercent = 15\n",
    "\n",
    "def salarioMudanca(salario, mudanca):\n",
    "\n",
    "    novoSalario = round(salario * (1 + mudanca/100), 2)\n",
    "    \n",
    "    return print('Novo Saláraio: R$', novoSalario)\n",
    "\n",
    "salarioMudanca(salario1, aumentoPercent)\n"
   ]
  },
  {
   "cell_type": "markdown",
   "id": "a438ff89",
   "metadata": {},
   "source": [
    "### Fim"
   ]
  }
 ],
 "metadata": {
  "kernelspec": {
   "display_name": "Python 3 (ipykernel)",
   "language": "python",
   "name": "python3"
  },
  "language_info": {
   "codemirror_mode": {
    "name": "ipython",
    "version": 3
   },
   "file_extension": ".py",
   "mimetype": "text/x-python",
   "name": "python",
   "nbconvert_exporter": "python",
   "pygments_lexer": "ipython3",
   "version": "3.9.13"
  }
 },
 "nbformat": 4,
 "nbformat_minor": 5
}
