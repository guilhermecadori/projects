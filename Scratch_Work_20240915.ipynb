{
 "cells": [
  {
   "cell_type": "markdown",
   "id": "2a26692b",
   "metadata": {},
   "source": [
    "## Python Practice\n",
    "\n",
    "- This is space simply for bare scratch work\n"
   ]
  },
  {
   "cell_type": "markdown",
   "id": "28148cbd",
   "metadata": {},
   "source": [
    "### Concept Refresh"
   ]
  },
  {
   "cell_type": "code",
   "execution_count": 1,
   "id": "c6f19b01",
   "metadata": {},
   "outputs": [
    {
     "name": "stdout",
     "output_type": "stream",
     "text": [
      "Hello, World!\n",
      "\n",
      "Hello, World!\n",
      "\n",
      "Hello, World!\n",
      "\n"
     ]
    }
   ],
   "source": [
    "# 'For' loop\n",
    "i = 0\n",
    "\n",
    "for i in range(4):\n",
    "    \n",
    "    if i < 3:\n",
    "        \n",
    "        print(\"Hello, World!\\n\")\n",
    "        \n",
    "        i=+1\n",
    "\n"
   ]
  },
  {
   "cell_type": "code",
   "execution_count": 2,
   "id": "9d8f8962",
   "metadata": {},
   "outputs": [
    {
     "name": "stdout",
     "output_type": "stream",
     "text": [
      "6.0\n",
      "6.7\n",
      "10.7\n"
     ]
    }
   ],
   "source": [
    "# 'For each' loop\n",
    "sequence = [18, 20, 32]\n",
    "\n",
    "for element in sequence:\n",
    "    \n",
    "    element_division_by_three = round(element / 3, 1)\n",
    "    \n",
    "    print(element_division_by_three)\n",
    "    "
   ]
  },
  {
   "cell_type": "code",
   "execution_count": 3,
   "id": "e6da4aea",
   "metadata": {
    "scrolled": false
   },
   "outputs": [
    {
     "name": "stdout",
     "output_type": "stream",
     "text": [
      "Current iteration: 0\n",
      "Current iteration: 1\n",
      "Current iteration: 2\n",
      "Current iteration: 3\n",
      "Current iteration: 4\n",
      "Current iteration: 5\n",
      "Current iteration: 6\n",
      "Current iteration: 7\n",
      "Current iteration: 8\n",
      "Current iteration: 9\n",
      "Current iteration: 10\n"
     ]
    }
   ],
   "source": [
    "# 'While' loop\n",
    "max_it = 10\n",
    "it = 0\n",
    "\n",
    "while it <= max_it:\n",
    "    \n",
    "    print(f'Current iteration: {it}')\n",
    "    \n",
    "    it += 1\n",
    "    "
   ]
  },
  {
   "cell_type": "code",
   "execution_count": 4,
   "id": "297a0db5",
   "metadata": {},
   "outputs": [
    {
     "data": {
      "text/plain": [
       "1010"
      ]
     },
     "execution_count": 4,
     "metadata": {},
     "output_type": "execute_result"
    }
   ],
   "source": [
    "# Functions\n",
    "def soma(a, b):\n",
    "    \n",
    "    soma = a + b\n",
    "    \n",
    "    return soma\n",
    "\n",
    "# Test\n",
    "soma(1000, 10)\n"
   ]
  },
  {
   "cell_type": "code",
   "execution_count": 5,
   "id": "e49afc0b",
   "metadata": {},
   "outputs": [
    {
     "data": {
      "text/plain": [
       "\"Here's your rice and beans!\""
      ]
     },
     "execution_count": 5,
     "metadata": {},
     "output_type": "execute_result"
    }
   ],
   "source": [
    "# New function\n",
    "def heresTheFood(food_type):\n",
    "    \n",
    "    action = f\"Here's your {food_type}!\"\n",
    "    \n",
    "    return action\n",
    "\n",
    "# Test\n",
    "heresTheFood('rice and beans')\n"
   ]
  },
  {
   "cell_type": "code",
   "execution_count": 6,
   "id": "96b95742",
   "metadata": {},
   "outputs": [
    {
     "name": "stdout",
     "output_type": "stream",
     "text": [
      "Player Statistics\n",
      "Health: 85\n",
      "Strenght: 100\n"
     ]
    }
   ],
   "source": [
    "# More complex data\n",
    "player_1 = {'stat1': 85,\n",
    "            'stat2': 100}\n",
    "# New function\n",
    "def player_stats():\n",
    "    \n",
    "    print(\"Player Statistics\")\n",
    "    print(f\"Health: {player_1['stat1']}\")\n",
    "    print(f\"Strenght: {player_1['stat2']}\")\n",
    "    \n",
    "    return\n",
    "\n",
    "player_stats()\n"
   ]
  },
  {
   "cell_type": "code",
   "execution_count": 7,
   "id": "0abad53d",
   "metadata": {},
   "outputs": [
    {
     "data": {
      "text/plain": [
       "6"
      ]
     },
     "execution_count": 7,
     "metadata": {},
     "output_type": "execute_result"
    }
   ],
   "source": [
    "# Recursion - An Example\n",
    "def recursiveSum(n):\n",
    "    \n",
    "    if n <=1:    \n",
    "        return n\n",
    "    else:\n",
    "        n = n + recursiveSum(n-1)\n",
    "        return n\n",
    "    return n\n",
    "\n",
    "# Test\n",
    "recursiveSum(n=3)\n"
   ]
  },
  {
   "cell_type": "markdown",
   "id": "79e4efe9",
   "metadata": {},
   "source": [
    "How it works:\n",
    "\n",
    "    Base Case: If n <= 1, the function returns n and stops the recursion.\n",
    "    Recursive Case: If n > 1, the function calculates n + recursiveSum(n - 1), and this continues until it reaches the base case.\n",
    "\n",
    "Output:\n",
    "\n",
    "When you call recursiveSum(n=3), the steps are:\n",
    "\n",
    "    recursiveSum(3) calls recursiveSum(2) and returns 3 + result of recursiveSum(2)\n",
    "    recursiveSum(2) calls recursiveSum(1) and returns 2 + result of recursiveSum(1)\n",
    "    recursiveSum(1) hits the base case and returns 1\n",
    "\n",
    "Thus, the final result is 3 + 2 + 1 = 6."
   ]
  },
  {
   "cell_type": "markdown",
   "id": "d09f3a49",
   "metadata": {},
   "source": [
    "### Code Wars"
   ]
  },
  {
   "cell_type": "markdown",
   "id": "d4a76346",
   "metadata": {},
   "source": [
    "Complete the function that takes a non-negative integer n as input, and returns a list of all the powers of 2 with the exponent ranging from 0 to n ( inclusive ).\n",
    "Examples\n",
    "\n",
    "n = 0  ==> [1]       ==> [2^0]\n",
    "\n",
    "n = 1  ==> [1, 2]    ==> [2^0, 2^1]\n",
    "\n",
    "n = 2  ==> [1, 2, 4] ==> [2^0, 2^1, 2^2]\n"
   ]
  },
  {
   "cell_type": "code",
   "execution_count": 8,
   "id": "5bd64e6c",
   "metadata": {},
   "outputs": [],
   "source": [
    "# GC\n",
    "def powers_of_two(n):\n",
    "    \n",
    "    list_of_powers = []\n",
    "    \n",
    "    for power in range(n+1):\n",
    "        \n",
    "        result = 2**power\n",
    "        \n",
    "        list_of_powers.append(result)\n",
    "    \n",
    "    return list_of_powers\n"
   ]
  },
  {
   "cell_type": "code",
   "execution_count": 9,
   "id": "d5c8641a",
   "metadata": {},
   "outputs": [
    {
     "data": {
      "text/plain": [
       "[1, 2, 4, 8, 16]"
      ]
     },
     "execution_count": 9,
     "metadata": {},
     "output_type": "execute_result"
    }
   ],
   "source": [
    "powers_of_two(4)"
   ]
  },
  {
   "cell_type": "markdown",
   "id": "142c2319",
   "metadata": {},
   "source": [
    "You will be given an array a and a value x. All you need to do is check whether the provided array contains the value.\n",
    "\n",
    "Array can contain numbers or strings. X can be either.\n",
    "\n",
    "Return true if the array contains the value, false if not.\n"
   ]
  },
  {
   "cell_type": "code",
   "execution_count": 10,
   "id": "9fd9ce58",
   "metadata": {},
   "outputs": [],
   "source": [
    "# GC \n",
    "def check(seq, elem):\n",
    "        \n",
    "    for item in seq:\n",
    "        if item == elem:\n",
    "            return True\n",
    "        else:\n",
    "            False\n",
    "    \n",
    "    return\n"
   ]
  },
  {
   "cell_type": "code",
   "execution_count": 11,
   "id": "6f68ecab",
   "metadata": {},
   "outputs": [
    {
     "data": {
      "text/plain": [
       "True"
      ]
     },
     "execution_count": 11,
     "metadata": {},
     "output_type": "execute_result"
    }
   ],
   "source": [
    "my_list = [1, 2, 4, 8, 16]\n",
    "\n",
    "check(my_list, 4)\n"
   ]
  },
  {
   "cell_type": "code",
   "execution_count": 12,
   "id": "0c974fc7",
   "metadata": {},
   "outputs": [],
   "source": [
    "# GPT\n",
    "def check(seq, elem):\n",
    "    for item in seq:\n",
    "        if item == elem:\n",
    "            return True\n",
    "    return False  # Return False if the loop completes without finding the element\n"
   ]
  },
  {
   "cell_type": "code",
   "execution_count": 13,
   "id": "4d55c687",
   "metadata": {},
   "outputs": [
    {
     "data": {
      "text/plain": [
       "True"
      ]
     },
     "execution_count": 13,
     "metadata": {},
     "output_type": "execute_result"
    }
   ],
   "source": [
    "my_list = [1, 2, 4, 8, 16]\n",
    "\n",
    "check(my_list, 4)\n"
   ]
  },
  {
   "cell_type": "markdown",
   "id": "777513ba",
   "metadata": {},
   "source": [
    "Create a function which answers the question \"Are you playing banjo?\".\n",
    "If your name starts with the letter \"R\" or lower case \"r\", you are playing banjo!\n",
    "\n",
    "The function takes a name as its only argument, and returns one of the following strings:\n",
    "\n",
    "name + \" plays banjo\" \n",
    "name + \" does not play banjo\"\n",
    "\n",
    "Names given are always valid strings.\n"
   ]
  },
  {
   "cell_type": "code",
   "execution_count": 51,
   "id": "5a9ba9ac",
   "metadata": {},
   "outputs": [],
   "source": [
    "def are_you_playing_banjo(name):\n",
    "    \n",
    "    if (name[0] == 'R') or (name[0] == 'r'):\n",
    "        message = name + \" plays banjo\"\n",
    "        return message    \n",
    "    else:    \n",
    "        message = name + \" does not play banjo\"\n",
    "        return message\n",
    "    \n",
    "    return\n"
   ]
  },
  {
   "cell_type": "code",
   "execution_count": 52,
   "id": "a58ef9b3",
   "metadata": {},
   "outputs": [
    {
     "name": "stdout",
     "output_type": "stream",
     "text": [
      "martin does not play banjo\n",
      "Rikke plays banjo\n",
      "bravo does not play banjo\n",
      "rolf plays banjo\n"
     ]
    }
   ],
   "source": [
    "names = ['martin', 'Rikke', 'bravo', 'rolf']\n",
    "\n",
    "for name in names:\n",
    "    print(are_you_playing_banjo(name))\n"
   ]
  },
  {
   "cell_type": "code",
   "execution_count": 53,
   "id": "e6f42b28",
   "metadata": {},
   "outputs": [
    {
     "data": {
      "text/plain": [
       "'Rikke plays banjo'"
      ]
     },
     "execution_count": 53,
     "metadata": {},
     "output_type": "execute_result"
    }
   ],
   "source": [
    "are_you_playing_banjo(\"Rikke\") \n"
   ]
  },
  {
   "cell_type": "markdown",
   "id": "9d9efb20",
   "metadata": {},
   "source": [
    "Description:\n",
    "\n",
    "In this little assignment you are given a string of space separated numbers, and have to return the highest and lowest number.\n",
    "Examples\n",
    "\n",
    "high_and_low(\"1 2 3 4 5\")  # return \"5 1\"\n",
    "high_and_low(\"1 2 -3 4 5\") # return \"5 -3\"\n",
    "high_and_low(\"1 9 3 4 -5\") # return \"9 -5\"\n",
    "\n",
    "Notes\n",
    "\n",
    "    All numbers are valid Int32, no need to validate them.\n",
    "    There will always be at least one number in the input string.\n",
    "    Output string must be two numbers separated by a single space, and highest number is first.\n",
    "\n"
   ]
  },
  {
   "cell_type": "code",
   "execution_count": 64,
   "id": "1b5e6ac0",
   "metadata": {},
   "outputs": [],
   "source": [
    "def high_and_low(numbers):\n",
    "    \n",
    "    number_list = numbers.split() \n",
    "\n",
    "    numbers_int = []\n",
    "\n",
    "    for number in number_list:\n",
    "        number = int(number)\n",
    "        numbers_int.append(number)\n",
    "    \n",
    "    number_max = max(numbers_int)\n",
    "    number_min = min(numbers_int)\n",
    "    \n",
    "    numbers = f'{number_max} {number_min}'\n",
    "    \n",
    "    return numbers\n"
   ]
  },
  {
   "cell_type": "code",
   "execution_count": 65,
   "id": "b08e4f8c",
   "metadata": {},
   "outputs": [
    {
     "data": {
      "text/plain": [
       "[1, 2, 3, 4, 5]"
      ]
     },
     "execution_count": 65,
     "metadata": {},
     "output_type": "execute_result"
    }
   ],
   "source": [
    "# Scratch work\n",
    "numbers = \"1 2 3 4 5\"\n",
    "\n",
    "number_list = numbers.split() \n",
    "\n",
    "numbers_int = []\n",
    "\n",
    "for number in number_list:\n",
    "    number = int(number)\n",
    "    numbers_int.append(number)\n",
    "\n",
    "numbers_int"
   ]
  },
  {
   "cell_type": "code",
   "execution_count": 66,
   "id": "e83edb7d",
   "metadata": {},
   "outputs": [
    {
     "data": {
      "text/plain": [
       "'9 -5'"
      ]
     },
     "execution_count": 66,
     "metadata": {},
     "output_type": "execute_result"
    }
   ],
   "source": [
    "# Test\n",
    "high_and_low(\"1 2 3 4 5\")  # return \"5 1\"\n",
    "high_and_low(\"1 2 -3 4 5\") # return \"5 -3\"\n",
    "high_and_low(\"1 9 3 4 -5\") # return \"9 -5\"\n"
   ]
  },
  {
   "cell_type": "code",
   "execution_count": 63,
   "id": "567b5ff0",
   "metadata": {},
   "outputs": [
    {
     "data": {
      "text/plain": [
       "[1, 2, 3, 4, 5]"
      ]
     },
     "execution_count": 63,
     "metadata": {},
     "output_type": "execute_result"
    }
   ],
   "source": [
    "\n"
   ]
  },
  {
   "cell_type": "code",
   "execution_count": null,
   "id": "3ff07bd0",
   "metadata": {},
   "outputs": [],
   "source": []
  },
  {
   "cell_type": "code",
   "execution_count": null,
   "id": "01caae41",
   "metadata": {},
   "outputs": [],
   "source": []
  },
  {
   "cell_type": "code",
   "execution_count": null,
   "id": "b7e0e2b0",
   "metadata": {},
   "outputs": [],
   "source": []
  },
  {
   "cell_type": "code",
   "execution_count": null,
   "id": "e0a3fdd5",
   "metadata": {},
   "outputs": [],
   "source": []
  },
  {
   "cell_type": "code",
   "execution_count": null,
   "id": "ddb01265",
   "metadata": {},
   "outputs": [],
   "source": []
  },
  {
   "cell_type": "code",
   "execution_count": null,
   "id": "f33e1aef",
   "metadata": {},
   "outputs": [],
   "source": []
  },
  {
   "cell_type": "code",
   "execution_count": null,
   "id": "ac5cb9cd",
   "metadata": {},
   "outputs": [],
   "source": []
  },
  {
   "cell_type": "code",
   "execution_count": null,
   "id": "005d4c1e",
   "metadata": {},
   "outputs": [],
   "source": []
  },
  {
   "cell_type": "code",
   "execution_count": null,
   "id": "1ee5412c",
   "metadata": {},
   "outputs": [],
   "source": []
  },
  {
   "cell_type": "code",
   "execution_count": null,
   "id": "deeec723",
   "metadata": {},
   "outputs": [],
   "source": []
  },
  {
   "cell_type": "code",
   "execution_count": null,
   "id": "332cb1aa",
   "metadata": {},
   "outputs": [],
   "source": []
  },
  {
   "cell_type": "code",
   "execution_count": null,
   "id": "9dd3ff74",
   "metadata": {},
   "outputs": [],
   "source": []
  },
  {
   "cell_type": "code",
   "execution_count": null,
   "id": "5453739f",
   "metadata": {},
   "outputs": [],
   "source": []
  },
  {
   "cell_type": "code",
   "execution_count": null,
   "id": "cfa8448f",
   "metadata": {},
   "outputs": [],
   "source": []
  },
  {
   "cell_type": "code",
   "execution_count": null,
   "id": "d1edafc4",
   "metadata": {},
   "outputs": [],
   "source": []
  },
  {
   "cell_type": "code",
   "execution_count": null,
   "id": "bc14daac",
   "metadata": {},
   "outputs": [],
   "source": []
  },
  {
   "cell_type": "code",
   "execution_count": null,
   "id": "8a556330",
   "metadata": {},
   "outputs": [],
   "source": []
  },
  {
   "cell_type": "code",
   "execution_count": null,
   "id": "1a963b53",
   "metadata": {},
   "outputs": [],
   "source": []
  },
  {
   "cell_type": "code",
   "execution_count": null,
   "id": "945976fd",
   "metadata": {},
   "outputs": [],
   "source": []
  },
  {
   "cell_type": "code",
   "execution_count": null,
   "id": "613a3867",
   "metadata": {},
   "outputs": [],
   "source": []
  },
  {
   "cell_type": "code",
   "execution_count": null,
   "id": "273752eb",
   "metadata": {},
   "outputs": [],
   "source": []
  },
  {
   "cell_type": "code",
   "execution_count": null,
   "id": "fda7bbd5",
   "metadata": {},
   "outputs": [],
   "source": []
  },
  {
   "cell_type": "code",
   "execution_count": null,
   "id": "9cf41598",
   "metadata": {},
   "outputs": [],
   "source": []
  },
  {
   "cell_type": "code",
   "execution_count": null,
   "id": "828a0dd3",
   "metadata": {},
   "outputs": [],
   "source": []
  },
  {
   "cell_type": "code",
   "execution_count": null,
   "id": "8674d161",
   "metadata": {},
   "outputs": [],
   "source": []
  },
  {
   "cell_type": "code",
   "execution_count": null,
   "id": "253f8d34",
   "metadata": {},
   "outputs": [],
   "source": []
  },
  {
   "cell_type": "code",
   "execution_count": null,
   "id": "9066bf36",
   "metadata": {},
   "outputs": [],
   "source": []
  },
  {
   "cell_type": "code",
   "execution_count": null,
   "id": "e76c4e08",
   "metadata": {},
   "outputs": [],
   "source": []
  },
  {
   "cell_type": "code",
   "execution_count": null,
   "id": "0c1510f7",
   "metadata": {},
   "outputs": [],
   "source": []
  },
  {
   "cell_type": "code",
   "execution_count": null,
   "id": "c95e5133",
   "metadata": {},
   "outputs": [],
   "source": []
  },
  {
   "cell_type": "code",
   "execution_count": null,
   "id": "3ae91254",
   "metadata": {},
   "outputs": [],
   "source": []
  },
  {
   "cell_type": "code",
   "execution_count": null,
   "id": "b92e1680",
   "metadata": {},
   "outputs": [],
   "source": []
  },
  {
   "cell_type": "code",
   "execution_count": null,
   "id": "31366cab",
   "metadata": {},
   "outputs": [],
   "source": []
  },
  {
   "cell_type": "code",
   "execution_count": null,
   "id": "781da4bc",
   "metadata": {},
   "outputs": [],
   "source": []
  },
  {
   "cell_type": "code",
   "execution_count": null,
   "id": "6d27d7ab",
   "metadata": {},
   "outputs": [],
   "source": []
  },
  {
   "cell_type": "code",
   "execution_count": null,
   "id": "c42d6e1b",
   "metadata": {},
   "outputs": [],
   "source": []
  },
  {
   "cell_type": "code",
   "execution_count": null,
   "id": "84e4d038",
   "metadata": {},
   "outputs": [],
   "source": []
  },
  {
   "cell_type": "code",
   "execution_count": null,
   "id": "aa9a3018",
   "metadata": {},
   "outputs": [],
   "source": []
  },
  {
   "cell_type": "code",
   "execution_count": null,
   "id": "e8fafe75",
   "metadata": {},
   "outputs": [],
   "source": []
  },
  {
   "cell_type": "code",
   "execution_count": null,
   "id": "603c6153",
   "metadata": {},
   "outputs": [],
   "source": []
  },
  {
   "cell_type": "code",
   "execution_count": null,
   "id": "cf06335a",
   "metadata": {},
   "outputs": [],
   "source": []
  },
  {
   "cell_type": "code",
   "execution_count": null,
   "id": "0c13c150",
   "metadata": {},
   "outputs": [],
   "source": []
  },
  {
   "cell_type": "code",
   "execution_count": null,
   "id": "74c3cdb3",
   "metadata": {},
   "outputs": [],
   "source": []
  },
  {
   "cell_type": "code",
   "execution_count": null,
   "id": "d9fd2491",
   "metadata": {},
   "outputs": [],
   "source": []
  },
  {
   "cell_type": "code",
   "execution_count": null,
   "id": "6e5bf635",
   "metadata": {},
   "outputs": [],
   "source": []
  },
  {
   "cell_type": "code",
   "execution_count": null,
   "id": "8738c557",
   "metadata": {},
   "outputs": [],
   "source": []
  },
  {
   "cell_type": "code",
   "execution_count": null,
   "id": "c0418522",
   "metadata": {},
   "outputs": [],
   "source": []
  },
  {
   "cell_type": "code",
   "execution_count": null,
   "id": "94df3194",
   "metadata": {},
   "outputs": [],
   "source": []
  },
  {
   "cell_type": "code",
   "execution_count": null,
   "id": "5e1e558d",
   "metadata": {},
   "outputs": [],
   "source": []
  },
  {
   "cell_type": "code",
   "execution_count": null,
   "id": "3c305eb1",
   "metadata": {},
   "outputs": [],
   "source": []
  },
  {
   "cell_type": "code",
   "execution_count": null,
   "id": "9a296cfa",
   "metadata": {},
   "outputs": [],
   "source": []
  },
  {
   "cell_type": "code",
   "execution_count": null,
   "id": "ddc308a7",
   "metadata": {},
   "outputs": [],
   "source": []
  },
  {
   "cell_type": "code",
   "execution_count": null,
   "id": "1a9ac383",
   "metadata": {},
   "outputs": [],
   "source": []
  },
  {
   "cell_type": "code",
   "execution_count": null,
   "id": "67b31c87",
   "metadata": {},
   "outputs": [],
   "source": []
  },
  {
   "cell_type": "code",
   "execution_count": null,
   "id": "624cde72",
   "metadata": {},
   "outputs": [],
   "source": []
  },
  {
   "cell_type": "code",
   "execution_count": null,
   "id": "27c19825",
   "metadata": {},
   "outputs": [],
   "source": []
  },
  {
   "cell_type": "code",
   "execution_count": null,
   "id": "90dd04be",
   "metadata": {},
   "outputs": [],
   "source": []
  },
  {
   "cell_type": "code",
   "execution_count": null,
   "id": "4d1f0520",
   "metadata": {},
   "outputs": [],
   "source": []
  },
  {
   "cell_type": "code",
   "execution_count": null,
   "id": "f694f3b8",
   "metadata": {},
   "outputs": [],
   "source": []
  },
  {
   "cell_type": "code",
   "execution_count": null,
   "id": "ddc0272f",
   "metadata": {},
   "outputs": [],
   "source": []
  },
  {
   "cell_type": "code",
   "execution_count": null,
   "id": "e973bc7e",
   "metadata": {},
   "outputs": [],
   "source": []
  },
  {
   "cell_type": "code",
   "execution_count": null,
   "id": "eb41aa5f",
   "metadata": {},
   "outputs": [],
   "source": []
  },
  {
   "cell_type": "code",
   "execution_count": null,
   "id": "8b35dad2",
   "metadata": {},
   "outputs": [],
   "source": []
  },
  {
   "cell_type": "code",
   "execution_count": null,
   "id": "ebd2dce1",
   "metadata": {},
   "outputs": [],
   "source": []
  },
  {
   "cell_type": "code",
   "execution_count": null,
   "id": "55d6f162",
   "metadata": {},
   "outputs": [],
   "source": []
  },
  {
   "cell_type": "code",
   "execution_count": null,
   "id": "a83365c7",
   "metadata": {},
   "outputs": [],
   "source": []
  },
  {
   "cell_type": "code",
   "execution_count": null,
   "id": "07d8711d",
   "metadata": {},
   "outputs": [],
   "source": []
  },
  {
   "cell_type": "code",
   "execution_count": null,
   "id": "ca6bce7e",
   "metadata": {},
   "outputs": [],
   "source": []
  },
  {
   "cell_type": "code",
   "execution_count": null,
   "id": "106f2d78",
   "metadata": {},
   "outputs": [],
   "source": []
  },
  {
   "cell_type": "code",
   "execution_count": null,
   "id": "2809d375",
   "metadata": {},
   "outputs": [],
   "source": []
  },
  {
   "cell_type": "code",
   "execution_count": null,
   "id": "225b75fd",
   "metadata": {},
   "outputs": [],
   "source": []
  },
  {
   "cell_type": "code",
   "execution_count": null,
   "id": "1904d770",
   "metadata": {},
   "outputs": [],
   "source": []
  },
  {
   "cell_type": "code",
   "execution_count": null,
   "id": "e8e004d9",
   "metadata": {},
   "outputs": [],
   "source": []
  }
 ],
 "metadata": {
  "kernelspec": {
   "display_name": "Python 3 (ipykernel)",
   "language": "python",
   "name": "python3"
  },
  "language_info": {
   "codemirror_mode": {
    "name": "ipython",
    "version": 3
   },
   "file_extension": ".py",
   "mimetype": "text/x-python",
   "name": "python",
   "nbconvert_exporter": "python",
   "pygments_lexer": "ipython3",
   "version": "3.9.13"
  },
  "toc": {
   "base_numbering": 1,
   "nav_menu": {},
   "number_sections": true,
   "sideBar": true,
   "skip_h1_title": false,
   "title_cell": "Table of Contents",
   "title_sidebar": "Contents",
   "toc_cell": false,
   "toc_position": {
    "height": "calc(100% - 180px)",
    "left": "10px",
    "top": "150px",
    "width": "165.6px"
   },
   "toc_section_display": true,
   "toc_window_display": false
  }
 },
 "nbformat": 4,
 "nbformat_minor": 5
}
