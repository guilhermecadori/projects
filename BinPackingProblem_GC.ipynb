{
 "cells": [
  {
   "cell_type": "markdown",
   "id": "ab140c8c",
   "metadata": {},
   "source": [
    "### Bin Packing Problem (1-Dimensional)\n",
    "\n",
    "**Author:** Guilherme Cadori\n",
    "\n",
    "**Date:** 06/04/2024\n"
   ]
  },
  {
   "cell_type": "markdown",
   "id": "418c8980",
   "metadata": {},
   "source": [
    "#### Problem Definition"
   ]
  },
  {
   "cell_type": "markdown",
   "id": "599ac030",
   "metadata": {},
   "source": [
    "![BinPacking](https://github.com/guilhermecadori/imagesRepo/blob/main/BinPackingProblem.png?raw=true)\n"
   ]
  },
  {
   "cell_type": "markdown",
   "id": "35a3ef92",
   "metadata": {},
   "source": [
    "#### Implementation"
   ]
  },
  {
   "cell_type": "code",
   "execution_count": 1,
   "id": "d559c7a5",
   "metadata": {},
   "outputs": [],
   "source": [
    "# Importing supporting libraries\n",
    "import gurobipy as gp\n",
    "from gurobipy import GRB\n",
    "import numpy as np\n"
   ]
  },
  {
   "cell_type": "code",
   "execution_count": 2,
   "id": "d0b4ff50",
   "metadata": {},
   "outputs": [
    {
     "name": "stdout",
     "output_type": "stream",
     "text": [
      "Set parameter Username\n",
      "Academic license - for non-commercial use only - expires 2024-09-27\n",
      "Gurobi Optimizer version 10.0.3 build v10.0.3rc0 (win64)\n",
      "\n",
      "CPU model: 11th Gen Intel(R) Core(TM) i7-1165G7 @ 2.80GHz, instruction set [SSE2|AVX|AVX2|AVX512]\n",
      "Thread count: 4 physical cores, 8 logical processors, using up to 8 threads\n",
      "\n",
      "Optimize a model with 13 rows, 48 columns and 88 nonzeros\n",
      "Model fingerprint: 0x069ca1f3\n",
      "Variable types: 0 continuous, 48 integer (48 binary)\n",
      "Coefficient statistics:\n",
      "  Matrix range     [1e+00, 1e+01]\n",
      "  Objective range  [1e+00, 1e+00]\n",
      "  Bounds range     [1e+00, 1e+00]\n",
      "  RHS range        [1e+00, 1e+00]\n",
      "Found heuristic solution: objective 4.0000000\n",
      "Presolve time: 0.00s\n",
      "Presolved: 13 rows, 48 columns, 88 nonzeros\n",
      "Variable types: 0 continuous, 48 integer (48 binary)\n",
      "\n",
      "Root relaxation: objective 1.416667e+00, 30 iterations, 0.00 seconds (0.00 work units)\n",
      "\n",
      "    Nodes    |    Current Node    |     Objective Bounds      |     Work\n",
      " Expl Unexpl |  Obj  Depth IntInf | Incumbent    BestBd   Gap | It/Node Time\n",
      "\n",
      "     0     0    1.41667    0    3    4.00000    1.41667  64.6%     -    0s\n",
      "H    0     0                       2.0000000    1.41667  29.2%     -    0s\n",
      "     0     0    1.41667    0    3    2.00000    1.41667  29.2%     -    0s\n",
      "\n",
      "Explored 1 nodes (30 simplex iterations) in 0.02 seconds (0.00 work units)\n",
      "Thread count was 8 (of 8 available processors)\n",
      "\n",
      "Solution count 2: 2 4 \n",
      "\n",
      "Optimal solution found (tolerance 1.00e-04)\n",
      "Best objective 2.000000000000e+00, best bound 2.000000000000e+00, gap 0.0000%\n"
     ]
    }
   ],
   "source": [
    "# Creating data\n",
    "items = list(range(5))\n",
    "items_size = np.array([3, 2, 5, 4, 3])\n",
    "bins = list(range(8))\n",
    "bins_capacity = np.array([10, 12, 8, 9, 6, 12, 9, 8])\n",
    "\n",
    "# Creating model object\n",
    "model = gp.Model('Bin Packing')\n",
    "\n",
    "\n",
    "# Creating decision variables\n",
    "x = model.addVars(items, bins, vtype=GRB.BINARY, name=f'x_{items}_{bins}')\n",
    "y = model.addVars(bins, vtype=GRB.BINARY, name=f'y_{bins}')\n",
    "\n",
    "\n",
    "# Creating Objective Function\n",
    "# Generator expression\n",
    "Objective = gp.quicksum(y[j] for j in bins)\n",
    "\n",
    "# Objective function\n",
    "model.setObjective(Objective, sense=GRB.MINIMIZE)\n",
    "\n",
    "\n",
    "# Creating constraints\n",
    "# Capacity constraint: ensuring items do not exceed bin capacity\n",
    "c1 = model.addConstrs((gp.quicksum(items_size[i] * x[i, j] for i in items) <= bins_capacity[j] * y[j] for j in bins), \n",
    "                                   name='Capacity Constraint')\n",
    "\n",
    "# Assignment constraint: each item must be packed in exactly one bin\n",
    "c2 = model.addConstrs((gp.quicksum(x[i, j] for j in bins) == 1 for i in items), \n",
    "                       name='Assignment Constraint')\n",
    "\n",
    "\n",
    "# Updating model after making changes to it\n",
    "model.update()\n",
    "\n",
    "\n",
    "# Solving the model\n",
    "model.optimize()\n"
   ]
  },
  {
   "cell_type": "code",
   "execution_count": 3,
   "id": "49ea2eff",
   "metadata": {},
   "outputs": [
    {
     "name": "stdout",
     "output_type": "stream",
     "text": [
      "Item 1 was assigned to Bin 2\n",
      "Item 2 was assigned to Bin 2\n",
      "Item 3 was assigned to Bin 7\n",
      "Item 4 was assigned to Bin 2\n",
      "Item 5 was assigned to Bin 2\n"
     ]
    }
   ],
   "source": [
    "# Review results\n",
    "for i in items:\n",
    "    for j in bins:\n",
    "        if x[i, j].X > 0.5:\n",
    "            print(f'Item {i+1} was assigned to Bin {j+1}')\n"
   ]
  },
  {
   "cell_type": "markdown",
   "id": "81fd63b4",
   "metadata": {},
   "source": [
    "***\n",
    "**End**\n",
    "***"
   ]
  }
 ],
 "metadata": {
  "kernelspec": {
   "display_name": "Python 3 (ipykernel)",
   "language": "python",
   "name": "python3"
  },
  "language_info": {
   "codemirror_mode": {
    "name": "ipython",
    "version": 3
   },
   "file_extension": ".py",
   "mimetype": "text/x-python",
   "name": "python",
   "nbconvert_exporter": "python",
   "pygments_lexer": "ipython3",
   "version": "3.9.13"
  }
 },
 "nbformat": 4,
 "nbformat_minor": 5
}
