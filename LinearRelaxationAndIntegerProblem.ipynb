{
 "cells": [
  {
   "cell_type": "markdown",
   "id": "3e024c2a",
   "metadata": {},
   "source": [
    "### Linear Relaxation"
   ]
  },
  {
   "cell_type": "code",
   "execution_count": 1,
   "id": "1280b646",
   "metadata": {},
   "outputs": [],
   "source": [
    "import gurobipy as gp"
   ]
  },
  {
   "cell_type": "code",
   "execution_count": 2,
   "id": "523c1fc3",
   "metadata": {},
   "outputs": [
    {
     "name": "stdout",
     "output_type": "stream",
     "text": [
      "Set parameter Username\n",
      "Academic license - for non-commercial use only - expires 2024-03-07\n"
     ]
    }
   ],
   "source": [
    "m = gp.Model()"
   ]
  },
  {
   "cell_type": "code",
   "execution_count": 3,
   "id": "86d48a7e",
   "metadata": {},
   "outputs": [],
   "source": [
    "x1 = m.addVar(vtype=gp.GRB.CONTINUOUS, name='x1')\n",
    "x2 = m.addVar(vtype=gp.GRB.CONTINUOUS, name='x2')"
   ]
  },
  {
   "cell_type": "code",
   "execution_count": 4,
   "id": "ea4094d3",
   "metadata": {},
   "outputs": [
    {
     "data": {
      "text/plain": [
       "<gurobi.Constr *Awaiting Model Update*>"
      ]
     },
     "execution_count": 4,
     "metadata": {},
     "output_type": "execute_result"
    }
   ],
   "source": [
    "m.addConstr(x1 + x2 <= 16)\n",
    "m.addConstr(x2 <= 7.5)"
   ]
  },
  {
   "cell_type": "code",
   "execution_count": 5,
   "id": "e486a2a8",
   "metadata": {},
   "outputs": [],
   "source": [
    "m.setObjective(3 * x1 + 5 * x2, \n",
    "               sense=gp.GRB.MAXIMIZE)"
   ]
  },
  {
   "cell_type": "code",
   "execution_count": 6,
   "id": "ea17a45c",
   "metadata": {},
   "outputs": [
    {
     "name": "stdout",
     "output_type": "stream",
     "text": [
      "Gurobi Optimizer version 10.0.1 build v10.0.1rc0 (win64)\n",
      "\n",
      "CPU model: 11th Gen Intel(R) Core(TM) i5-1135G7 @ 2.40GHz, instruction set [SSE2|AVX|AVX2|AVX512]\n",
      "Thread count: 4 physical cores, 8 logical processors, using up to 8 threads\n",
      "\n",
      "Optimize a model with 2 rows, 2 columns and 3 nonzeros\n",
      "Model fingerprint: 0x268d88f7\n",
      "Coefficient statistics:\n",
      "  Matrix range     [1e+00, 1e+00]\n",
      "  Objective range  [3e+00, 5e+00]\n",
      "  Bounds range     [0e+00, 0e+00]\n",
      "  RHS range        [8e+00, 2e+01]\n",
      "Presolve removed 2 rows and 2 columns\n",
      "Presolve time: 0.00s\n",
      "Presolve: All rows and columns removed\n",
      "Iteration    Objective       Primal Inf.    Dual Inf.      Time\n",
      "       0    6.3000000e+01   0.000000e+00   0.000000e+00      0s\n",
      "\n",
      "Solved in 0 iterations and 0.01 seconds (0.00 work units)\n",
      "Optimal objective  6.300000000e+01\n"
     ]
    }
   ],
   "source": [
    "m.optimize()"
   ]
  },
  {
   "cell_type": "code",
   "execution_count": 10,
   "id": "41639b13",
   "metadata": {},
   "outputs": [
    {
     "name": "stdout",
     "output_type": "stream",
     "text": [
      "Valor Objetivo: 63.0\n",
      "x1: 8.5\n",
      "x2: 7.5\n"
     ]
    }
   ],
   "source": [
    "# Conferindo o valor da função objetivo\n",
    "print(\"Valor Objetivo:\", m.objVal)\n",
    "\n",
    "# Conferindo as variáveis de decisão\n",
    "for var in m.getVars():\n",
    "    if var.x > 0:\n",
    "        print(var.VarName,\": \", var.x, sep=\"\")\n"
   ]
  },
  {
   "cell_type": "markdown",
   "id": "3c1a506a",
   "metadata": {},
   "source": [
    "### Integer Problem"
   ]
  },
  {
   "cell_type": "code",
   "execution_count": 16,
   "id": "50ef1d25",
   "metadata": {},
   "outputs": [
    {
     "name": "stdout",
     "output_type": "stream",
     "text": [
      "Gurobi Optimizer version 10.0.1 build v10.0.1rc0 (win64)\n",
      "\n",
      "CPU model: 11th Gen Intel(R) Core(TM) i5-1135G7 @ 2.40GHz, instruction set [SSE2|AVX|AVX2|AVX512]\n",
      "Thread count: 4 physical cores, 8 logical processors, using up to 8 threads\n",
      "\n",
      "Optimize a model with 2 rows, 2 columns and 3 nonzeros\n",
      "Model fingerprint: 0x26904337\n",
      "Variable types: 0 continuous, 2 integer (0 binary)\n",
      "Coefficient statistics:\n",
      "  Matrix range     [1e+00, 1e+00]\n",
      "  Objective range  [3e+00, 5e+00]\n",
      "  Bounds range     [0e+00, 0e+00]\n",
      "  RHS range        [8e+00, 2e+01]\n",
      "Found heuristic solution: objective 48.0000000\n",
      "Presolve removed 2 rows and 2 columns\n",
      "Presolve time: 0.01s\n",
      "Presolve: All rows and columns removed\n",
      "\n",
      "Explored 0 nodes (0 simplex iterations) in 0.01 seconds (0.00 work units)\n",
      "Thread count was 1 (of 8 available processors)\n",
      "\n",
      "Solution count 2: 62 48 \n",
      "\n",
      "Optimal solution found (tolerance 1.00e-04)\n",
      "Best objective 6.200000000000e+01, best bound 6.200000000000e+01, gap 0.0000%\n"
     ]
    }
   ],
   "source": [
    "m2.update()\n",
    "\n",
    "m2 = gp.Model()\n",
    "\n",
    "x11 = m2.addVar(vtype=gp.GRB.INTEGER, name='x11')\n",
    "x22 = m2.addVar(vtype=gp.GRB.INTEGER, name='x22')\n",
    "\n",
    "m2.addConstr(x11 + x22 <= 16)\n",
    "m2.addConstr(x22 <= 7.5)\n",
    "\n",
    "m2.setObjective(3 * x11 + 5 * x22, \n",
    "               sense=gp.GRB.MAXIMIZE)\n",
    "\n",
    "m2.optimize()"
   ]
  },
  {
   "cell_type": "code",
   "execution_count": 19,
   "id": "6bda87d8",
   "metadata": {},
   "outputs": [
    {
     "name": "stdout",
     "output_type": "stream",
     "text": [
      "Valor Objetivo: 62.0\n",
      "x11: 9.0\n",
      "x22: 7.0\n"
     ]
    }
   ],
   "source": [
    "# Conferindo o valor da função objetivo\n",
    "print(\"Valor Objetivo:\", m2.objVal)\n",
    "\n",
    "# Conferindo as variáveis de decisão\n",
    "for var2 in m2.getVars():\n",
    "    if var2.x > 0:\n",
    "        print(var2.VarName,\": \", var2.x, sep=\"\")\n"
   ]
  },
  {
   "cell_type": "markdown",
   "id": "64be44da",
   "metadata": {},
   "source": [
    "### Fim"
   ]
  }
 ],
 "metadata": {
  "kernelspec": {
   "display_name": "Python 3 (ipykernel)",
   "language": "python",
   "name": "python3"
  },
  "language_info": {
   "codemirror_mode": {
    "name": "ipython",
    "version": 3
   },
   "file_extension": ".py",
   "mimetype": "text/x-python",
   "name": "python",
   "nbconvert_exporter": "python",
   "pygments_lexer": "ipython3",
   "version": "3.9.13"
  }
 },
 "nbformat": 4,
 "nbformat_minor": 5
}
