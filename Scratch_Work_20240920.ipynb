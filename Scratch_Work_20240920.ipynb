{
 "cells": [
  {
   "cell_type": "markdown",
   "id": "2a26692b",
   "metadata": {},
   "source": [
    "## Python Practice\n"
   ]
  },
  {
   "cell_type": "markdown",
   "id": "aec8d802",
   "metadata": {},
   "source": [
    "### Code Wars"
   ]
  },
  {
   "cell_type": "markdown",
   "id": "920f1436",
   "metadata": {},
   "source": [
    "Complete the solution so that it returns true if the first argument(string) passed in ends with the 2nd argument (also a string).\n",
    "\n",
    "Examples:\n",
    "\n",
    "    solution('abc', 'bc') # returns true\n",
    "\n",
    "    solution('abc', 'd') # returns false\n"
   ]
  },
  {
   "cell_type": "code",
   "execution_count": 36,
   "id": "dc44dc51",
   "metadata": {},
   "outputs": [],
   "source": [
    "def solution(text, ending):\n",
    "    \n",
    "    arg_len = len(ending)\n",
    "    \n",
    "    text_end = text[-arg_len:]\n",
    "    \n",
    "    if text_end == ending:\n",
    "        \n",
    "        return True\n",
    "    else:\n",
    "         return False\n",
    "    \n",
    "    return    \n"
   ]
  },
  {
   "cell_type": "code",
   "execution_count": 37,
   "id": "2230b709",
   "metadata": {},
   "outputs": [
    {
     "name": "stdout",
     "output_type": "stream",
     "text": [
      "True\n",
      "False\n"
     ]
    }
   ],
   "source": [
    "text = 'abc'\n",
    "ending = ['bc', 'd']\n",
    "\n",
    "for end in ending:\n",
    "    print(solution(text, end))\n",
    "    "
   ]
  },
  {
   "cell_type": "code",
   "execution_count": 38,
   "id": "e2aa84ec",
   "metadata": {},
   "outputs": [
    {
     "name": "stdout",
     "output_type": "stream",
     "text": [
      "2\n",
      "bc\n"
     ]
    }
   ],
   "source": [
    "arg_len = len(ending)   \n",
    "text_end = text[-arg_len:]\n",
    "\n",
    "print(arg_len)\n",
    "print(text_end)\n"
   ]
  },
  {
   "cell_type": "code",
   "execution_count": 39,
   "id": "6d64d91f",
   "metadata": {},
   "outputs": [
    {
     "name": "stdout",
     "output_type": "stream",
     "text": [
      "True\n"
     ]
    }
   ],
   "source": [
    "print(solution('abc', 'bc'))\n"
   ]
  },
  {
   "cell_type": "markdown",
   "id": "b2cc60be",
   "metadata": {},
   "source": [
    "Welcome. In this kata, you are asked to square every digit of a number and concatenate them.\n",
    "\n",
    "For example, if we run 9119 through the function, 811181 will come out, because 92 is 81 and 12 is 1. (81-1-1-81)\n",
    "\n",
    "Example #2: An input of 765 will/should return 493625 because 72 is 49, 62 is 36, and 52 is 25. (49-36-25)\n",
    "\n",
    "Note: The function accepts an integer and returns an integer.\n",
    "\n",
    "Happy Coding!\n"
   ]
  },
  {
   "cell_type": "code",
   "execution_count": 41,
   "id": "0b8e5682",
   "metadata": {},
   "outputs": [],
   "source": [
    "def square_digits(num):\n",
    "    \n",
    "    pass\n",
    "\n"
   ]
  },
  {
   "cell_type": "code",
   "execution_count": 71,
   "id": "e325392b",
   "metadata": {},
   "outputs": [],
   "source": [
    "def square_digits(num):\n",
    "    num_list = []\n",
    "    str_list = []\n",
    "    num = str(num)\n",
    "    \n",
    "    for i in num:\n",
    "        i = int(i)\n",
    "        i = i**2\n",
    "        num_list.append(i)\n",
    "        \n",
    "    for num in num_list:\n",
    "        num = str(num)\n",
    "        str_list.append(num)\n",
    "    \n",
    "    result = ''.join(str_list)\n",
    "    result = int(result)\n",
    "    \n",
    "    return result\n",
    "\n"
   ]
  },
  {
   "cell_type": "code",
   "execution_count": 72,
   "id": "042b4559",
   "metadata": {},
   "outputs": [
    {
     "name": "stdout",
     "output_type": "stream",
     "text": [
      "811181\n",
      "493625\n"
     ]
    }
   ],
   "source": [
    "num_1 = 9119\n",
    "num_2 = 765\n",
    "\n",
    "print(square_digits(num_1))\n",
    "print(square_digits(num_2))\n"
   ]
  },
  {
   "cell_type": "markdown",
   "id": "0f582213",
   "metadata": {},
   "source": [
    "***\n",
    "**End**\n",
    "***"
   ]
  }
 ],
 "metadata": {
  "kernelspec": {
   "display_name": "Python 3 (ipykernel)",
   "language": "python",
   "name": "python3"
  },
  "language_info": {
   "codemirror_mode": {
    "name": "ipython",
    "version": 3
   },
   "file_extension": ".py",
   "mimetype": "text/x-python",
   "name": "python",
   "nbconvert_exporter": "python",
   "pygments_lexer": "ipython3",
   "version": "3.9.13"
  },
  "toc": {
   "base_numbering": 1,
   "nav_menu": {},
   "number_sections": true,
   "sideBar": true,
   "skip_h1_title": false,
   "title_cell": "Table of Contents",
   "title_sidebar": "Contents",
   "toc_cell": false,
   "toc_position": {
    "height": "calc(100% - 180px)",
    "left": "10px",
    "top": "150px",
    "width": "165.6px"
   },
   "toc_section_display": true,
   "toc_window_display": false
  }
 },
 "nbformat": 4,
 "nbformat_minor": 5
}
